{
 "cells": [
  {
   "cell_type": "markdown",
   "id": "7c1ebf83-f86a-4c97-b51f-c66028915df9",
   "metadata": {},
   "source": [
    "1. Write a Python program to print the numbers from 1 to 10 using a `for` loop."
   ]
  },
  {
   "cell_type": "code",
   "execution_count": 1,
   "id": "e55c11fd-1e1a-4ebb-81eb-c457aa97e609",
   "metadata": {},
   "outputs": [
    {
     "name": "stdout",
     "output_type": "stream",
     "text": [
      "1\n",
      "2\n",
      "3\n",
      "4\n",
      "5\n",
      "6\n",
      "7\n",
      "8\n",
      "9\n",
      "10\n"
     ]
    }
   ],
   "source": [
    "for i in range(1,11):\n",
    "    print(i)"
   ]
  },
  {
   "cell_type": "markdown",
   "id": "6259afbb-16c7-4cd0-865e-5ba8872ddd27",
   "metadata": {},
   "source": [
    "2. Create a program that calculates the sum of all numbers in a list using a `for` loop."
   ]
  },
  {
   "cell_type": "code",
   "execution_count": 2,
   "id": "d16b0d92-c5ec-40f0-9e2c-985f8b9613d6",
   "metadata": {},
   "outputs": [
    {
     "name": "stdout",
     "output_type": "stream",
     "text": [
      "55\n"
     ]
    }
   ],
   "source": [
    "l1 = [1,2,3,44,5]\n",
    "a = 0\n",
    "for i in l1:\n",
    "    a = a + i\n",
    "print(a)"
   ]
  },
  {
   "cell_type": "markdown",
   "id": "c0cb48a5-d047-4477-91bc-626b115ff0c4",
   "metadata": {},
   "source": [
    "3. Write a program to print the characters of a string in reverse order using a `for` loop."
   ]
  },
  {
   "cell_type": "code",
   "execution_count": 5,
   "id": "02ce99d5-6346-474a-87b4-94ee42dabae9",
   "metadata": {},
   "outputs": [
    {
     "name": "stdout",
     "output_type": "stream",
     "text": [
      "sarap"
     ]
    }
   ],
   "source": [
    "s = \"paras\"\n",
    "for i in s[::-1]:\n",
    "    print(i,end=\"\")"
   ]
  },
  {
   "cell_type": "markdown",
   "id": "d44e2d3a-8fec-442e-958f-14e790477f53",
   "metadata": {},
   "source": [
    "4. Develop a program that finds the factorial of a given number using a `for` loop."
   ]
  },
  {
   "cell_type": "code",
   "execution_count": 2,
   "id": "fd1413b0-40ac-4fa2-8270-5a450dc9e422",
   "metadata": {},
   "outputs": [
    {
     "name": "stdout",
     "output_type": "stream",
     "text": [
      "120\n"
     ]
    }
   ],
   "source": [
    "n = 5\n",
    "fact = 1\n",
    "for i in range(1,n+1):\n",
    "    fact = fact*i\n",
    "print(fact)"
   ]
  },
  {
   "cell_type": "markdown",
   "id": "93b68bd8-ff50-41e2-be7a-ffd9a5dc5044",
   "metadata": {},
   "source": [
    "5. Create a program to print the multiplication table of a given number using a `for` loop."
   ]
  },
  {
   "cell_type": "code",
   "execution_count": 15,
   "id": "0012ed9c-589d-4333-a855-54e216e4cb2e",
   "metadata": {},
   "outputs": [
    {
     "name": "stdout",
     "output_type": "stream",
     "text": [
      "5 x 1 = 5\n",
      "5 x 2 = 10\n",
      "5 x 3 = 15\n",
      "5 x 4 = 20\n",
      "5 x 5 = 25\n",
      "5 x 6 = 30\n",
      "5 x 7 = 35\n",
      "5 x 8 = 40\n",
      "5 x 9 = 45\n",
      "5 x 10 = 50\n"
     ]
    }
   ],
   "source": [
    "n = 5\n",
    "for i in range(1,11):\n",
    "    print(f\"{n} x {i} = {n*i}\")"
   ]
  },
  {
   "cell_type": "markdown",
   "id": "39ed8567-369c-4529-8ec4-33022acc649e",
   "metadata": {},
   "source": [
    "6. Write a program that counts the number of even and odd numbers in a list using a `for` loop."
   ]
  },
  {
   "cell_type": "code",
   "execution_count": 16,
   "id": "a70f89f6-d5f7-47cc-9a34-c4594eec8d12",
   "metadata": {},
   "outputs": [
    {
     "name": "stdout",
     "output_type": "stream",
     "text": [
      " The number of even is:4 and odd is :5\n"
     ]
    }
   ],
   "source": [
    "l2 = [1,2,3,4,5,6,7,8,9]\n",
    "count_e=0\n",
    "count_o=0\n",
    "for i in l2:\n",
    "    if i%2 == 0:\n",
    "        count_e+=1\n",
    "    else:\n",
    "        count_o+=1\n",
    "print(f\" The number of even is:{count_e} and odd is :{count_o}\")"
   ]
  },
  {
   "cell_type": "markdown",
   "id": "afab4daa-9ee6-489d-93a4-f3739de0f7de",
   "metadata": {},
   "source": [
    "7. Develop a program that prints the squares of numbers from 1 to 5 using a `for` loop."
   ]
  },
  {
   "cell_type": "code",
   "execution_count": 17,
   "id": "54eeebb7-1a30-49f4-927d-b18f5bb81844",
   "metadata": {},
   "outputs": [
    {
     "name": "stdout",
     "output_type": "stream",
     "text": [
      "1\n",
      "4\n",
      "9\n",
      "16\n",
      "25\n"
     ]
    }
   ],
   "source": [
    "n=5\n",
    "for i in range(1,n+1):\n",
    "    print(i**2)"
   ]
  },
  {
   "cell_type": "markdown",
   "id": "43773069-1f7f-4c01-b40d-f3298a70c914",
   "metadata": {},
   "source": [
    "8. Create a program to find the length of a string without using the `len()` function."
   ]
  },
  {
   "cell_type": "code",
   "execution_count": 18,
   "id": "7da17e78-b7ca-4f7c-80ef-4e9a092dd18f",
   "metadata": {},
   "outputs": [
    {
     "name": "stdout",
     "output_type": "stream",
     "text": [
      "5\n"
     ]
    }
   ],
   "source": [
    "s1 = \"paras\"\n",
    "count = 0\n",
    "for i in s1:\n",
    "    count+=1\n",
    "print(count)"
   ]
  },
  {
   "cell_type": "markdown",
   "id": "09c8e485-a534-4ca7-a078-1f3a8669e0d8",
   "metadata": {},
   "source": [
    "9. Write a program that calculates the average of a list of numbers using a `for` loop."
   ]
  },
  {
   "cell_type": "code",
   "execution_count": 22,
   "id": "240ddec8-fdb2-4a7f-9421-706af97ac06a",
   "metadata": {},
   "outputs": [
    {
     "name": "stdout",
     "output_type": "stream",
     "text": [
      "36 4.5\n"
     ]
    }
   ],
   "source": [
    "l3 = [1,2,3,4,5,6,7,8]\n",
    "sum_1 = 0\n",
    "count = 0\n",
    "for i in l3:\n",
    "    sum_1 = sum_1 + i\n",
    "    count = count +1\n",
    "av = sum_1 / count\n",
    "print(sum_1 , av)"
   ]
  },
  {
   "cell_type": "markdown",
   "id": "9ea25802-c325-4076-a3e8-7edf2940f4c3",
   "metadata": {},
   "source": [
    "10. Develop a program that prints the first `n` Fibonacci numbers using a `for` loop."
   ]
  },
  {
   "cell_type": "code",
   "execution_count": 37,
   "id": "84f85e03-1fd1-4ed1-a197-25d6feb05570",
   "metadata": {},
   "outputs": [
    {
     "name": "stdout",
     "output_type": "stream",
     "text": [
      "[0, 1, 1]\n"
     ]
    }
   ],
   "source": [
    "def fibonacci_series(n):\n",
    "    fib_sequence = [0,1]\n",
    "    if n<=0:\n",
    "        print(\"please enter positive number.\")\n",
    "    if n==1:\n",
    "        print(fib_sequence[0])\n",
    "    if n==2:\n",
    "        print(fib_sequence[1])\n",
    "        \n",
    "    for i in range(2,n):\n",
    "        next_fibonnaci = fib_sequence[i-1] + fib_sequence[i-2]\n",
    "        fib_sequence.append(next_fibonnaci)\n",
    "        print(fib_sequence)\n",
    "    \n",
    "n=3\n",
    "fibonacci_series(n)"
   ]
  },
  {
   "cell_type": "markdown",
   "id": "6403e8d1-7de7-414f-9844-bc5767929905",
   "metadata": {},
   "source": [
    "11. Write a program to check if a given list contains any duplicates using a `for` loop."
   ]
  },
  {
   "cell_type": "code",
   "execution_count": 6,
   "id": "27c2cf5f-771c-40e6-9ab5-fd142950f668",
   "metadata": {},
   "outputs": [
    {
     "name": "stdout",
     "output_type": "stream",
     "text": [
      "False\n"
     ]
    }
   ],
   "source": [
    "l3 = [1,2,3,5,6,7]\n",
    "\n",
    "def chk_dup(l):\n",
    "    _size = len(l)\n",
    "    for i in range(_size):\n",
    "        k = i + 1\n",
    "        for j in range(k,_size):\n",
    "            if l[i] == l[j]:\n",
    "                return True\n",
    "        return False\n",
    "\n",
    "print(chk_dup(l3))\n",
    "    "
   ]
  },
  {
   "cell_type": "markdown",
   "id": "605a3f31-2470-40f3-9003-a2bf47850291",
   "metadata": {},
   "source": [
    "12. Create a program that prints the prime numbers in a given range using a `for` loop."
   ]
  },
  {
   "cell_type": "code",
   "execution_count": 4,
   "id": "01afc09b-f0ff-4e30-855f-537f9c695c5c",
   "metadata": {},
   "outputs": [
    {
     "name": "stdout",
     "output_type": "stream",
     "text": [
      "Prime numbers between : 10 and 60\n",
      "11 13 17 19 23 29 31 37 41 43 47 53 59 "
     ]
    }
   ],
   "source": [
    "def chk_prime(n):\n",
    "    if n<=1:\n",
    "        return False\n",
    "    if n == 2:\n",
    "        return True\n",
    "    if n%2 == 0:\n",
    "        return False\n",
    "    sqrt_num = int(n ** 0.5) + 1\n",
    "    for i in range(3 , sqrt_num , 2):\n",
    "        if n % i == 0:\n",
    "            return False\n",
    "    return True\n",
    "\n",
    "def chk_print_prime(start,end):\n",
    "    for num in range(start,end+1):\n",
    "        if chk_prime(num):\n",
    "            print(num,end = \" \")\n",
    "\n",
    "start_range = 10\n",
    "end_range = 60\n",
    "print(f\"Prime numbers between : {start_range} and {end_range}\")\n",
    "chk_print_prime(start_range,end_range)"
   ]
  },
  {
   "cell_type": "markdown",
   "id": "f2c9e270-9e95-4af9-a447-613b5d9a5365",
   "metadata": {},
   "source": [
    "13. Develop a program that counts the number of vowels in a string using a `for` loop."
   ]
  },
  {
   "cell_type": "code",
   "execution_count": 8,
   "id": "111adef0-f4c4-4f19-a435-07e0c4889850",
   "metadata": {},
   "outputs": [
    {
     "name": "stdout",
     "output_type": "stream",
     "text": [
      "7\n"
     ]
    }
   ],
   "source": [
    "def count_vowel(t):\n",
    "    vowels=\"aeiouAEIOU\"\n",
    "    count=0\n",
    "    for i in t:\n",
    "        if i in vowels:\n",
    "            count+=1\n",
    "    return count\n",
    "\n",
    "s=\"hello my name is peter\"\n",
    "print(count_vowel(s))"
   ]
  },
  {
   "cell_type": "markdown",
   "id": "c5fcfa8c-3461-4c8f-a3cf-15a503ca527f",
   "metadata": {},
   "source": [
    "14. Write a program to find the maximum element in a 2D list using a nested `for` loop."
   ]
  },
  {
   "cell_type": "code",
   "execution_count": 2,
   "id": "c6a9181e-d7cf-4952-8be0-25f6a54346f3",
   "metadata": {},
   "outputs": [
    {
     "name": "stdout",
     "output_type": "stream",
     "text": [
      "59\n"
     ]
    }
   ],
   "source": [
    "matrix = [\n",
    "    [3,4,59],\n",
    "    [1,5,8],\n",
    "    [9,8,7],\n",
    "    [1]\n",
    "]\n",
    "\n",
    "max_element = matrix[0][0]\n",
    "for row in matrix:\n",
    "    for elem in row:\n",
    "        if elem>max_element:\n",
    "            max_element = elem\n",
    "print(max_element)"
   ]
  },
  {
   "cell_type": "markdown",
   "id": "cb24c2b1-83fa-4c89-a808-048874da7ef6",
   "metadata": {},
   "source": [
    "15. Create a program that removes all occurrences of a specific element from a list using a `for` loop."
   ]
  },
  {
   "cell_type": "code",
   "execution_count": 10,
   "id": "893d06a8-c3f8-42e3-94d5-c1af10bcd4c0",
   "metadata": {},
   "outputs": [
    {
     "name": "stdout",
     "output_type": "stream",
     "text": [
      "[1, 3, 4, 5, 9]\n"
     ]
    }
   ],
   "source": [
    "my_list = [1,2,3,4,5,2,2,9,2]\n",
    "spec_elem = 2\n",
    "for i in range(len(my_list)-1,-1,-1):\n",
    "    if my_list[i] == spec_elem:\n",
    "        del my_list[i]\n",
    "        \n",
    "print(my_list)\n",
    "    "
   ]
  },
  {
   "cell_type": "markdown",
   "id": "18aba46b-d5d2-4add-9968-2d4181c303b6",
   "metadata": {},
   "source": [
    "16. Develop a program that generates a multiplication table for numbers from 1 to 5 using a nested `for` loop."
   ]
  },
  {
   "cell_type": "code",
   "execution_count": 2,
   "id": "65c74ad2-5b9c-4068-a487-2a9615b90c0a",
   "metadata": {},
   "outputs": [
    {
     "name": "stdout",
     "output_type": "stream",
     "text": [
      "1 * 1 = 1\n",
      "1 * 2 = 2\n",
      "1 * 3 = 3\n",
      "1 * 4 = 4\n",
      "1 * 5 = 5\n",
      "1 * 6 = 6\n",
      "1 * 7 = 7\n",
      "1 * 8 = 8\n",
      "1 * 9 = 9\n",
      "1 * 10 = 10\n",
      "\n",
      "2 * 1 = 2\n",
      "2 * 2 = 4\n",
      "2 * 3 = 6\n",
      "2 * 4 = 8\n",
      "2 * 5 = 10\n",
      "2 * 6 = 12\n",
      "2 * 7 = 14\n",
      "2 * 8 = 16\n",
      "2 * 9 = 18\n",
      "2 * 10 = 20\n",
      "\n",
      "3 * 1 = 3\n",
      "3 * 2 = 6\n",
      "3 * 3 = 9\n",
      "3 * 4 = 12\n",
      "3 * 5 = 15\n",
      "3 * 6 = 18\n",
      "3 * 7 = 21\n",
      "3 * 8 = 24\n",
      "3 * 9 = 27\n",
      "3 * 10 = 30\n",
      "\n",
      "4 * 1 = 4\n",
      "4 * 2 = 8\n",
      "4 * 3 = 12\n",
      "4 * 4 = 16\n",
      "4 * 5 = 20\n",
      "4 * 6 = 24\n",
      "4 * 7 = 28\n",
      "4 * 8 = 32\n",
      "4 * 9 = 36\n",
      "4 * 10 = 40\n",
      "\n",
      "5 * 1 = 5\n",
      "5 * 2 = 10\n",
      "5 * 3 = 15\n",
      "5 * 4 = 20\n",
      "5 * 5 = 25\n",
      "5 * 6 = 30\n",
      "5 * 7 = 35\n",
      "5 * 8 = 40\n",
      "5 * 9 = 45\n",
      "5 * 10 = 50\n",
      "\n"
     ]
    }
   ],
   "source": [
    "for i in range(1,6):\n",
    "    for j in range(1,11):\n",
    "        result = i * j\n",
    "        print(f\"{i} * {j} = {result}\")\n",
    "    print()\n"
   ]
  },
  {
   "cell_type": "markdown",
   "id": "19405f7b-edf0-4f11-86be-80725d8b264a",
   "metadata": {},
   "source": [
    "17. Write a program that converts a list of Fahrenheit temperatures to Celsius using a `for` loop."
   ]
  },
  {
   "cell_type": "code",
   "execution_count": 9,
   "id": "a137471d-64b9-4e98-9965-b7d35384d443",
   "metadata": {},
   "outputs": [
    {
     "name": "stdout",
     "output_type": "stream",
     "text": [
      "Feh temp: [23, 45, 43, 78, 56, 12, 56]\n",
      "celcius temp: [-5.0, 7.222222222222222, 6.111111111111111, 25.555555555555557, 13.333333333333334, -11.11111111111111, 13.333333333333334]\n"
     ]
    }
   ],
   "source": [
    "def fahren_cel(l1):\n",
    "    cel_temp = []\n",
    "    for temp in l1:\n",
    "        feh_con = (temp - 32)*5/9\n",
    "        cel_temp.append(feh_con)\n",
    "    return cel_temp\n",
    "\n",
    "fah_temperatures = [23,45,43,78,56,12,56]\n",
    "k = fahren_cel(fah_temperatures)\n",
    "print(\"Feh temp:\" , fah_temperatures)\n",
    "print(\"celcius temp:\" , k)"
   ]
  },
  {
   "cell_type": "markdown",
   "id": "4811bbfb-aa2a-4112-90fd-e636e11e3a07",
   "metadata": {},
   "source": [
    "18. Create a program to print the common elements from two lists using a `for` loop."
   ]
  },
  {
   "cell_type": "code",
   "execution_count": 12,
   "id": "14efeb99-5403-43e4-8218-ec0d10779831",
   "metadata": {},
   "outputs": [
    {
     "name": "stdout",
     "output_type": "stream",
     "text": [
      "[2, 4, 7]\n"
     ]
    }
   ],
   "source": [
    "l2 = [1,2,3,4,5,6,7]\n",
    "l3 = [8,9,10,2,4,7,77]\n",
    "common_elemnts = []\n",
    "\n",
    "for i in range(len(l2)):\n",
    "    for j in range(len(l3)):\n",
    "        if l2[i] == l3[j]:\n",
    "            common_elemnts.append(l2[i])\n",
    "            \n",
    "print(common_elemnts)"
   ]
  },
  {
   "cell_type": "markdown",
   "id": "6c62ab9a-0d16-4329-be73-2888d9faa6d5",
   "metadata": {},
   "source": [
    "19. Develop a program that prints the pattern of right-angled triangles using a `for` loop. Use ‘*’ to draw the\n",
    "pattern"
   ]
  },
  {
   "cell_type": "code",
   "execution_count": 19,
   "id": "9031a4b6-a08b-4420-8a7d-545c1dd7810f",
   "metadata": {},
   "outputs": [
    {
     "name": "stdout",
     "output_type": "stream",
     "text": [
      "* \n",
      "* * \n",
      "* * * \n",
      "* * * * \n",
      "* * * * * \n"
     ]
    }
   ],
   "source": [
    "for i in range(1,6):\n",
    "    for j in range(1,i+1):\n",
    "        print(\"*\",end=\" \")\n",
    "    print()"
   ]
  },
  {
   "cell_type": "markdown",
   "id": "035b6463-4b3f-499c-9f06-3a96ee9f8f4d",
   "metadata": {},
   "source": [
    "20. Write a program to find the greatest common divisor (GCD) of two numbers using a `for` loop."
   ]
  },
  {
   "cell_type": "code",
   "execution_count": 1,
   "id": "01f9a659-1df7-4dd2-86f1-26acadcb44da",
   "metadata": {},
   "outputs": [
    {
     "name": "stdin",
     "output_type": "stream",
     "text": [
      "Enter the first positive number 23\n",
      "Enter the second positive number 43\n"
     ]
    },
    {
     "name": "stdout",
     "output_type": "stream",
     "text": [
      "GCD is : 1\n"
     ]
    }
   ],
   "source": [
    "def computegcd(a,b):\n",
    "    if b==0: \n",
    "        return a\n",
    "    else:\n",
    "        return computegcd(b,a%b)\n",
    "    \n",
    "num1 = int(input(\"Enter the first positive number\"))\n",
    "num2 = int(input(\"Enter the second positive number\"))\n",
    "k = computegcd(num1,num2)\n",
    "print(\"GCD is :\", k)"
   ]
  },
  {
   "cell_type": "markdown",
   "id": "f74ad9a4-aae0-4d0a-994a-feb40da6fdc2",
   "metadata": {},
   "source": [
    "21. Create a program that calculates the sum of the digits of numbers in a list using a list comprehension."
   ]
  },
  {
   "cell_type": "code",
   "execution_count": 4,
   "id": "37e0a33b-3761-4e3f-ad22-6fe7fb84e44d",
   "metadata": {},
   "outputs": [
    {
     "name": "stdout",
     "output_type": "stream",
     "text": [
      "21\n"
     ]
    }
   ],
   "source": [
    "l1 = [1,2,3,4,5,6]\n",
    "a = sum([i for i in l1])\n",
    "print(a)"
   ]
  },
  {
   "cell_type": "markdown",
   "id": "aa878ae3-6f57-406b-b586-ea46372210ac",
   "metadata": {},
   "source": [
    "22. Write a program to find the prime factors of a given number using a `for` loop and list comprehension."
   ]
  },
  {
   "cell_type": "code",
   "execution_count": 3,
   "id": "96a7c7ad-bb47-42dc-ada0-ab1ec63bdf71",
   "metadata": {},
   "outputs": [
    {
     "name": "stdin",
     "output_type": "stream",
     "text": [
      "Enter the number: 123456\n"
     ]
    },
    {
     "name": "stdout",
     "output_type": "stream",
     "text": [
      "[2, 3, 643]\n"
     ]
    }
   ],
   "source": [
    "num=int(input(\"Enter the number:\"))\n",
    "prime_fact=[]\n",
    "for i in range(1,num+1):\n",
    "    if i == 1:\n",
    "        continue\n",
    "    if num%i==0:\n",
    "        flag=0\n",
    "        for j in range(2,i):\n",
    "            if i%j==0:\n",
    "                flag=1\n",
    "                break\n",
    "        if flag==0:\n",
    "            prime_fact.append(i)\n",
    "print(prime_fact)            \n",
    "\n",
    "            "
   ]
  },
  {
   "cell_type": "markdown",
   "id": "b9cb34dd-60f5-49f0-93b2-040e32a7ca90",
   "metadata": {},
   "source": [
    "23. Develop a program that extracts unique elements from a list and stores them in a new list using a list\n",
    "comprehension."
   ]
  },
  {
   "cell_type": "code",
   "execution_count": 4,
   "id": "063773ea-5adf-4c22-99ba-dc90b8d0bceb",
   "metadata": {},
   "outputs": [
    {
     "data": {
      "text/plain": [
       "[1, 2, 3, 4, 5]"
      ]
     },
     "execution_count": 4,
     "metadata": {},
     "output_type": "execute_result"
    }
   ],
   "source": [
    "l1 = [1,2,3,4,5,1,2,3]\n",
    "l2 = [num for num in set(l1) ]\n",
    "l2"
   ]
  },
  {
   "cell_type": "markdown",
   "id": "892e800d-347c-4420-8b1d-269ff158a0e6",
   "metadata": {},
   "source": [
    "24. Create a program that generates a list of all palindromic numbers up to a specified limit using a list\n",
    "comprehension."
   ]
  },
  {
   "cell_type": "code",
   "execution_count": 7,
   "id": "73e58a85-2cc9-401e-afee-98258ff537c2",
   "metadata": {},
   "outputs": [
    {
     "data": {
      "text/plain": [
       "[0, 1, 2, 3, 4, 5, 6, 7, 8, 9, 11, 22, 33, 44, 55, 66, 77, 88, 99]"
      ]
     },
     "execution_count": 7,
     "metadata": {},
     "output_type": "execute_result"
    }
   ],
   "source": [
    "def ispalindrome_chk(num1):\n",
    "    return str(num1) == str(num1)[::-1]\n",
    "\n",
    "def palindrome_generate(limit):\n",
    "    return [num for num in range(limit+1) if ispalindrome_chk(num)]\n",
    "\n",
    "limit = 100\n",
    "palindrome = palindrome_generate(limit)\n",
    "palindrome"
   ]
  },
  {
   "cell_type": "markdown",
   "id": "ed78c7d8-fef1-4cef-a9f0-3e647af8c708",
   "metadata": {},
   "source": [
    "25. Write a program to flatten a nested list using list comprehension."
   ]
  },
  {
   "cell_type": "code",
   "execution_count": 11,
   "id": "6c602123-639f-4d61-83c8-987ffce38be4",
   "metadata": {},
   "outputs": [
    {
     "ename": "TypeError",
     "evalue": "'int' object is not iterable",
     "output_type": "error",
     "traceback": [
      "\u001b[0;31m---------------------------------------------------------------------------\u001b[0m",
      "\u001b[0;31mTypeError\u001b[0m                                 Traceback (most recent call last)",
      "Cell \u001b[0;32mIn[11], line 4\u001b[0m\n\u001b[1;32m      2\u001b[0m finallist \u001b[38;5;241m=\u001b[39m []\n\u001b[1;32m      3\u001b[0m \u001b[38;5;28;01mfor\u001b[39;00m i \u001b[38;5;129;01min\u001b[39;00m nested_list:\n\u001b[0;32m----> 4\u001b[0m     \u001b[38;5;28;01mfor\u001b[39;00m j \u001b[38;5;129;01min\u001b[39;00m i:\n\u001b[1;32m      5\u001b[0m         finallist\u001b[38;5;241m.\u001b[39mappend(j)\n\u001b[1;32m      6\u001b[0m \u001b[38;5;28mprint\u001b[39m(finallist)\n",
      "\u001b[0;31mTypeError\u001b[0m: 'int' object is not iterable"
     ]
    }
   ],
   "source": [
    "nested_list = [[1,2,3],4,6,[8,5,6],5,8,9]\n",
    "finallist = []\n",
    "for i in nested_list:\n",
    "    for j in i:\n",
    "        finallist.append(j)\n",
    "print(finallist)"
   ]
  },
  {
   "cell_type": "code",
   "execution_count": 12,
   "id": "6a3832e4-db12-430e-9602-3011908e4256",
   "metadata": {},
   "outputs": [
    {
     "ename": "TypeError",
     "evalue": "'int' object is not iterable",
     "output_type": "error",
     "traceback": [
      "\u001b[0;31m---------------------------------------------------------------------------\u001b[0m",
      "\u001b[0;31mTypeError\u001b[0m                                 Traceback (most recent call last)",
      "Cell \u001b[0;32mIn[12], line 1\u001b[0m\n\u001b[0;32m----> 1\u001b[0m flattened \u001b[38;5;241m=\u001b[39m [num \u001b[38;5;28;01mfor\u001b[39;00m i \u001b[38;5;129;01min\u001b[39;00m nested_list \u001b[38;5;28;01mfor\u001b[39;00m num \u001b[38;5;129;01min\u001b[39;00m i]\n\u001b[1;32m      2\u001b[0m \u001b[38;5;28mprint\u001b[39m(flattened)\n",
      "Cell \u001b[0;32mIn[12], line 1\u001b[0m, in \u001b[0;36m<listcomp>\u001b[0;34m(.0)\u001b[0m\n\u001b[0;32m----> 1\u001b[0m flattened \u001b[38;5;241m=\u001b[39m [num \u001b[38;5;28;01mfor\u001b[39;00m i \u001b[38;5;129;01min\u001b[39;00m nested_list \u001b[38;5;28;01mfor\u001b[39;00m num \u001b[38;5;129;01min\u001b[39;00m i]\n\u001b[1;32m      2\u001b[0m \u001b[38;5;28mprint\u001b[39m(flattened)\n",
      "\u001b[0;31mTypeError\u001b[0m: 'int' object is not iterable"
     ]
    }
   ],
   "source": [
    "flattened = [num for i in nested_list for num in i]\n",
    "print(flattened)"
   ]
  },
  {
   "cell_type": "code",
   "execution_count": 2,
   "id": "365a86f0-3bd3-48c3-acfe-0d7ac869b1b2",
   "metadata": {},
   "outputs": [
    {
     "name": "stdout",
     "output_type": "stream",
     "text": [
      "[1, 2, 3, 4, [6], 8, 5, 6, 5, 8, 9]\n"
     ]
    }
   ],
   "source": [
    "def flattened_list(nest_list):\n",
    "    return [j for i in nest_list for j in (i if isinstance(i,list) else[i]) ]\n",
    "\n",
    "nested_list = [[1,2,3],[4,[6]],[8,5,6],5,8,9]\n",
    "flat = flattened_list(nested_list)\n",
    "print(flat)"
   ]
  },
  {
   "cell_type": "code",
   "execution_count": 4,
   "id": "fd478ff3-2680-40b5-9738-a337a5a3d1b0",
   "metadata": {},
   "outputs": [
    {
     "name": "stdout",
     "output_type": "stream",
     "text": [
      "[1, 2, 3, 4, [6], 8, 5, 6, 5, 8, 9]\n"
     ]
    }
   ],
   "source": [
    "def flattened_list(nest_list):\n",
    "    return [j for i in nest_list for j in (i if isinstance(i,list) else[i]) ]\n",
    "\n",
    "nested_list = [[1,2,3],[4,[6]],[8,5,6],5,8,9]\n",
    "flat = flattened_list(nested_list)\n",
    "print(flat)"
   ]
  },
  {
   "cell_type": "code",
   "execution_count": 8,
   "id": "0b271450-0296-4dc4-88b6-b664541cf349",
   "metadata": {},
   "outputs": [
    {
     "data": {
      "text/plain": [
       "[1, 2, 3, 4, 6, 8, 5, 1, 3, 4, 9, 4, 6, 7, 8, 6, 5, 8, 9]"
      ]
     },
     "execution_count": 8,
     "metadata": {},
     "output_type": "execute_result"
    }
   ],
   "source": [
    "nested_list = [[1,2,3],[4,[6]],[8,[5,1,3,4,[9,4,6,7,8]],6],5,8,9]\n",
    "def fletten_list(nested_list):\n",
    "    for item in nested_list:\n",
    "        if type(item) in [list]:\n",
    "            for num in fletten_list(item):\n",
    "                yield(num)\n",
    "        else:\n",
    "            yield(item)\n",
    "result1 = fletten_list(nested_list)\n",
    "list(result1)"
   ]
  },
  {
   "cell_type": "markdown",
   "id": "042b313b-5b2d-4a36-b895-cf45b7600997",
   "metadata": {},
   "source": [
    "26. Develop a program that computes the sum of even and odd numbers in a list separately using list\n",
    "comprehension."
   ]
  },
  {
   "cell_type": "code",
   "execution_count": 2,
   "id": "ee0e5df3-efc5-453d-b177-2cd5591aba6d",
   "metadata": {},
   "outputs": [
    {
     "name": "stdout",
     "output_type": "stream",
     "text": [
      "20 25\n"
     ]
    }
   ],
   "source": [
    "def sum_even_odd(l):\n",
    "    sum_even = sum([num for num in l if num%2==0])\n",
    "    sum_odd = sum([num for num in l if num%2!=0])\n",
    "    return sum_even,sum_odd\n",
    "\n",
    "l1 = [1,2,3,4,5,6,7,8,9]\n",
    "sum_even,sum_odd = sum_even_odd(l1)\n",
    "print(sum_even,sum_odd)"
   ]
  },
  {
   "cell_type": "markdown",
   "id": "de4cdce3-efef-4e22-9f44-148f5eb3941f",
   "metadata": {},
   "source": [
    "27. Create a program that generates a list of squares of odd numbers between 1 and 10 using list\n",
    "comprehension."
   ]
  },
  {
   "cell_type": "code",
   "execution_count": 3,
   "id": "e7ef3153-25db-4257-9239-0ec521a2315c",
   "metadata": {},
   "outputs": [
    {
     "name": "stdout",
     "output_type": "stream",
     "text": [
      "[1, 9, 25, 49, 81]\n"
     ]
    }
   ],
   "source": [
    "list_squares = [x**2 for x in range(1,11) if x%2!=0]\n",
    "print(list_squares)"
   ]
  },
  {
   "cell_type": "markdown",
   "id": "94821f83-4b29-4a04-8b2f-73f96c52326d",
   "metadata": {},
   "source": [
    "28. Write a program that combines two lists into a dictionary using list comprehension."
   ]
  },
  {
   "cell_type": "code",
   "execution_count": 4,
   "id": "6f103b88-20ee-4805-a1ab-eb63372e1143",
   "metadata": {},
   "outputs": [
    {
     "name": "stdout",
     "output_type": "stream",
     "text": [
      "Combined Disctionary {'a': 1, 'b': 2, 'c': 3, 'd': 4}\n"
     ]
    }
   ],
   "source": [
    "def combine_lists_dic(keys,values):\n",
    "    if len(keys)!=len(values):\n",
    "        raise ValueError(\"Both lists must have same lenght\")\n",
    "    return {keys[i]:values[i] for i in range(len(keys))}\n",
    "\n",
    "keys = ['a','b','c','d']\n",
    "values = [1,2,3,4]\n",
    "result_dict = combine_lists_dic(keys,values)\n",
    "print(\"Combined Disctionary\", result_dict)"
   ]
  },
  {
   "cell_type": "markdown",
   "id": "f48cf87f-259d-4b29-be66-927f82a26930",
   "metadata": {},
   "source": [
    "29. Develop a program that extracts the vowels from a string and stores them in a list using list comprehension."
   ]
  },
  {
   "cell_type": "code",
   "execution_count": 9,
   "id": "12c998be-dd54-46a5-9cf5-10de28fe8807",
   "metadata": {},
   "outputs": [
    {
     "name": "stdout",
     "output_type": "stream",
     "text": [
      "['a', 'e', 'a', 'a', 'u', 'a']\n"
     ]
    }
   ],
   "source": [
    "s = \"Paeas sharua\"\n",
    "vow = \"aeiouAEIOU\"\n",
    "vowel_extrat = [s1 for s1 in s if s1 in vow ]\n",
    "print(vowel_extrat)"
   ]
  },
  {
   "cell_type": "markdown",
   "id": "ac7d5626-7da1-4dfa-88ec-44aea70db9a8",
   "metadata": {},
   "source": [
    "30. Create a program that removes all non-numeric characters from a list of strings using list comprehension."
   ]
  },
  {
   "cell_type": "code",
   "execution_count": 10,
   "id": "0f57f390-5efc-4704-a0d6-4b3c82b6eda1",
   "metadata": {},
   "outputs": [
    {
     "name": "stdout",
     "output_type": "stream",
     "text": [
      "['123', '456', '7890', '123']\n"
     ]
    }
   ],
   "source": [
    "def remove_nonnumeric(s):\n",
    "    return ''.join(char for char in s if char.isdigit())\n",
    "\n",
    "def final_digits(ss):\n",
    "    return [remove_nonnumeric(k) for k in ss]\n",
    "\n",
    "list_of_strings = [\"abc123\", \"456def\", \"7890\", \"hello123world\"]\n",
    "processed_list = final_digits(list_of_strings)\n",
    "print(processed_list)"
   ]
  },
  {
   "cell_type": "markdown",
   "id": "3877e714-36ba-43a8-95cb-57579b4d82aa",
   "metadata": {},
   "source": [
    "31. Write a program to generate a list of prime numbers using the Sieve of Eratosthenes algorithm and list\n",
    "comprehension."
   ]
  },
  {
   "cell_type": "code",
   "execution_count": 18,
   "id": "194bfdb0-060a-4ab8-9f10-49e2f1c4fa79",
   "metadata": {},
   "outputs": [
    {
     "name": "stdout",
     "output_type": "stream",
     "text": [
      "1 1 1 1 1 1 1 1 1 1 1 1 1 1 1 1 1 1 1 1 1 1 1 1 1 "
     ]
    }
   ],
   "source": [
    "dp=[1]*(101)\n",
    "dp[0],dp[1]=0,0\n",
    "i=2\n",
    "while i*i<=101:\n",
    "    if dp[i]==1:\n",
    "        for j in range(i*i,101,i):\n",
    "            dp[j]=0\n",
    "    i=i+1\n",
    "\n",
    "for i in range(len(dp)):\n",
    "    if (dp[i] !=0):\n",
    "        print(dp[i],end=\" \")"
   ]
  },
  {
   "cell_type": "code",
   "execution_count": 3,
   "id": "b9b5f9ee-a28c-4264-b7ae-318ce965c887",
   "metadata": {},
   "outputs": [
    {
     "name": "stdin",
     "output_type": "stream",
     "text": [
      "enter the integer number: 56\n"
     ]
    },
    {
     "name": "stdout",
     "output_type": "stream",
     "text": [
      "2 3 5 7 11 13 17 19 23 29 31 37 41 43 47 53 "
     ]
    }
   ],
   "source": [
    "n= int(input(\"enter the integer number:\"))\n",
    "prime=[]\n",
    "for i in range(n+1):\n",
    "    prime.append(i)\n",
    "    \n",
    "prime[0]=0\n",
    "prime[1]=0\n",
    "\n",
    "p=2\n",
    "while (p*p<=n):\n",
    "    if(p!=0):\n",
    "        for i in range(p*2,n+1,p):\n",
    "            prime[i]=0\n",
    "    p+=1\n",
    "\n",
    "for i in range(len(prime)):\n",
    "    if (prime[i] !=0):\n",
    "        print(prime[i],end=\" \")"
   ]
  },
  {
   "cell_type": "markdown",
   "id": "731650a3-ed65-478f-8668-6efb4a9a29ee",
   "metadata": {},
   "source": [
    "32. Create a program that generates a list of all Pythagorean triplets up to a specified limit using list\n",
    "comprehension."
   ]
  },
  {
   "cell_type": "code",
   "execution_count": 5,
   "id": "ed7b3afd-111b-41a1-8337-490e18603d7d",
   "metadata": {},
   "outputs": [
    {
     "name": "stdout",
     "output_type": "stream",
     "text": [
      "Pythagorean triplets up to 20: [(3, 4, 5), (5, 12, 13), (6, 8, 10), (8, 15, 17), (9, 12, 15), (12, 16, 20)]\n"
     ]
    }
   ],
   "source": [
    "def pythagorean_triplets(limit):\n",
    "    return [(a,b,c) for a in range(1,limit+1)\n",
    "           for b in range(a+1,limit+1)\n",
    "           for c in range(b+1,limit+1)\n",
    "           if a**2 + b**2 == c**2]\n",
    "limit = 20\n",
    "triplets = pythagorean_triplets(limit)\n",
    "print(f\"Pythagorean triplets up to {limit}:\", triplets)"
   ]
  },
  {
   "cell_type": "markdown",
   "id": "296db4b2-0774-4e16-8eff-5533c580ab17",
   "metadata": {},
   "source": [
    "33. Develop a program that generates a list of all possible combinations of two lists using list comprehension."
   ]
  },
  {
   "cell_type": "code",
   "execution_count": 6,
   "id": "bff076c1-7a56-4b3c-b2a5-cb5a795e8bf7",
   "metadata": {},
   "outputs": [
    {
     "name": "stdout",
     "output_type": "stream",
     "text": [
      "All possible combinations: [(1, 'a'), (1, 'b'), (1, 'c'), (2, 'a'), (2, 'b'), (2, 'c'), (3, 'a'), (3, 'b'), (3, 'c')]\n"
     ]
    }
   ],
   "source": [
    "def combinations_of_lists(list1, list2):\n",
    "    return [(x,y) for x in list1 for y in list2]\n",
    "\n",
    "list1 = [1, 2, 3]\n",
    "list2 = ['a', 'b', 'c']\n",
    "combinations = combinations_of_lists(list1, list2)\n",
    "print(\"All possible combinations:\", combinations)"
   ]
  },
  {
   "cell_type": "markdown",
   "id": "edd41be3-0286-4976-8323-d2c86fc1cfe9",
   "metadata": {},
   "source": [
    "34. Write a program that calculates the mean, median, and mode of a list of numbers using list\n",
    "comprehension."
   ]
  },
  {
   "cell_type": "code",
   "execution_count": 8,
   "id": "73ce48e4-e66e-464a-b4b4-36d28263d4cb",
   "metadata": {},
   "outputs": [
    {
     "name": "stdout",
     "output_type": "stream",
     "text": [
      "Mean: 3.8\n",
      "Median: 4.0\n",
      "Mode: [4]\n"
     ]
    }
   ],
   "source": [
    "from collections import Counter\n",
    "from statistics import median\n",
    "\n",
    "def cal_statitics(number):\n",
    "    mean = sum(number) / len(number)\n",
    "    med = median(number)\n",
    "    \n",
    "    count=Counter(number)\n",
    "    max_count = max(count.values())\n",
    "    modes = [num for num,cnt in count.items() if cnt==max_count]\n",
    "    return mean,med,modes\n",
    "\n",
    "numbers = [4, 1, 2, 2, 3, 4, 4, 5, 6, 7]\n",
    "mean, median_value, mode_values = cal_statitics(numbers)\n",
    "print(f\"Mean: {mean}\")\n",
    "print(f\"Median: {median_value}\")\n",
    "print(f\"Mode: {mode_values}\")"
   ]
  },
  {
   "cell_type": "markdown",
   "id": "1e8c5f27-964e-4ef4-a67a-545f145d0705",
   "metadata": {},
   "source": [
    "35. Create a program that generates Pascal's triangle up to a specified number of rows using list\n",
    "comprehension."
   ]
  },
  {
   "cell_type": "code",
   "execution_count": 9,
   "id": "bfa134c2-4622-46aa-b4cd-0938cd3a7b9a",
   "metadata": {},
   "outputs": [
    {
     "name": "stdout",
     "output_type": "stream",
     "text": [
      "Pascal's Triangle:\n",
      "[1]\n",
      "[1, 1]\n",
      "[1, 2, 1]\n",
      "[1, 3, 3, 1]\n",
      "[1, 4, 6, 4, 1]\n"
     ]
    }
   ],
   "source": [
    "def generate_pascals_triangle(rows):\n",
    "    \"\"\"Generate Pascal's Triangle up to the specified number of rows using list comprehension.\"\"\"\n",
    "    triangle = [[1]]  # Initialize the triangle with the first row\n",
    "    \n",
    "    for i in range(1, rows):\n",
    "        # Create the new row using list comprehension\n",
    "        new_row = [1] + [triangle[i-1][j] + triangle[i-1][j+1] for j in range(len(triangle[i-1]) - 1)] + [1]\n",
    "        triangle.append(new_row)\n",
    "    \n",
    "    return triangle\n",
    "\n",
    "# Example usage:\n",
    "num_rows = 5\n",
    "pascals_triangle = generate_pascals_triangle(num_rows)\n",
    "print(\"Pascal's Triangle:\")\n",
    "for row in pascals_triangle:\n",
    "    print(row)"
   ]
  },
  {
   "cell_type": "markdown",
   "id": "46eb6e68-310b-4045-b6f1-d406eaf5e9d1",
   "metadata": {},
   "source": [
    "36. Develop a program that calculates the sum of the digits of a factorial of numbers from 1 to 5 using list\n",
    "comprehension."
   ]
  },
  {
   "cell_type": "code",
   "execution_count": 12,
   "id": "25ea54da-f79c-4f71-9a14-62a7c4360458",
   "metadata": {},
   "outputs": [
    {
     "name": "stdout",
     "output_type": "stream",
     "text": [
      "Sum of digits of factorials from 1 to 5: [1, 2, 6, 6, 3]\n"
     ]
    }
   ],
   "source": [
    "import math\n",
    "def sum_of_digit(num):\n",
    "    return sum(int(digit) for digit in str(num))\n",
    "\n",
    "def fact_digit_num(n):\n",
    "    return [sum_of_digit(math.factorial(i)) for i in range(1,n+1)]\n",
    "\n",
    "n=5\n",
    "digit_sums = fact_digit_num(n)\n",
    "print(f\"Sum of digits of factorials from 1 to {n}: {digit_sums}\")\n"
   ]
  },
  {
   "cell_type": "markdown",
   "id": "a09ea87c-bb2f-4c39-92ab-4fbd01e11e24",
   "metadata": {},
   "source": [
    "37. Write a program that finds the longest word in a sentence using list comprehension."
   ]
  },
  {
   "cell_type": "code",
   "execution_count": 24,
   "id": "4103061a-b791-4b20-9ec0-30ce3b075252",
   "metadata": {},
   "outputs": [
    {
     "name": "stdout",
     "output_type": "stream",
     "text": [
      "The longest word is: quick\n"
     ]
    }
   ],
   "source": [
    "def longest_word(sentence):\n",
    "    \"\"\"Find the longest word in a sentence using list comprehension.\"\"\"\n",
    "    # Split the sentence into words\n",
    "    words = sentence.split()\n",
    "    \n",
    "    # Find the longest word\n",
    "    longest = max(words, key=len)\n",
    "    \n",
    "    return longest\n",
    "\n",
    "# Example usage:\n",
    "sentence = \"The quick brown fox jumps over the lazy dog\"\n",
    "longest = longest_word(sentence)\n",
    "print(f\"The longest word is: {longest}\")"
   ]
  },
  {
   "cell_type": "markdown",
   "id": "2747bae5-b57c-4e8a-8f29-28f70d72db54",
   "metadata": {},
   "source": [
    "38. Create a program that filters a list of strings to include only those with more than three vowels using list\n",
    "comprehension."
   ]
  },
  {
   "cell_type": "code",
   "execution_count": null,
   "id": "046ef0ea-d79e-484d-b3c2-afe34d9f825d",
   "metadata": {},
   "outputs": [],
   "source": [
    "def count_vowels(s):\n",
    "    \"\"\"Count the number of vowels in a string.\"\"\"\n",
    "    vowels = 'aeiouAEIOU'\n",
    "    return sum(1 for char in s if char in vowels)\n",
    "\n",
    "def filter_strings_with_vowels(strings):\n",
    "    \"\"\"Filter the list of strings to include only those with more than three vowels.\"\"\"\n",
    "    return [s for s in strings if count_vowels(s) > 3]\n",
    "\n",
    "# Example usage:\n",
    "list_of_strings = [\"hello\", \"beautiful\", \"world\", \"programming\", \"example\"]\n",
    "filtered_strings = filter_strings_with_vowels(list_of_strings)\n",
    "print(\"Strings with more than three vowels:\", filtered_strings)"
   ]
  },
  {
   "cell_type": "markdown",
   "id": "2f980900-5dfb-4a3a-8fd3-9bea935710f1",
   "metadata": {},
   "source": [
    "39. Develop a program that calculates the sum of the digits of numbers from 1 to 1000 using list\n",
    "comprehension."
   ]
  },
  {
   "cell_type": "code",
   "execution_count": null,
   "id": "e107c86d-9acf-42f0-8fb1-97adc1b4c9f2",
   "metadata": {},
   "outputs": [],
   "source": [
    "def sum_of_digits(num):\n",
    "    \"\"\"Calculate the sum of the digits of a number.\"\"\"\n",
    "    return sum(int(digit) for digit in str(num))\n",
    "\n",
    "def total_sum_of_digits(limit):\n",
    "    \"\"\"Calculate the sum of the digits of numbers from 1 to the specified limit using list comprehension.\"\"\"\n",
    "    return sum(sum_of_digits(num) for num in range(1, limit + 1))\n",
    "\n",
    "# Example usage:\n",
    "limit = 1000\n",
    "total_sum = total_sum_of_digits(limit)\n",
    "print(f\"Total sum of the digits of numbers from 1 to {limit}:\", total_sum)"
   ]
  },
  {
   "cell_type": "markdown",
   "id": "81b38a17-bb60-4acc-ba72-45dd3cacdd52",
   "metadata": {},
   "source": [
    "40. Write a program that generates a list of prime palindromic numbers using list comprehension."
   ]
  },
  {
   "cell_type": "code",
   "execution_count": null,
   "id": "8caaa08b-4c2a-4e98-860d-9064e3789187",
   "metadata": {},
   "outputs": [],
   "source": [
    "def is_palindrome(num):\n",
    "    \"\"\"Check if a number is a palindrome.\"\"\"\n",
    "    s = str(num)\n",
    "    return s == s[::-1]\n",
    "\n",
    "def is_prime(num):\n",
    "    \"\"\"Check if a number is a prime number.\"\"\"\n",
    "    if num <= 1:\n",
    "        return False\n",
    "    if num <= 3:\n",
    "        return True\n",
    "    if num % 2 == 0 or num % 3 == 0:\n",
    "        return False\n",
    "    i = 5\n",
    "    while i * i <= num:\n",
    "        if num % i == 0 or num % (i + 2) == 0:\n",
    "            return False\n",
    "        i += 6\n",
    "    return True\n",
    "\n",
    "def prime_palindromic_numbers(limit):\n",
    "    \"\"\"Generate a list of prime palindromic numbers up to a specified limit using list comprehension.\"\"\"\n",
    "    return [num for num in range(2, limit + 1) if is_prime(num) and is_palindrome(num)]\n",
    "\n",
    "# Example usage:\n",
    "limit = 1000\n",
    "prime_palindromes = prime_palindromic_numbers(limit)\n",
    "print(f\"Prime palindromic numbers up to {limit}:\", prime_palindromes)"
   ]
  }
 ],
 "metadata": {
  "kernelspec": {
   "display_name": "Python 3 (ipykernel)",
   "language": "python",
   "name": "python3"
  },
  "language_info": {
   "codemirror_mode": {
    "name": "ipython",
    "version": 3
   },
   "file_extension": ".py",
   "mimetype": "text/x-python",
   "name": "python",
   "nbconvert_exporter": "python",
   "pygments_lexer": "ipython3",
   "version": "3.10.8"
  }
 },
 "nbformat": 4,
 "nbformat_minor": 5
}
