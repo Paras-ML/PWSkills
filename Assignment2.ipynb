{
 "cells": [
  {
   "cell_type": "markdown",
   "id": "6013ec6c-2c08-4ee7-80fe-112e439ddd34",
   "metadata": {},
   "source": [
    "String based assignment problem :"
   ]
  },
  {
   "cell_type": "markdown",
   "id": "82098743-1c8c-47f5-899b-2a3e4449d65e",
   "metadata": {},
   "source": [
    "Q1: Write a program to reverse a string."
   ]
  },
  {
   "cell_type": "code",
   "execution_count": 4,
   "id": "a940de96-d8fb-40f2-a540-e85a9a116660",
   "metadata": {},
   "outputs": [
    {
     "name": "stdin",
     "output_type": "stream",
     "text": [
      "Enter the string ram\n"
     ]
    },
    {
     "name": "stdout",
     "output_type": "stream",
     "text": [
      "mar\n"
     ]
    }
   ],
   "source": [
    "'Solution'\n",
    "\n",
    "input_string = input(\"Enter the string\")\n",
    "reverse_string = input_string[::-1]\n",
    "print(reverse_string)"
   ]
  },
  {
   "cell_type": "code",
   "execution_count": 6,
   "id": "6c1bb5c7-df21-4eb5-a868-4ea203b98126",
   "metadata": {},
   "outputs": [
    {
     "name": "stdin",
     "output_type": "stream",
     "text": [
      "Enter the string ram\n"
     ]
    },
    {
     "name": "stdout",
     "output_type": "stream",
     "text": [
      "mar"
     ]
    }
   ],
   "source": [
    "'Solution'\n",
    "\n",
    "in_string = input(\"Enter the string\")\n",
    "for char in range((len(in_string)-1),-1,-1):\n",
    "    print(in_string[char],end=\"\")"
   ]
  },
  {
   "cell_type": "code",
   "execution_count": null,
   "id": "285b41a6-eeff-44e7-9cb6-7cc48ec21ed1",
   "metadata": {},
   "outputs": [],
   "source": []
  },
  {
   "cell_type": "markdown",
   "id": "29641506-1584-40f3-a6f8-447fd794c4c3",
   "metadata": {},
   "source": [
    "Q2a: Check if a string is a palindrome."
   ]
  },
  {
   "cell_type": "code",
   "execution_count": 4,
   "id": "68d16211-645a-4c08-b1e4-57a57d827528",
   "metadata": {},
   "outputs": [
    {
     "name": "stdin",
     "output_type": "stream",
     "text": [
      "Enter the String radhey\n"
     ]
    },
    {
     "name": "stdout",
     "output_type": "stream",
     "text": [
      "The String is not Palindrome\n"
     ]
    }
   ],
   "source": [
    "'Solution'\n",
    "\n",
    "input_string1 = input(\"Enter the String\")\n",
    "a = input_string1[-1::-1]\n",
    "if a==input_string1:\n",
    "    print(\"The String is Palindrome\")\n",
    "else:\n",
    "    print(\"The String is not Palindrome\")\n",
    "    "
   ]
  },
  {
   "cell_type": "markdown",
   "id": "f9a827ab-903e-4d00-8865-6155883c9354",
   "metadata": {},
   "source": [
    "Q2b: Check if a number is a palindrome."
   ]
  },
  {
   "cell_type": "code",
   "execution_count": null,
   "id": "ff3a09d1-b40a-44d2-88e0-719b4aa9bf6d",
   "metadata": {},
   "outputs": [],
   "source": [
    "'Solution'\n"
   ]
  },
  {
   "cell_type": "code",
   "execution_count": 8,
   "id": "798a8e06-fc6b-4c85-acdf-d93c2830b264",
   "metadata": {},
   "outputs": [
    {
     "name": "stdin",
     "output_type": "stream",
     "text": [
      "Enter the number: 123\n"
     ]
    },
    {
     "name": "stdout",
     "output_type": "stream",
     "text": [
      "The number entered is not a Palindrome\n"
     ]
    }
   ],
   "source": [
    "i = int(input('Enter the number:'))\n",
    "rev = 0\n",
    "x = i\n",
    "\n",
    "while(i>0):\n",
    "    rev = (rev*10) + i%10\n",
    "    i=i//10\n",
    "    \n",
    "if (x == rev):\n",
    "    print('The number entered is a Palindrome')\n",
    "else:\n",
    "    print('The number entered is not a Palindrome')"
   ]
  },
  {
   "cell_type": "markdown",
   "id": "ca19c810-5f32-47fc-ace7-6cb01bfc47a3",
   "metadata": {},
   "source": [
    "Q2c: Check if a number is a palindrome [List Comprehension]"
   ]
  },
  {
   "cell_type": "code",
   "execution_count": 1,
   "id": "d83926ed-1978-4be7-9ee2-a5de9c894ccc",
   "metadata": {},
   "outputs": [],
   "source": [
    "def is_palindrome(s):\n",
    "    s = s.lower()\n",
    "    \n",
    "    s = ''.join(e for e in s if e.isalnum())\n",
    "    \n",
    "    return s==s[::-1]"
   ]
  },
  {
   "cell_type": "code",
   "execution_count": 2,
   "id": "288bfc8e-88b8-44d5-b5d3-cb6f031c2c43",
   "metadata": {},
   "outputs": [
    {
     "data": {
      "text/plain": [
       "True"
      ]
     },
     "execution_count": 2,
     "metadata": {},
     "output_type": "execute_result"
    }
   ],
   "source": [
    "is_palindrome('madam')"
   ]
  },
  {
   "cell_type": "markdown",
   "id": "a2782644-3f57-4a7c-aac3-7b21e0390a02",
   "metadata": {},
   "source": [
    "Q3: Convert a string to uppercase."
   ]
  },
  {
   "cell_type": "code",
   "execution_count": 5,
   "id": "fed29330-58ea-4fd7-a2c2-667e0312f7fb",
   "metadata": {},
   "outputs": [
    {
     "name": "stdin",
     "output_type": "stream",
     "text": [
      "Enter the string paras sharma\n"
     ]
    },
    {
     "name": "stdout",
     "output_type": "stream",
     "text": [
      "Uppercase String: PARAS SHARMA\n"
     ]
    }
   ],
   "source": [
    "in_string = input('Enter the string')\n",
    "a = in_string.upper()\n",
    "print(\"Uppercase String:\",a)"
   ]
  },
  {
   "cell_type": "markdown",
   "id": "38cafbfd-4158-4d4a-9812-db9826602191",
   "metadata": {},
   "source": [
    "Q4: Convert a string to lowercase."
   ]
  },
  {
   "cell_type": "code",
   "execution_count": 6,
   "id": "a6161c4b-a83d-485e-9821-250571424f4d",
   "metadata": {},
   "outputs": [
    {
     "name": "stdin",
     "output_type": "stream",
     "text": [
      "Enter the string PARAS SHARMA\n"
     ]
    },
    {
     "name": "stdout",
     "output_type": "stream",
     "text": [
      "Lowercase String: paras sharma\n"
     ]
    }
   ],
   "source": [
    "in_string1 = input('Enter the string')\n",
    "a1 = in_string.lower()\n",
    "print(\"Lowercase String:\",a1)"
   ]
  },
  {
   "cell_type": "markdown",
   "id": "610cb854-0817-4e77-b0cd-bff7780136bd",
   "metadata": {},
   "source": [
    "Q5: Count the number of vowels in a string."
   ]
  },
  {
   "cell_type": "code",
   "execution_count": 7,
   "id": "66be8904-79fd-4704-8ecd-f476c37ec359",
   "metadata": {},
   "outputs": [],
   "source": [
    "def count_vowels(string):\n",
    "    counter = 0\n",
    "    vowels = set('aeiou')\n",
    "    \n",
    "    for i in string:\n",
    "        if i in vowels:\n",
    "            counter = counter + 1\n",
    "    return counter"
   ]
  },
  {
   "cell_type": "code",
   "execution_count": 8,
   "id": "60440ec7-048f-40ff-ba26-3155ef9045cd",
   "metadata": {},
   "outputs": [
    {
     "name": "stdin",
     "output_type": "stream",
     "text": [
      "Enter the string hello my name is paras\n"
     ]
    },
    {
     "name": "stdout",
     "output_type": "stream",
     "text": [
      "No. of Vowels in String: 7\n"
     ]
    }
   ],
   "source": [
    "input_string = input(\"Enter the string\")\n",
    "counter_val = count_vowels(input_string)\n",
    "print(\"No. of Vowels in String:\", counter_val)"
   ]
  },
  {
   "cell_type": "markdown",
   "id": "b55cb705-462a-47d5-8a26-952d832da154",
   "metadata": {},
   "source": [
    "Q6: Count the number of vowels / consonants in a string."
   ]
  },
  {
   "cell_type": "code",
   "execution_count": 19,
   "id": "ff138932-4b4e-46a5-8407-891394d24284",
   "metadata": {},
   "outputs": [
    {
     "name": "stdin",
     "output_type": "stream",
     "text": [
      "Enter your Name: paras\n"
     ]
    },
    {
     "name": "stdout",
     "output_type": "stream",
     "text": [
      "Vowel count 2\n",
      "Consonant count 3\n"
     ]
    }
   ],
   "source": [
    "a = input('Enter your Name:')\n",
    "vowel_count = 0\n",
    "consonant_count = 0\n",
    "\n",
    "for i in range(0,len(a)):\n",
    "    if (a[i]!=\" \"):\n",
    "        if(a[i]=='a' or a[i]=='e' or a[i]=='i' or a[i]=='o' or a[i]=='u' or\n",
    "           a[i]=='A' or a[i]=='E' or a[i]=='I' or a[i]=='O' or a[i]=='U'):\n",
    "            vowel_count = vowel_count + 1\n",
    "        else:\n",
    "            consonant_count = consonant_count + 1\n",
    "\n",
    "print(\"Vowel count\",vowel_count)\n",
    "print(\"Consonant count\",consonant_count)"
   ]
  },
  {
   "cell_type": "markdown",
   "id": "170cfa78-1289-43d1-a17e-a41a873317d7",
   "metadata": {},
   "source": [
    "Q7: Remove all whitespaces from a string."
   ]
  },
  {
   "cell_type": "code",
   "execution_count": 1,
   "id": "4153706d-d1ff-4663-9f41-a5ace964d98c",
   "metadata": {},
   "outputs": [
    {
     "name": "stdout",
     "output_type": "stream",
     "text": [
      "HelloMynameisParassharma\n"
     ]
    }
   ],
   "source": [
    "def rem_whitespace(input_string):\n",
    "    result = \"\"\n",
    "    \n",
    "    for char in input_string:\n",
    "        if char!=\" \":\n",
    "            result+=char\n",
    "        \n",
    "    return result\n",
    "\n",
    "input_string = \"Hello    My name is    Paras    sharma\"\n",
    "output_string = rem_whitespace(input_string)\n",
    "print(output_string)\n",
    "            \n",
    "        "
   ]
  },
  {
   "cell_type": "markdown",
   "id": "65ef75e8-1205-4358-b817-8fc9a47bb688",
   "metadata": {},
   "source": [
    "Q8: Find the length of a string without using the `len()` function."
   ]
  },
  {
   "cell_type": "code",
   "execution_count": 2,
   "id": "b0805590-f75d-43ac-8e02-4d724fac5e62",
   "metadata": {},
   "outputs": [
    {
     "name": "stdin",
     "output_type": "stream",
     "text": [
      "Enter the string: Paras Sharma\n"
     ]
    },
    {
     "name": "stdout",
     "output_type": "stream",
     "text": [
      "String lenght is: 12\n"
     ]
    }
   ],
   "source": [
    "def cal_lenght(string):\n",
    "    lenght=0\n",
    "    \n",
    "    for char in string:\n",
    "        if char != \"\":\n",
    "            lenght+=1\n",
    "        \n",
    "    return lenght\n",
    "\n",
    "string = input(\"Enter the string:\")\n",
    "String_lenght = cal_lenght(string)\n",
    "print(\"String lenght is:\", String_lenght)"
   ]
  },
  {
   "cell_type": "markdown",
   "id": "042f902b-6b12-4dbe-8966-1144602cdbaa",
   "metadata": {},
   "source": [
    "Q9: Check if a string contains a specific word."
   ]
  },
  {
   "cell_type": "code",
   "execution_count": 1,
   "id": "3682ce6a-0b54-49df-a5af-ad1f866b9425",
   "metadata": {},
   "outputs": [
    {
     "ename": "SyntaxError",
     "evalue": "invalid syntax (3545520212.py, line 4)",
     "output_type": "error",
     "traceback": [
      "\u001b[0;36m  Cell \u001b[0;32mIn[1], line 4\u001b[0;36m\u001b[0m\n\u001b[0;31m    print(f \"The main string has the find string '{find_string}'.\")\u001b[0m\n\u001b[0m            ^\u001b[0m\n\u001b[0;31mSyntaxError\u001b[0m\u001b[0;31m:\u001b[0m invalid syntax\n"
     ]
    }
   ],
   "source": [
    "main_string = input(\"Enter the string:\")\n",
    "find_string = input(\"Enter the string to search:\")\n",
    "if find_string in main_string:\n",
    "    print(f \"The main string has the find string '{find_string}'.\")\n",
    "else:\n",
    "    print(f \"The main string das the find string '{find_string}'.\")"
   ]
  },
  {
   "cell_type": "markdown",
   "id": "55746f8f-cb9f-401a-973e-5fe87d612af3",
   "metadata": {},
   "source": [
    "Q10: Replace a word in a string with another word."
   ]
  },
  {
   "cell_type": "code",
   "execution_count": 2,
   "id": "04e23d67-8646-4489-bfba-27490e3ef32e",
   "metadata": {},
   "outputs": [
    {
     "name": "stdin",
     "output_type": "stream",
     "text": [
      "Enter the string: Paras is a good boy\n",
      "enter the old word: good\n",
      "enter the new word: bad\n"
     ]
    },
    {
     "name": "stdout",
     "output_type": "stream",
     "text": [
      "Modified string: Paras is a bad boy\n"
     ]
    }
   ],
   "source": [
    "input_string = input(\"Enter the string:\")\n",
    "\n",
    "old_string = input(\"enter the old word:\")\n",
    "new_string = input(\"enter the new word:\")\n",
    "\n",
    "modified_string = input_string.replace(old_string,new_string)\n",
    "print(\"Modified string:\", modified_string)"
   ]
  },
  {
   "cell_type": "markdown",
   "id": "671d0d56-aa8e-4467-8081-a6abd2a24d1c",
   "metadata": {},
   "source": [
    "Q11. Count the occurrences of a word in a string."
   ]
  },
  {
   "cell_type": "code",
   "execution_count": 6,
   "id": "3ea91ccd-512b-45a9-9e0e-dac4462e27bd",
   "metadata": {},
   "outputs": [
    {
     "name": "stdin",
     "output_type": "stream",
     "text": [
      "Enter the string: are you are\n",
      "Enter the word to search: are\n"
     ]
    },
    {
     "name": "stdout",
     "output_type": "stream",
     "text": [
      "are is repeated 2 times in the string.\n"
     ]
    }
   ],
   "source": [
    "def word_count(input_string, which_word):\n",
    "    \n",
    "    counter = 0\n",
    "\n",
    "    word = input_string.split()\n",
    "\n",
    "    for char in word:\n",
    "        if char == which_word:\n",
    "            counter=counter+1\n",
    "    return counter\n",
    "\n",
    "input_string = input(\"Enter the string:\")\n",
    "which_word = input(\"Enter the word to search:\")\n",
    "\n",
    "word_counter = word_count(input_string,which_word)\n",
    "print(f\"{which_word} is repeated {word_counter} times in the string.\")"
   ]
  },
  {
   "cell_type": "markdown",
   "id": "8bd41a62-899d-458c-8126-e541aab6721a",
   "metadata": {},
   "source": [
    "Q12.Find the first occurrence of a word in a string."
   ]
  },
  {
   "cell_type": "code",
   "execution_count": 7,
   "id": "0a073ea8-7f17-4726-a93f-a6fcdd5d3163",
   "metadata": {},
   "outputs": [
    {
     "name": "stdin",
     "output_type": "stream",
     "text": [
      "Enter the string: paras is a good boy\n",
      "Enter the word to search: good\n"
     ]
    },
    {
     "name": "stdout",
     "output_type": "stream",
     "text": [
      "good is at location 11 in the sentence.\n"
     ]
    }
   ],
   "source": [
    "def find_first_occurence(text,word):\n",
    "    index = 0\n",
    "    index = text.find(word)\n",
    "    \n",
    "    if index == -1:\n",
    "        return None\n",
    "    \n",
    "    return index\n",
    "\n",
    "text = input(\"Enter the string:\")\n",
    "word = input(\"Enter the word to search:\")\n",
    "word_search = find_first_occurence(text,word)\n",
    "print(f\"{word} is at location {word_search} in the sentence.\")"
   ]
  },
  {
   "cell_type": "markdown",
   "id": "5650e42e-95f3-42b3-bf85-11d6725bdc65",
   "metadata": {},
   "source": [
    "Q13. Find the last occurrence of a word in a string."
   ]
  },
  {
   "cell_type": "code",
   "execution_count": 8,
   "id": "1aaeef1f-6b93-413d-a21a-f4057fbb07b8",
   "metadata": {},
   "outputs": [
    {
     "name": "stdin",
     "output_type": "stream",
     "text": [
      "Enter the string: hello i am hello\n",
      "Enter the word to search: hello\n"
     ]
    },
    {
     "name": "stdout",
     "output_type": "stream",
     "text": [
      "hello is at location 11 in the sentence.\n"
     ]
    }
   ],
   "source": [
    "def find_last_occurence(text,word):\n",
    "    index = 0\n",
    "    index = text.rfind(word)\n",
    "    \n",
    "    if index == -1:\n",
    "        return None\n",
    "    \n",
    "    return index\n",
    "\n",
    "text = input(\"Enter the string:\")\n",
    "word = input(\"Enter the word to search:\")\n",
    "word_search = find_last_occurence(text,word)\n",
    "print(f\"{word} is at location {word_search} in the sentence.\")"
   ]
  },
  {
   "cell_type": "markdown",
   "id": "36d55a83-b041-446a-8e99-85acc2eb882e",
   "metadata": {},
   "source": [
    "Q14. Split a string into a list of words."
   ]
  },
  {
   "cell_type": "code",
   "execution_count": 2,
   "id": "e8a468b5-a08e-4cf4-b88f-19aff857091e",
   "metadata": {},
   "outputs": [
    {
     "name": "stdin",
     "output_type": "stream",
     "text": [
      "Enter tehe string: paras has to do codding\n"
     ]
    },
    {
     "data": {
      "text/plain": [
       "['paras', 'has', 'to', 'do', 'codding']"
      ]
     },
     "execution_count": 2,
     "metadata": {},
     "output_type": "execute_result"
    }
   ],
   "source": [
    "def split_string(input_string):\n",
    "    kk = input_string.split()\n",
    "    return kk\n",
    "\n",
    "ll = input(\"Enter tehe string:\")\n",
    "jj = split_string(ll)\n",
    "jj"
   ]
  },
  {
   "cell_type": "markdown",
   "id": "3364abff-698a-4305-8766-a3036eb61879",
   "metadata": {},
   "source": [
    "Q15. Join a list of words into a string."
   ]
  },
  {
   "cell_type": "code",
   "execution_count": 3,
   "id": "ab5f8a9d-1970-482c-9c65-c0d269cd4d83",
   "metadata": {},
   "outputs": [
    {
     "name": "stdout",
     "output_type": "stream",
     "text": [
      "The joined is:  Hello my name is paras\n"
     ]
    }
   ],
   "source": [
    "def join_list_of_words(words):\n",
    "    joined_words = ' '.join(words)\n",
    "    return joined_words\n",
    "\n",
    "words = ['Hello','my','name','is','paras']\n",
    "gg=join_list_of_words(words)\n",
    "print('The joined is: ',gg)"
   ]
  },
  {
   "cell_type": "markdown",
   "id": "96aa0c3c-8b08-425a-a1aa-818d5427ab51",
   "metadata": {},
   "source": [
    "Q16. Convert a string where words are separated by spaces to one where words\n",
    "are separated by underscores."
   ]
  },
  {
   "cell_type": "code",
   "execution_count": 1,
   "id": "0d48e9eb-1c4b-4ad1-8ebe-8df4a454e5a2",
   "metadata": {},
   "outputs": [
    {
     "name": "stdin",
     "output_type": "stream",
     "text": [
      "Enter the string the good boy is here\n"
     ]
    },
    {
     "name": "stdout",
     "output_type": "stream",
     "text": [
      "The changed string:  the_good_boy_is_here\n"
     ]
    }
   ],
   "source": [
    "def convert_space_underscore(text):\n",
    "    tt = text.replace(\" \",\"_\")\n",
    "    return tt\n",
    "\n",
    "ks = input(\"Enter the string\")\n",
    "io = convert_space_underscore(ks)\n",
    "print('The changed string: ',io)"
   ]
  },
  {
   "cell_type": "markdown",
   "id": "766f45bf-4470-4f9f-8dbf-6131c9dbe172",
   "metadata": {},
   "source": [
    "Q17. Check if a string starts with a specific word or phrase."
   ]
  },
  {
   "cell_type": "code",
   "execution_count": 3,
   "id": "6f27ed72-5e79-4344-891b-2343588e5dca",
   "metadata": {},
   "outputs": [
    {
     "name": "stdout",
     "output_type": "stream",
     "text": [
      "The text does not contains the prefix\n"
     ]
    }
   ],
   "source": [
    "def starts_with(text,prefix):\n",
    "    rr = text.startswith(prefix)\n",
    "    return rr\n",
    "\n",
    "text = \"Paras Sharma\"\n",
    "prefix = \"Tattoo\"\n",
    "result = starts_with(text,prefix)\n",
    "if result:\n",
    "    print(\"The text starts the prefix\")\n",
    "else:\n",
    "    print(\"The text does not starts the prefix\")"
   ]
  },
  {
   "cell_type": "markdown",
   "id": "35603ec4-9711-4005-94b2-cc2fb96339ee",
   "metadata": {},
   "source": [
    " Q18. Check if a string ends with a specific word or phrase."
   ]
  },
  {
   "cell_type": "code",
   "execution_count": 4,
   "id": "b3b7b3e5-4036-4dfc-b3eb-99a3c8ceb096",
   "metadata": {},
   "outputs": [
    {
     "name": "stdout",
     "output_type": "stream",
     "text": [
      "The text ends with the prefix\n"
     ]
    }
   ],
   "source": [
    "def ends_with(text,suffix):\n",
    "    rr = text.endswith(suffix)\n",
    "    return rr\n",
    "\n",
    "text = \"Paras Sharma\"\n",
    "suffix = \"Sharma\"\n",
    "result = ends_with(text,suffix)\n",
    "if result:\n",
    "    print(\"The text ends with the prefix\")\n",
    "else:\n",
    "    print(\"The text does not ends with the prefix\")"
   ]
  },
  {
   "cell_type": "markdown",
   "id": "f3600fc5-2070-4ce9-867c-bc59d875fe39",
   "metadata": {},
   "source": [
    "Q19. Convert a string to title case (e.g., \"hello world\" to \"Hello World\")."
   ]
  },
  {
   "cell_type": "code",
   "execution_count": null,
   "id": "66113763-772e-46d2-a54d-320df273f6dc",
   "metadata": {},
   "outputs": [],
   "source": [
    "def convert_to_title_case(text):\n",
    "    title_case_text = text.title()\n",
    "    return title_case_text\n",
    "\n",
    "text = \"hello world\"\n",
    "title_case_result = convert_to_title_case(text)\n",
    "print(\"Title case:\", title_case_result)"
   ]
  },
  {
   "cell_type": "markdown",
   "id": "d1181abb-b8aa-4a2b-813b-60015851202c",
   "metadata": {},
   "source": [
    "Q20. Find the longest word in a string."
   ]
  },
  {
   "cell_type": "code",
   "execution_count": 7,
   "id": "56068ebe-f457-4fe3-a0fb-9126bc76918a",
   "metadata": {},
   "outputs": [
    {
     "name": "stdin",
     "output_type": "stream",
     "text": [
      "Enter the string Paras hellok ji\n"
     ]
    },
    {
     "name": "stdout",
     "output_type": "stream",
     "text": [
      "The longest word is: hellok\n"
     ]
    }
   ],
   "source": [
    "def long_word(text):\n",
    "    tt = text.split()\n",
    "    max_word = 0\n",
    "    text = \"\"\n",
    "    \n",
    "    for word in tt:\n",
    "        if len(word) > max_word:\n",
    "            max_word = len(word)\n",
    "            text = word\n",
    "    return text\n",
    "\n",
    "text = input(\"Enter the string\")\n",
    "yy = long_word(text)\n",
    "print(\"The longest word is:\", yy)\n",
    "            \n",
    "            "
   ]
  },
  {
   "cell_type": "markdown",
   "id": "b35e5c81-481d-486e-a0ea-5783b5ae63d0",
   "metadata": {},
   "source": [
    "Q21. Find the shortest word in a string."
   ]
  },
  {
   "cell_type": "code",
   "execution_count": 7,
   "id": "39c1d913-bc11-47bb-a472-a6af74819b1d",
   "metadata": {},
   "outputs": [
    {
     "name": "stdin",
     "output_type": "stream",
     "text": [
      "Enter the string er  rrtttt\n"
     ]
    },
    {
     "name": "stdout",
     "output_type": "stream",
     "text": [
      "The shortest word is: er\n"
     ]
    }
   ],
   "source": [
    "def shortest_word(catch):\n",
    "    wk = catch.split()\n",
    "    we = None\n",
    "    l1 = float('inf')\n",
    "    \n",
    "    for i in wk:\n",
    "        if len(i) < l1:\n",
    "            l1= len(i)\n",
    "            we = i\n",
    "    return we\n",
    "\n",
    "text = input(\"Enter the string\")\n",
    "yy = shortest_word(text)\n",
    "print(\"The shortest word is:\", yy)\n",
    "\n",
    "            "
   ]
  },
  {
   "cell_type": "markdown",
   "id": "f0cc2cc8-7ebd-4bd7-817e-9b1f54c14a63",
   "metadata": {},
   "source": [
    "Q22. Reverse the order of words in a string."
   ]
  },
  {
   "cell_type": "code",
   "execution_count": 20,
   "id": "8606f2a2-9281-4459-a666-508f26e15751",
   "metadata": {},
   "outputs": [
    {
     "name": "stdout",
     "output_type": "stream",
     "text": [
      "Reversed order of string:   waiting am I people Hello\n"
     ]
    }
   ],
   "source": [
    "def reversed_words(tt):\n",
    "    srt = tt.split()\n",
    "    rev_str = ' '.join(reversed(srt))\n",
    "    return rev_str\n",
    "\n",
    "\n",
    "text1 = \"Hello people I am waiting\"\n",
    "fr = reversed_words(text1)\n",
    "print(\"Reversed order of string:  \", fr)\n",
    "    \n",
    "    \n",
    "    "
   ]
  },
  {
   "cell_type": "markdown",
   "id": "6eacc827-0052-4517-aba0-a4f28ff82e45",
   "metadata": {},
   "source": [
    "Q23. Check if a string is alphanumeric."
   ]
  },
  {
   "cell_type": "code",
   "execution_count": 26,
   "id": "55c75a61-fadc-4fae-aec7-243f374e790f",
   "metadata": {},
   "outputs": [
    {
     "name": "stdin",
     "output_type": "stream",
     "text": [
      "Enter the string:   paras()234\n"
     ]
    },
    {
     "name": "stdout",
     "output_type": "stream",
     "text": [
      "The string is not alphanumeric\n"
     ]
    }
   ],
   "source": [
    "def isalphanumerice(tt):\n",
    "    return tt.isalnum()\n",
    "\n",
    "tr = input(\"Enter the string:  \")\n",
    "we = isalphanumerice(tr)\n",
    "\n",
    "if we:\n",
    "    print(\"The string is alphanumeric\")\n",
    "else:\n",
    "    print(\"The string is not alphanumeric\")"
   ]
  },
  {
   "cell_type": "markdown",
   "id": "b723936e-7bd4-44a8-a772-c9709f8f7173",
   "metadata": {},
   "source": [
    "Q24. Extract all digits from a string."
   ]
  },
  {
   "cell_type": "code",
   "execution_count": 27,
   "id": "c5e0bfa5-3105-4c31-8747-e0c76d7a6b36",
   "metadata": {},
   "outputs": [
    {
     "name": "stdin",
     "output_type": "stream",
     "text": [
      "Enter the String: Paras1234rtyu\n"
     ]
    },
    {
     "name": "stdout",
     "output_type": "stream",
     "text": [
      "String contains folowing digits: 1234\n"
     ]
    }
   ],
   "source": [
    "def ext_digit(text):\n",
    "    digits = \"\"\n",
    "    \n",
    "    for char in text:\n",
    "        if char.isdigit():\n",
    "            digits += char\n",
    "    return digits\n",
    "ss = input(\"Enter the String:\")\n",
    "rt = ext_digit(ss)\n",
    "print(\"String contains folowing digits:\", rt)"
   ]
  },
  {
   "cell_type": "markdown",
   "id": "40416221-32b3-415b-abcf-b914cf97b720",
   "metadata": {},
   "source": [
    "Q25. Extract all alphabets from a string."
   ]
  },
  {
   "cell_type": "code",
   "execution_count": 32,
   "id": "384a9c28-2310-486f-bf23-ed7413328870",
   "metadata": {},
   "outputs": [
    {
     "name": "stdout",
     "output_type": "stream",
     "text": [
      "H e l l o P a r a s\n"
     ]
    }
   ],
   "source": [
    "def ext_alpha(catch):\n",
    "    catcher = ' '.join([char for char in catch if char.isalpha()])\n",
    "    return catcher\n",
    "\n",
    "text1 = \"Hello123Paras\"\n",
    "rt = ext_alpha(text1)\n",
    "print(rt)\n",
    "    "
   ]
  },
  {
   "cell_type": "markdown",
   "id": "2144dec6-04ee-4323-b3d3-c9b046bfb949",
   "metadata": {},
   "source": [
    "Q26. Count the number of uppercase letters in a string."
   ]
  },
  {
   "cell_type": "code",
   "execution_count": 1,
   "id": "3206616f-dea4-426a-8210-460ea9eab136",
   "metadata": {},
   "outputs": [
    {
     "name": "stdout",
     "output_type": "stream",
     "text": [
      "Upper letter--> 2\n"
     ]
    }
   ],
   "source": [
    "def count_upper(s4):\n",
    "    c = \"\"\n",
    "    d = 0\n",
    "    for i in s4:\n",
    "        if i.isalpha():\n",
    "            if i.isupper():\n",
    "                d=d+1\n",
    "    return d\n",
    "o = count_upper(\"Paras Sharma\")\n",
    "print(\"Upper letter-->\",o)\n",
    "            "
   ]
  },
  {
   "cell_type": "markdown",
   "id": "fec3ee49-79a2-42d8-8024-a4d34dc6cb3b",
   "metadata": {},
   "source": [
    "Q27. Count the number of lowercase letters in a string."
   ]
  },
  {
   "cell_type": "code",
   "execution_count": 2,
   "id": "87c4cc75-6bf5-4108-a37c-77d17e5cdba2",
   "metadata": {},
   "outputs": [
    {
     "name": "stdout",
     "output_type": "stream",
     "text": [
      "The number of lower case letters:--> 9\n"
     ]
    }
   ],
   "source": [
    "def count_lower(input_string):\n",
    "    catch = sum(1 for char in input_string if char.islower())\n",
    "    return catch\n",
    "\n",
    "caller = count_lower(\"Paras Sharma\")\n",
    "print(\"The number of lower case letters:-->\", caller)"
   ]
  },
  {
   "cell_type": "markdown",
   "id": "26b19b72-85bb-4f73-904f-01043696f6c1",
   "metadata": {},
   "source": [
    "Q28. Swap the case of each character in a string."
   ]
  },
  {
   "cell_type": "code",
   "execution_count": 4,
   "id": "b230cd59-b83c-45fe-979a-8ed07fa4a481",
   "metadata": {},
   "outputs": [
    {
     "name": "stdout",
     "output_type": "stream",
     "text": [
      "hELLOworld\n"
     ]
    }
   ],
   "source": [
    "def swap_case(input_string):\n",
    "    swapped_string = input_string.swapcase()\n",
    "    return swapped_string\n",
    "\n",
    "# Example input string\n",
    "input_string = \"HelloWORLD\"\n",
    "result = swap_case(input_string)\n",
    "print(result)"
   ]
  },
  {
   "cell_type": "markdown",
   "id": "9e7ae358-2e90-4be8-8e19-2cb719cbd4cf",
   "metadata": {},
   "source": [
    "Q29. Remove a specific word from a string."
   ]
  },
  {
   "cell_type": "code",
   "execution_count": 16,
   "id": "de3a85e6-2c37-4961-b420-12a71990a6ae",
   "metadata": {},
   "outputs": [
    {
     "name": "stdout",
     "output_type": "stream",
     "text": [
      "The main string is.Hello paras are you there and word to remove is.paras, The final is Hello are you there\n"
     ]
    }
   ],
   "source": [
    "def remove_word(input_string,r_word):\n",
    "    \n",
    "    final_string=[]\n",
    "    list_string = input_string.split()\n",
    "    catcher = [word for word in list_string if word != r_word]\n",
    "    final = ' '.join(catcher)\n",
    "    return final\n",
    "   \n",
    "\n",
    "k = \"Hello paras are you there\"\n",
    "i = \"paras\"\n",
    "t = remove_word(k,i)\n",
    "print(f\"The main string is.{k} and word to remove is.{i}, The final is {t}\")\n",
    "            "
   ]
  },
  {
   "cell_type": "markdown",
   "id": "6b6daf5a-ceab-4727-9e77-12082586dff2",
   "metadata": {},
   "source": [
    "Q30. Check if a string is a valid email address."
   ]
  },
  {
   "cell_type": "code",
   "execution_count": 17,
   "id": "b7ec09e0-c576-4473-96b0-70488899ecbd",
   "metadata": {},
   "outputs": [
    {
     "name": "stdout",
     "output_type": "stream",
     "text": [
      "True\n",
      "False\n"
     ]
    }
   ],
   "source": [
    "import re  # Import the regular expression module\n",
    "\n",
    "def is_valid_email(email):\n",
    "    pattern = r'^[\\w\\.-]+@[\\w\\.-]+\\.\\w+$'  # Regular expression pattern for a basic email validation\n",
    "    if re.match(pattern, email):\n",
    "        return True\n",
    "    else:\n",
    "        return False\n",
    "\n",
    "# Example email addresses\n",
    "email1 = \"example@email.com\"\n",
    "email2 = \"invalid-email\"\n",
    "result1 = is_valid_email(email1)\n",
    "result2 = is_valid_email(email2)\n",
    "print(result1)\n",
    "print(result2)"
   ]
  },
  {
   "cell_type": "markdown",
   "id": "0ee91d9a-09e6-4d19-8cf2-fe3aa2438b96",
   "metadata": {},
   "source": [
    "Q31. Extract the username from an email address string."
   ]
  },
  {
   "cell_type": "code",
   "execution_count": 18,
   "id": "63e43373-fbad-4832-8280-505bd41c1dbf",
   "metadata": {},
   "outputs": [
    {
     "name": "stdout",
     "output_type": "stream",
     "text": [
      "The user name is:-> sharmaparas23\n"
     ]
    }
   ],
   "source": [
    "def extract_username(email):\n",
    "    catcher = email.split('@')[0]\n",
    "    return catcher\n",
    "k = extract_username('sharmaparas23@gmail.com')\n",
    "print(\"The user name is:->\",k)\n",
    "    "
   ]
  },
  {
   "cell_type": "markdown",
   "id": "805debfa-a95f-43bf-9d83-dac5de9bbbd4",
   "metadata": {},
   "source": [
    "Q32. Extract the domain name from an email address string."
   ]
  },
  {
   "cell_type": "code",
   "execution_count": 1,
   "id": "2a914604-85a2-4d7c-bf47-4728f05fac40",
   "metadata": {},
   "outputs": [
    {
     "name": "stdout",
     "output_type": "stream",
     "text": [
      "email.com\n"
     ]
    }
   ],
   "source": [
    "def extract_domain(email):\n",
    "    domain = email.split('@')[1]  \n",
    "    return domain\n",
    "\n",
    "\n",
    "email = \"example@email.com\"\n",
    "result = extract_domain(email)\n",
    "print(result)"
   ]
  },
  {
   "cell_type": "markdown",
   "id": "692ab334-d920-458d-90b3-ddcca62a6378",
   "metadata": {},
   "source": [
    "Q33. Replace multiple spaces in a string with a single space."
   ]
  },
  {
   "cell_type": "code",
   "execution_count": 2,
   "id": "d9498524-c0e0-4111-a8f3-8ab93f56f8ec",
   "metadata": {},
   "outputs": [
    {
     "name": "stdout",
     "output_type": "stream",
     "text": [
      "Hello world! How are you?\n"
     ]
    }
   ],
   "source": [
    "def replace_multiple_spaces(input_string):\n",
    "    cleaned_string = ' '.join(input_string.split())  \n",
    "    return cleaned_string\n",
    "\n",
    "\n",
    "input_string = \"Hello     world!   How   are   you?\"\n",
    "result = replace_multiple_spaces(input_string)\n",
    "print(result)"
   ]
  },
  {
   "cell_type": "markdown",
   "id": "a29231cd-7f12-408e-8a3e-360137fee84a",
   "metadata": {},
   "source": [
    "Q34. Check if a string is a valid URL."
   ]
  },
  {
   "cell_type": "code",
   "execution_count": 3,
   "id": "a4b120e6-915c-4ed7-9793-57c471032fab",
   "metadata": {},
   "outputs": [
    {
     "name": "stdout",
     "output_type": "stream",
     "text": [
      "True\n",
      "False\n"
     ]
    }
   ],
   "source": [
    "from urllib.parse import urlparse\n",
    "\n",
    "def is_valid_url(url):\n",
    "    try:\n",
    "        result = urlparse(url)\n",
    "        return all([result.scheme, result.netloc]) \n",
    "    except ValueError:\n",
    "        return False\n",
    "\n",
    "url1 = \"https://www.example.com\"\n",
    "url2 = \"invalid-url\"\n",
    "result1 = is_valid_url(url1)\n",
    "result2 = is_valid_url(url2)\n",
    "print(result1)\n",
    "print(result2) "
   ]
  },
  {
   "cell_type": "markdown",
   "id": "b68dbe7c-bc38-4119-8317-f10f302384fe",
   "metadata": {},
   "source": [
    "Q35. Extract the protocol (http or https) from a URL string."
   ]
  },
  {
   "cell_type": "code",
   "execution_count": 4,
   "id": "8e1080a2-5c9f-4f00-b33a-d78fd61b8d5d",
   "metadata": {},
   "outputs": [
    {
     "name": "stdout",
     "output_type": "stream",
     "text": [
      "Protocol 1: https\n",
      "Protocol 2: http\n",
      "Protocol 3: ftp\n"
     ]
    }
   ],
   "source": [
    "def extract_protocol(url):\n",
    "    \n",
    "    protocol_end = url.find(\"://\")\n",
    "\n",
    "    if protocol_end != -1:\n",
    "        \n",
    "        protocol = url[:protocol_end]\n",
    "        return protocol\n",
    "    else:\n",
    "        return None\n",
    "\n",
    "url1 = \"https://www.example.com\"\n",
    "url2 = \"http://google.com\"\n",
    "url3 = \"ftp://ftp.example.com\"\n",
    "protocol1 = extract_protocol(url1)\n",
    "protocol2 = extract_protocol(url2)\n",
    "protocol3 = extract_protocol(url3)\n",
    "print(\"Protocol 1:\", protocol1)\n",
    "print(\"Protocol 2:\", protocol2)\n",
    "print(\"Protocol 3:\", protocol3)"
   ]
  },
  {
   "cell_type": "markdown",
   "id": "70f7a9ec-5c4d-4c68-bc97-2718202bc825",
   "metadata": {},
   "source": [
    "Q36. Find the frequency of each character in a string."
   ]
  },
  {
   "cell_type": "code",
   "execution_count": 5,
   "id": "e4bf4ffa-46ec-4042-b2de-018bb7f06af8",
   "metadata": {},
   "outputs": [
    {
     "name": "stdout",
     "output_type": "stream",
     "text": [
      "Character: 'h', Frequency: 1\n",
      "Character: 'e', Frequency: 1\n",
      "Character: 'l', Frequency: 3\n",
      "Character: 'o', Frequency: 2\n",
      "Character: ' ', Frequency: 1\n",
      "Character: 'w', Frequency: 1\n",
      "Character: 'r', Frequency: 1\n",
      "Character: 'd', Frequency: 1\n"
     ]
    }
   ],
   "source": [
    "def character_frequency(input_string):\n",
    "    frequency = {}  \n",
    "\n",
    "    for char in input_string:\n",
    "        if char in frequency:\n",
    "            frequency[char] += 1 \n",
    "        else:\n",
    "            frequency[char] = 1   \n",
    "\n",
    "    return frequency\n",
    "\n",
    "input_str = \"hello world\"\n",
    "char_freq = character_frequency(input_str)\n",
    "for char, freq in char_freq.items():\n",
    "    print(f\"Character: '{char}', Frequency: {freq}\")"
   ]
  },
  {
   "cell_type": "markdown",
   "id": "89cd3569-1045-438a-8e4e-1c51f68f8150",
   "metadata": {},
   "source": [
    "Q37. Remove all punctuation from a string."
   ]
  },
  {
   "cell_type": "code",
   "execution_count": null,
   "id": "ff9ce928-6c45-4921-b707-488f99fd1131",
   "metadata": {},
   "outputs": [],
   "source": [
    "import string\n",
    "\n",
    "def remove_punctuation(input_string):\n",
    "    translator = str.maketrans(\"\",\"\" , string.punctuation)\n",
    "    clean_string = input_string.translate(translator)\n",
    "    return clean_string\n",
    "\n",
    "input_str = \"Hello, world! How's it going?\"\n",
    "cleaned_str = remove_punctuation(input_str)\n",
    "\n",
    "print(\"Original string:\", input_str)\n",
    "print(\"Cleaned string:\", cleaned_str)\n",
    "    "
   ]
  },
  {
   "cell_type": "markdown",
   "id": "f739cab3-8381-4008-aa45-977da0134fc6",
   "metadata": {},
   "source": [
    "Q38. Check if a string contains only digits."
   ]
  },
  {
   "cell_type": "code",
   "execution_count": 6,
   "id": "1f1a692b-a7a2-436f-85a6-a167e32a97bc",
   "metadata": {},
   "outputs": [
    {
     "name": "stdout",
     "output_type": "stream",
     "text": [
      "'Hello123' contains only digits: False\n",
      "'456.789' contains only digits: False\n"
     ]
    }
   ],
   "source": [
    "def contains_only_digits(input_string):\n",
    "    return input_string.isdigit()\n",
    "\n",
    "string1 = \"Hello123\"\n",
    "string2 = \"456.789\"\n",
    "result1 = contains_only_digits(string1)\n",
    "result2 = contains_only_digits(string2)\n",
    "\n",
    "print(f\"'{string1}' contains only digits:\", result1)\n",
    "print(f\"'{string2}' contains only digits:\", result2)"
   ]
  },
  {
   "cell_type": "markdown",
   "id": "614c3735-6ff4-4fd6-805a-095b8cf0e1cc",
   "metadata": {},
   "source": [
    "Q39. Check if a string contains only alphabets."
   ]
  },
  {
   "cell_type": "code",
   "execution_count": 7,
   "id": "ac36e952-0007-4481-b21b-147a2f9cd9c5",
   "metadata": {},
   "outputs": [
    {
     "name": "stdout",
     "output_type": "stream",
     "text": [
      "'Hello123' contains only digits: False\n",
      "'456.789' contains only digits: False\n"
     ]
    }
   ],
   "source": [
    "def contains_only_alphabets(input_string):\n",
    "    return input_string.isalpha()\n",
    "\n",
    "string1 = \"Hello123\"\n",
    "string2 = \"456.789\"\n",
    "result1 = contains_only_alphabets(string1)\n",
    "result2 = contains_only_alphabets(string2)\n",
    "\n",
    "print(f\"'{string1}' contains only digits:\", result1)\n",
    "print(f\"'{string2}' contains only digits:\", result2)"
   ]
  },
  {
   "cell_type": "markdown",
   "id": "ca0b0db8-345e-4033-ad5f-2a5384a2d347",
   "metadata": {},
   "source": [
    "Q40. Convert a string to a list of characters."
   ]
  },
  {
   "cell_type": "code",
   "execution_count": null,
   "id": "9733157d-dedf-4906-8a5f-b5e5adeb248d",
   "metadata": {},
   "outputs": [],
   "source": [
    "def string_to_list(input_string):\n",
    "    char_list = list(input_string)\n",
    "    return char_list\n",
    "\n",
    "input_str = \"Hello, world!\"\n",
    "char_list = string_to_list(input_str)\n",
    "print(\"Original string:\", input_str)\n",
    "print(\"List of characters:\", char_list)"
   ]
  },
  {
   "cell_type": "markdown",
   "id": "b46565c9-dd23-4a11-99d2-35c9629b5241",
   "metadata": {},
   "source": [
    "Q41. Check if two strings are anagrams."
   ]
  },
  {
   "cell_type": "code",
   "execution_count": null,
   "id": "e293da9d-a42b-4905-9ce7-d499fcf07698",
   "metadata": {},
   "outputs": [],
   "source": [
    "def isanagrams(str1,str2):\n",
    "    st1 = str1.replace(\" \",\"\").lower()\n",
    "    st2 = str2.replace(\" \",\"\").lower()\n",
    "    \n",
    "    return sorted(st1) == sorted(st2)\n",
    "\n",
    "string1 = \"listen\"\n",
    "string2 = \"silent\"\n",
    "string3 = \"hello\"\n",
    "string4 = \"world\"\n",
    "result1 = are_anagrams(string1, string2)\n",
    "result2 = are_anagrams(string3, string4)\n",
    "print(f\"'{string1}' and '{string2}' are anagrams:\", result1)\n",
    "print(f\"'{string3}' and '{string4}' are anagrams:\", result2)"
   ]
  },
  {
   "cell_type": "markdown",
   "id": "96df423b-8a47-42e7-99d5-f55bc7880e30",
   "metadata": {},
   "source": [
    "Q42. Encode a string using a Caesar cipher."
   ]
  },
  {
   "cell_type": "code",
   "execution_count": 8,
   "id": "1fcc1450-a045-4492-b73d-2c5d7fbd0047",
   "metadata": {},
   "outputs": [
    {
     "name": "stdout",
     "output_type": "stream",
     "text": [
      "Encoded text: ehoor, zruog!\n"
     ]
    }
   ],
   "source": [
    "def caesar_cipher(text,shift):\n",
    "    encoded_shift=\"\"\n",
    "    \n",
    "    for char in text:\n",
    "        if char.isalpha():\n",
    "            encoded_char = chr((ord(char) + shift - ord('a')) % 26 + ord('a'))\n",
    "        else:\n",
    "            encoded_char = char\n",
    "            \n",
    "        encoded_shift = encoded_shift + encoded_char\n",
    "    return encoded_shift\n",
    "\n",
    "text = \"Hello, world!\"\n",
    "shift = 3\n",
    "encoded_text = caesar_cipher(text, shift)\n",
    "print(\"Encoded text:\", encoded_text)\n",
    "\n",
    "            "
   ]
  },
  {
   "cell_type": "markdown",
   "id": "74d7e6f9-feb5-4763-a82e-ccca7aa88ae2",
   "metadata": {},
   "source": [
    "Q43.Decode a Caesar cipher encoded string."
   ]
  },
  {
   "cell_type": "code",
   "execution_count": 16,
   "id": "a27fd7b8-6517-4fe3-9941-8d923475740e",
   "metadata": {},
   "outputs": [
    {
     "name": "stdout",
     "output_type": "stream",
     "text": [
      "Decoded text: bello, world!\n"
     ]
    }
   ],
   "source": [
    "def caesar_cipher_decoder(text, shift):\n",
    "    decoded_text = \"\"\n",
    "\n",
    "    for char in text:\n",
    "        if char.isalpha():\n",
    "            decoded_char = chr((ord(char) - shift - ord('a')) % 26 + ord('a'))\n",
    "        else:\n",
    "            decoded_char = char\n",
    "\n",
    "        decoded_text += decoded_char\n",
    "\n",
    "    return decoded_text\n",
    "\n",
    "text = \"ehoor, zruog!\"\n",
    "shift = 3\n",
    "\n",
    "decoded_text = caesar_cipher_decoder(text, shift)\n",
    "print(\"Decoded text:\", decoded_text)"
   ]
  },
  {
   "cell_type": "markdown",
   "id": "7593a495-d4e4-4e36-b52b-981839450e1d",
   "metadata": {},
   "source": [
    "Q44. Find the most frequent word in a string."
   ]
  },
  {
   "cell_type": "code",
   "execution_count": 40,
   "id": "8ab4928e-b456-437a-9ef7-a452222a4cf6",
   "metadata": {},
   "outputs": [
    {
     "name": "stdout",
     "output_type": "stream",
     "text": [
      "Most frequent word: ('peter', 4)\n"
     ]
    }
   ],
   "source": [
    "import re\n",
    "from collections import Counter\n",
    "\n",
    "def most_freq_word(input_string):\n",
    "    clean_string = re.sub(r'[^\\w\\s]','',input_string).lower()\n",
    "    \n",
    "    words = clean_string.split()\n",
    "    \n",
    "    word_counter = Counter(words)\n",
    "    \n",
    "    most_common_word = word_counter.most_common()[0]\n",
    "    \n",
    "    return most_common_word\n",
    "    \n",
    "input_str = \"Hello world, hello hello peter peter peter peter there! How's the world?\"\n",
    "\n",
    "# Find the most frequent word\n",
    "most_common = most_freq_word(input_str)\n",
    "\n",
    "# Print the result\n",
    "print(\"Most frequent word:\", most_common)"
   ]
  },
  {
   "cell_type": "markdown",
   "id": "250e9999-5dd3-4f5a-a491-77d242945c0b",
   "metadata": {},
   "source": [
    "Q45. Find all unique words in a string."
   ]
  },
  {
   "cell_type": "code",
   "execution_count": 43,
   "id": "48007fe3-c1ce-4306-af11-5a1543066169",
   "metadata": {},
   "outputs": [
    {
     "name": "stdout",
     "output_type": "stream",
     "text": [
      "unique words are:--> {'hello', 'world', 'there', 'you', 'are'}\n"
     ]
    }
   ],
   "source": [
    "import re\n",
    "\n",
    "def unique_words(input_string):\n",
    "    clean_string1 = re.sub(r'[^\\w\\s]','',input_string).lower()\n",
    "    \n",
    "    unique_word = set(clean_string1.split())\n",
    "    return unique_word\n",
    "\n",
    "string1 = \"hello! hello! , World are you there hello!\"\n",
    "k = unique_words(string1)\n",
    "print(\"unique words are:-->\", k)"
   ]
  },
  {
   "cell_type": "markdown",
   "id": "446379e5-76a4-4e2c-b60d-08b6c4a89c2d",
   "metadata": {},
   "source": [
    "Q46. Count the number of syllables in a string."
   ]
  },
  {
   "cell_type": "code",
   "execution_count": 46,
   "id": "29abd07b-0f9b-4fd5-a4d8-37f3daf6a268",
   "metadata": {},
   "outputs": [
    {
     "name": "stdout",
     "output_type": "stream",
     "text": [
      "'hello' has 2 syllables.\n",
      "'banana' has 3 syllables.\n",
      "'syllable' has 3 syllables.\n"
     ]
    }
   ],
   "source": [
    "import re\n",
    "\n",
    "def count_syllables(string_input5):\n",
    "    vowel_groups = re.findall(r'[aeiouy]+',string_input5,re.IGNORECASE)\n",
    "    return len(vowel_groups)\n",
    "\n",
    "word1 = \"hello\"\n",
    "word2 = \"banana\"\n",
    "word3 = \"syllable\"\n",
    "\n",
    "# Count syllables\n",
    "syllables1 = count_syllables(word1)\n",
    "syllables2 = count_syllables(word2)\n",
    "syllables3 = count_syllables(word3)\n",
    "\n",
    "# Print the results\n",
    "print(f\"'{word1}' has {syllables1} syllables.\")\n",
    "print(f\"'{word2}' has {syllables2} syllables.\")\n",
    "print(f\"'{word3}' has {syllables3} syllables.\")\n",
    "\n"
   ]
  },
  {
   "cell_type": "markdown",
   "id": "607e1685-ccb8-4418-bd13-a15858f2e10b",
   "metadata": {},
   "source": [
    "Q47. Check if a string contains any special characters."
   ]
  },
  {
   "cell_type": "code",
   "execution_count": 49,
   "id": "b81abebf-3801-4d65-b202-170320640850",
   "metadata": {},
   "outputs": [
    {
     "name": "stdout",
     "output_type": "stream",
     "text": [
      "The string Hello contains special character False.\n",
      "The string Hell!@ contains special character True.\n",
      "The string JIO< contains special character True.\n"
     ]
    }
   ],
   "source": [
    "import re\n",
    "\n",
    "def spec_characters(input_string6):\n",
    "    special_char = re.compile(r'[!@#$%^&*()_+{}\\[\\]:;<>,.?~\\\\/]')\n",
    "    \n",
    "    match = special_char.search(input_string6)\n",
    "    return bool(match)\n",
    "\n",
    "s = \"Hello\"\n",
    "s1 = \"Hell!@\"\n",
    "s2 = \"JIO<\"\n",
    "\n",
    "w = spec_characters(s)\n",
    "w1 = spec_characters(s1)\n",
    "w2 = spec_characters(s2)\n",
    "\n",
    "print(f\"The string {s} contains special character {w}.\")\n",
    "print(f\"The string {s1} contains special character {w1}.\")\n",
    "print(f\"The string {s2} contains special character {w2}.\")"
   ]
  },
  {
   "cell_type": "markdown",
   "id": "ac727b3f-6303-42b2-a8e2-4e4063029006",
   "metadata": {},
   "source": [
    "Q48. Remove the nth word from a string."
   ]
  },
  {
   "cell_type": "code",
   "execution_count": 54,
   "id": "7117966e-a960-4515-9462-ef020eeaaab7",
   "metadata": {},
   "outputs": [
    {
     "name": "stdout",
     "output_type": "stream",
     "text": [
      "Orginal string is:--> Hello My name is Paras Sharma\n",
      "Modified string is:--> Hello name is Paras Sharma\n",
      "Removed word is:--> My\n"
     ]
    }
   ],
   "source": [
    "def remove_nth_word(text,nth):\n",
    "    clean_list= text.split()\n",
    "    \n",
    "    if nth >= 1 and nth <= len(clean_list):\n",
    "        removed_word = clean_list.pop(nth-1)\n",
    "        \n",
    "        modified_string = ' '.join(clean_list)      \n",
    "        return modified_string,removed_word\n",
    "    else:\n",
    "        return None,None\n",
    "input_string = \"Hello My name is Paras Sharma\"\n",
    "nth_value = 2\n",
    "\n",
    "modified_word,removed_word = remove_nth_word(input_string,nth_value)\n",
    "print(\"Orginal string is:-->\", input_string)\n",
    "\n",
    "if modified_word is not None:\n",
    "    print(\"Modified string is:-->\", modified_word)\n",
    "    print(\"Removed word is:-->\", removed_word)\n",
    "else:\n",
    "    print(\"Invalid entry\")\n",
    "    \n",
    "    \n",
    "\n",
    "    "
   ]
  },
  {
   "cell_type": "markdown",
   "id": "32de1a57-d581-47df-9fbe-db5a9d0d1a4d",
   "metadata": {},
   "source": [
    "Q49. Insert a word at the nth position in a string."
   ]
  },
  {
   "cell_type": "code",
   "execution_count": null,
   "id": "f9cb7456-7ac7-431d-b48f-d5bd3312f5de",
   "metadata": {},
   "outputs": [],
   "source": []
  },
  {
   "cell_type": "code",
   "execution_count": null,
   "id": "a8c08a97-d867-4d0c-b38b-b5659985d0d1",
   "metadata": {},
   "outputs": [],
   "source": []
  },
  {
   "cell_type": "markdown",
   "id": "21a87ef4-8242-4a11-85ce-192a049c74a6",
   "metadata": {},
   "source": [
    "Q50. Convert a CSV string to a list of lists."
   ]
  },
  {
   "cell_type": "code",
   "execution_count": 57,
   "id": "8cc8bd1c-efd5-42fa-9408-00395314f150",
   "metadata": {},
   "outputs": [
    {
     "name": "stdout",
     "output_type": "stream",
     "text": [
      "['Name', ' Age', ' Country']\n",
      "['John', ' 25', ' USA']\n",
      "['Alice', ' 30', ' Canada']\n",
      "['Bob', ' 22', ' UK']\n"
     ]
    }
   ],
   "source": [
    "def csv_listoflists(string_catch):\n",
    "    lines = string_catch.split('\\n')\n",
    "    result = []\n",
    "    \n",
    "    for line in lines:\n",
    "        fields = line.split(',')\n",
    "        \n",
    "        result.append(fields)\n",
    "    return result\n",
    "        \n",
    "csv_data = \"Name, Age, Country\\nJohn, 25, USA\\nAlice, 30, Canada\\nBob, 22, UK\"\n",
    "\n",
    "list_of_lists = csv_listoflists(csv_data)\n",
    "\n",
    "for i in list_of_lists:\n",
    "    print(i)\n",
    "    "
   ]
  },
  {
   "cell_type": "code",
   "execution_count": 2,
   "id": "df450167-02ba-4ba9-a6ef-1ce5df063bd9",
   "metadata": {},
   "outputs": [],
   "source": [
    "## **List based practice problem :**\n"
   ]
  },
  {
   "cell_type": "markdown",
   "id": "e920cc06-c958-41ff-be91-08a8e49579c1",
   "metadata": {},
   "source": [
    "1. Create a list with integers from 1 to 10."
   ]
  },
  {
   "cell_type": "code",
   "execution_count": 3,
   "id": "e69c2e36-353a-4cdc-8387-35e5a451fee5",
   "metadata": {},
   "outputs": [
    {
     "name": "stdout",
     "output_type": "stream",
     "text": [
      "[1, 2, 3, 4, 5, 6, 7, 8, 9, 10]\n"
     ]
    }
   ],
   "source": [
    "interger_list = [i for i in range(1,11)]\n",
    "print(interger_list)"
   ]
  },
  {
   "cell_type": "markdown",
   "id": "6744d73d-ba4b-4554-b6da-15d8e4231939",
   "metadata": {},
   "source": [
    "2. Find the length of a list without using the `len()` function."
   ]
  },
  {
   "cell_type": "code",
   "execution_count": 10,
   "id": "4114f131-a2f2-4a56-a872-a169fa0a1e24",
   "metadata": {},
   "outputs": [
    {
     "name": "stdout",
     "output_type": "stream",
     "text": [
      "3\n"
     ]
    }
   ],
   "source": [
    "l1 = [12,13,'p']\n",
    "\n",
    "def lenghtoflist(l):\n",
    "    counter = 0\n",
    "    for i in l:\n",
    "        if i != counter:\n",
    "            counter+=1\n",
    "        else:\n",
    "            return i\n",
    "    return counter\n",
    "\n",
    "k = lenghtoflist(l1)\n",
    "print(k)\n",
    "    "
   ]
  },
  {
   "cell_type": "markdown",
   "id": "480bf279-fa38-4fa7-98eb-d91b33df26ce",
   "metadata": {},
   "source": [
    "3. Append an element to the end of a list."
   ]
  },
  {
   "cell_type": "code",
   "execution_count": 12,
   "id": "4494b37e-0c7e-408b-8603-d883ffbfc8aa",
   "metadata": {},
   "outputs": [
    {
     "name": "stdout",
     "output_type": "stream",
     "text": [
      "[10, 20, 30, 'paras']\n"
     ]
    }
   ],
   "source": [
    "def add_element(l1,n):\n",
    "    l1.append(n)\n",
    "    return l1\n",
    "l2 = [10,20,30]\n",
    "k = add_element(l2,'paras')\n",
    "print(k)"
   ]
  },
  {
   "cell_type": "code",
   "execution_count": 14,
   "id": "45553147-d18c-47e3-8902-84598d226438",
   "metadata": {},
   "outputs": [
    {
     "name": "stdout",
     "output_type": "stream",
     "text": [
      "['Name', ' Age', ' Country']\n",
      "['John', ' 25', ' USA']\n",
      "['Alice', ' 30', ' Canada']\n",
      "['Bob', ' 22', ' UK']\n"
     ]
    }
   ],
   "source": [
    "s = \"Name, Age, Country\\nJohn, 25, USA\\nAlice, 30, Canada\\nBob, 22, UK\"\n",
    "lines = s.split(\"\\n\")\n",
    "\n",
    "lst = []\n",
    "for line in lines:\n",
    "  field = line.split(\",\")\n",
    "  lst.append(field)\n",
    "\n",
    "for row in lst:\n",
    "  print(row)"
   ]
  },
  {
   "cell_type": "code",
   "execution_count": 20,
   "id": "b4e5a1c2-235c-402f-9a03-d29668906e8a",
   "metadata": {},
   "outputs": [
    {
     "name": "stdout",
     "output_type": "stream",
     "text": [
      "['Name', ' Age', ' Country']\n",
      "['John', ' 25', ' USA']\n",
      "['Alice', ' 30', ' Canada']\n",
      "['Bob', ' 22', ' UK']\n",
      "['Petar', ' 45', ' India']\n"
     ]
    }
   ],
   "source": [
    "s = \"Name, Age, Country\\nJohn, 25, USA\\nAlice, 30, Canada\\nBob, 22, UK\\nPetar, 45, India\"\n",
    "lines = s.split('\\n')\n",
    "\n",
    "lst=[]\n",
    "for i in lines:\n",
    "    f = i.split(',')\n",
    "    print(f)\n",
    "    "
   ]
  },
  {
   "cell_type": "markdown",
   "id": "736bc918-a75b-4d14-a8e9-7c12cf339c49",
   "metadata": {},
   "source": [
    "4. Insert an element at a specific index in a list."
   ]
  },
  {
   "cell_type": "code",
   "execution_count": 16,
   "id": "4bc3d461-b76e-4e65-bcba-0c0fd141aebf",
   "metadata": {},
   "outputs": [
    {
     "name": "stdout",
     "output_type": "stream",
     "text": [
      "Updated list [10, 11, 22, 33, 100, 56, 76, 89]\n"
     ]
    }
   ],
   "source": [
    "def specific_index(list1,index,value):\n",
    "    list1.insert(index,value)\n",
    "    return list1\n",
    "\n",
    "list_main = [10,11,22,33,56,76,89]\n",
    "index_to_insert = 4\n",
    "value_to_insert = 100\n",
    "k = specific_index(list_main,index_to_insert,value_to_insert)\n",
    "print(\"Updated list\",k)\n",
    "    \n",
    "    "
   ]
  },
  {
   "cell_type": "markdown",
   "id": "b8e47fea-4a60-4522-9139-f2b93a8f9f5d",
   "metadata": {},
   "source": [
    "5. Remove an element from a list by its value."
   ]
  },
  {
   "cell_type": "code",
   "execution_count": 17,
   "id": "dbb7e5e0-e027-4d9d-8601-e84a30cc4c07",
   "metadata": {},
   "outputs": [
    {
     "data": {
      "text/plain": [
       "[10, 11, 22, 33, 100, 56, 76, 89]"
      ]
     },
     "execution_count": 17,
     "metadata": {},
     "output_type": "execute_result"
    }
   ],
   "source": [
    "list_main"
   ]
  },
  {
   "cell_type": "code",
   "execution_count": 18,
   "id": "3a771aae-b508-4268-bd2a-698838b37fe2",
   "metadata": {},
   "outputs": [
    {
     "data": {
      "text/plain": [
       "[10, 11, 22, 100, 56, 76, 89]"
      ]
     },
     "execution_count": 18,
     "metadata": {},
     "output_type": "execute_result"
    }
   ],
   "source": [
    "value_to_remove = 22\n",
    "list_main.remove(33)\n",
    "list_main"
   ]
  },
  {
   "cell_type": "markdown",
   "id": "5e947083-d0a3-4d25-b606-516b78832ee8",
   "metadata": {},
   "source": [
    "6. Remove an element from a list by its index."
   ]
  },
  {
   "cell_type": "code",
   "execution_count": 25,
   "id": "ff3bb699-5a81-4978-bd35-4d3756f0c4ad",
   "metadata": {},
   "outputs": [
    {
     "data": {
      "text/plain": [
       "[10, 20, 40, 50]"
      ]
     },
     "execution_count": 25,
     "metadata": {},
     "output_type": "execute_result"
    }
   ],
   "source": [
    "list_new1 = [10,20,30,40,50]\n",
    "index_to_remove = 2\n",
    "final_list = list_new1.pop(index_to_remove)\n",
    "final_list\n",
    "list_new1"
   ]
  },
  {
   "cell_type": "markdown",
   "id": "cbae5eb2-2bd4-4f3c-b142-df28fcd4f194",
   "metadata": {},
   "source": [
    "7. Check if an element exists in a list."
   ]
  },
  {
   "cell_type": "code",
   "execution_count": 28,
   "id": "35bc4b4b-7126-47dd-8459-4173be6d4ffd",
   "metadata": {},
   "outputs": [
    {
     "name": "stdout",
     "output_type": "stream",
     "text": [
      "The element: 100 is not present in the list: [10, 20, 40, 50]\n"
     ]
    }
   ],
   "source": [
    "list_new1\n",
    "element_to_check = 100\n",
    "\n",
    "if element_to_check in list_new1:\n",
    "    print(f\"The element: {element_to_check} is present in the list: {list_new1}\")\n",
    "else:\n",
    "    print(f\"The element: {element_to_check} is not present in the list: {list_new1}\")\n",
    "        "
   ]
  },
  {
   "cell_type": "markdown",
   "id": "1bc7576e-1dae-4312-9331-2d59f674b9db",
   "metadata": {},
   "source": [
    "8. Find the index of the first occurrence of an element in a list."
   ]
  },
  {
   "cell_type": "code",
   "execution_count": 34,
   "id": "77cfdf8f-3058-43d5-b2c4-0c1be170ed8b",
   "metadata": {},
   "outputs": [
    {
     "data": {
      "text/plain": [
       "[10, 20, 40, 50, 90, 100, 90, 90, 90]"
      ]
     },
     "execution_count": 34,
     "metadata": {},
     "output_type": "execute_result"
    }
   ],
   "source": [
    "list_new1.insert(5,100)\n",
    "list_new1"
   ]
  },
  {
   "cell_type": "code",
   "execution_count": null,
   "id": "eeb39ed2-71ce-4d1b-8594-455cff24b5f8",
   "metadata": {},
   "outputs": [
    {
     "data": {
      "text/plain": [
       "4"
      ]
     },
     "execution_count": 35,
     "metadata": {},
     "output_type": "execute_result"
    }
   ],
   "source": [
    "element_to_check = 90\n",
    "index_is = list_new1.index(element_to_check)\n",
    "index_is"
   ]
  },
  {
   "cell_type": "markdown",
   "id": "f3535c27-04f2-46e8-a3bb-d494136f5141",
   "metadata": {},
   "source": [
    "9. Count the occurrences of an element in a list."
   ]
  },
  {
   "cell_type": "code",
   "execution_count": 39,
   "id": "96b7ead1-c374-4850-84c2-a82230dc0c60",
   "metadata": {},
   "outputs": [
    {
     "data": {
      "text/plain": [
       "4"
      ]
     },
     "execution_count": 39,
     "metadata": {},
     "output_type": "execute_result"
    }
   ],
   "source": [
    "list_new1\n",
    "value_to_chk_repetetion = 90\n",
    "counter1 = list_new1.count(90)\n",
    "counter1"
   ]
  },
  {
   "cell_type": "markdown",
   "id": "4093986a-a394-40af-82ea-9d03eb01686a",
   "metadata": {},
   "source": [
    "10. Reverse the order of elements in a list."
   ]
  },
  {
   "cell_type": "code",
   "execution_count": 40,
   "id": "96d1167a-29df-4a9a-be0d-7908ad59f49c",
   "metadata": {},
   "outputs": [
    {
     "data": {
      "text/plain": [
       "[10, 20, 40, 50, 90, 100, 90, 90, 90]"
      ]
     },
     "execution_count": 40,
     "metadata": {},
     "output_type": "execute_result"
    }
   ],
   "source": [
    "list_new1"
   ]
  },
  {
   "cell_type": "code",
   "execution_count": 47,
   "id": "054e659c-aada-4163-8cb0-6590fc2ec6b6",
   "metadata": {},
   "outputs": [],
   "source": [
    "list_new1.reverse()"
   ]
  },
  {
   "cell_type": "code",
   "execution_count": 48,
   "id": "b88d9659-ab56-47f7-b0f2-5aa3d845014b",
   "metadata": {},
   "outputs": [
    {
     "data": {
      "text/plain": [
       "[90, 90, 90, 100, 90, 50, 40, 20, 10]"
      ]
     },
     "execution_count": 48,
     "metadata": {},
     "output_type": "execute_result"
    }
   ],
   "source": [
    "list_new1"
   ]
  },
  {
   "cell_type": "markdown",
   "id": "2d76c369-9131-4386-b30a-82fa6128457e",
   "metadata": {},
   "source": [
    "11. Sort a list in ascending order."
   ]
  },
  {
   "cell_type": "code",
   "execution_count": 54,
   "id": "51e5a085-0a8d-4348-9efa-74ade4c809fc",
   "metadata": {},
   "outputs": [
    {
     "data": {
      "text/plain": [
       "[10, 20, 40, 50, 90, 100, 90, 90, 90]"
      ]
     },
     "execution_count": 54,
     "metadata": {},
     "output_type": "execute_result"
    }
   ],
   "source": [
    "list_new1"
   ]
  },
  {
   "cell_type": "code",
   "execution_count": 55,
   "id": "652568d8-334c-4387-ae42-889eaaf99f39",
   "metadata": {},
   "outputs": [
    {
     "data": {
      "text/plain": [
       "[10, 20, 40, 50, 90, 90, 90, 90, 100]"
      ]
     },
     "execution_count": 55,
     "metadata": {},
     "output_type": "execute_result"
    }
   ],
   "source": [
    "list_new1.sort()\n",
    "list_new1"
   ]
  },
  {
   "cell_type": "markdown",
   "id": "eba22fd7-5adf-4baf-9ef4-8f54df6077f0",
   "metadata": {},
   "source": [
    "12. Sort a list in descending order."
   ]
  },
  {
   "cell_type": "code",
   "execution_count": 56,
   "id": "af5f483e-51d2-4af0-b77b-4ebfce94fc54",
   "metadata": {},
   "outputs": [
    {
     "data": {
      "text/plain": [
       "[100, 90, 90, 90, 90, 50, 40, 20, 10]"
      ]
     },
     "execution_count": 56,
     "metadata": {},
     "output_type": "execute_result"
    }
   ],
   "source": [
    "list_new1.sort(reverse=True)\n",
    "list_new1"
   ]
  },
  {
   "cell_type": "markdown",
   "id": "8ec19acc-1870-471c-872d-b101d1be9a74",
   "metadata": {},
   "source": [
    "13. Create a list of even numbers from 1 to 20."
   ]
  },
  {
   "cell_type": "code",
   "execution_count": 59,
   "id": "a90e0ebc-538c-4ffd-9f8e-10178856ee9c",
   "metadata": {},
   "outputs": [
    {
     "data": {
      "text/plain": [
       "[2, 4, 6, 8, 10, 12, 14, 16, 18, 20]"
      ]
     },
     "execution_count": 59,
     "metadata": {},
     "output_type": "execute_result"
    }
   ],
   "source": [
    "even_number_list = [even for even in range(1,21) if even%2==0]\n",
    "even_number_list"
   ]
  },
  {
   "cell_type": "markdown",
   "id": "cd15250a-ae71-4fd8-a750-d06bb26e4222",
   "metadata": {},
   "source": [
    "14. Create a list of odd numbers from 1 to 20."
   ]
  },
  {
   "cell_type": "code",
   "execution_count": 60,
   "id": "4dd6af27-68cf-44d9-b13a-346f12f32d84",
   "metadata": {},
   "outputs": [
    {
     "data": {
      "text/plain": [
       "[1, 3, 5, 7, 9, 11, 13, 15, 17, 19]"
      ]
     },
     "execution_count": 60,
     "metadata": {},
     "output_type": "execute_result"
    }
   ],
   "source": [
    "odd_number_list = [i for i in range(1,20) if i%2 != 0]\n",
    "odd_number_list"
   ]
  },
  {
   "cell_type": "markdown",
   "id": "ffc840c7-13ec-4764-9402-5344a916d8d0",
   "metadata": {},
   "source": [
    "15. Find the sum of all elements in a list."
   ]
  },
  {
   "cell_type": "code",
   "execution_count": 63,
   "id": "bfed265d-9887-4a4e-9fea-b4757851d48d",
   "metadata": {},
   "outputs": [
    {
     "data": {
      "text/plain": [
       "580"
      ]
     },
     "execution_count": 63,
     "metadata": {},
     "output_type": "execute_result"
    }
   ],
   "source": [
    "sum_of_elements = sum(list_new1)\n",
    "sum_of_elements"
   ]
  },
  {
   "cell_type": "markdown",
   "id": "bc2ef7bc-903a-4b7d-b759-4ba8fa766ac6",
   "metadata": {},
   "source": [
    "16. Find the maximum value in a list."
   ]
  },
  {
   "cell_type": "code",
   "execution_count": 64,
   "id": "8192a97f-686b-46a7-81ee-e61c18e4be97",
   "metadata": {},
   "outputs": [
    {
     "data": {
      "text/plain": [
       "100"
      ]
     },
     "execution_count": 64,
     "metadata": {},
     "output_type": "execute_result"
    }
   ],
   "source": [
    "k = max(list_new1)\n",
    "k"
   ]
  },
  {
   "cell_type": "markdown",
   "id": "8906c2ef-8724-4792-b650-7bd523b6309d",
   "metadata": {},
   "source": [
    "17. Find the minimum value in a list."
   ]
  },
  {
   "cell_type": "code",
   "execution_count": 65,
   "id": "2cdbd743-13b2-41e6-ba8c-259672839dbc",
   "metadata": {},
   "outputs": [
    {
     "data": {
      "text/plain": [
       "10"
      ]
     },
     "execution_count": 65,
     "metadata": {},
     "output_type": "execute_result"
    }
   ],
   "source": [
    "w = min(list_new1)\n",
    "w"
   ]
  },
  {
   "cell_type": "markdown",
   "id": "21336b55-e8fe-489f-ad62-3545e7675d12",
   "metadata": {},
   "source": [
    "18. Create a list of squares of numbers from 1 to 10."
   ]
  },
  {
   "cell_type": "code",
   "execution_count": 66,
   "id": "7b36f6e2-717f-4704-bb35-330c28989bc9",
   "metadata": {},
   "outputs": [
    {
     "name": "stdout",
     "output_type": "stream",
     "text": [
      "[1, 4, 9, 16, 25, 36, 49, 64, 81, 100]\n"
     ]
    }
   ],
   "source": [
    "list_squares = [x**2 for x in range(1,11)]\n",
    "print(list_squares)"
   ]
  },
  {
   "cell_type": "markdown",
   "id": "8ddad65d-8949-4dc4-9890-e25f0fa6cc8a",
   "metadata": {},
   "source": [
    "19. Create a list of random numbers."
   ]
  },
  {
   "cell_type": "code",
   "execution_count": 23,
   "id": "162dff75-f3de-4ead-a9a2-fbee0d968e40",
   "metadata": {},
   "outputs": [
    {
     "name": "stdout",
     "output_type": "stream",
     "text": [
      "[34, 60, 1, 36, 11, 5, 6, 93, 8, 37, 41, 58, 50, 65]\n"
     ]
    }
   ],
   "source": [
    "import random\n",
    "list_random = [random.randint(1,100) for _ in range(1,15)]\n",
    "print(list_random)"
   ]
  },
  {
   "cell_type": "markdown",
   "id": "04042880-f6a1-40e8-98d2-3a6faaec5f84",
   "metadata": {},
   "source": [
    "20. Remove duplicates from a list."
   ]
  },
  {
   "cell_type": "code",
   "execution_count": 28,
   "id": "81389579-76e0-4939-8ba8-00585176b9fd",
   "metadata": {},
   "outputs": [
    {
     "name": "stdout",
     "output_type": "stream",
     "text": [
      "[70, 40, 10, 50, 20, 60, 30]\n"
     ]
    }
   ],
   "source": [
    "list1 = [10,10,20,20,30,30,40,40,50,60,70]\n",
    "rem_dup = list(set(list1))\n",
    "print(rem_dup)"
   ]
  },
  {
   "cell_type": "markdown",
   "id": "1667adc4-5f14-4bf1-aa4f-3009bc49c928",
   "metadata": {},
   "source": [
    "21. Find the common elements between two lists."
   ]
  },
  {
   "cell_type": "code",
   "execution_count": 29,
   "id": "57607a9b-41ab-4a21-9928-f600fee9882a",
   "metadata": {},
   "outputs": [
    {
     "name": "stdout",
     "output_type": "stream",
     "text": [
      "[20, 40, 60]\n"
     ]
    }
   ],
   "source": [
    "l1 = [10,20,30,40,50,60]\n",
    "l2 = [90,70,20,40,60]\n",
    "common_list = []\n",
    "for i in l1:\n",
    "    if i in l2:\n",
    "        common_list.append(i)\n",
    "    else:\n",
    "        None\n",
    "        \n",
    "print(common_list)\n"
   ]
  },
  {
   "cell_type": "markdown",
   "id": "9fddde88-6753-40b3-a8cf-e2c64c17279b",
   "metadata": {},
   "source": [
    "22. Find the difference between two lists."
   ]
  },
  {
   "cell_type": "code",
   "execution_count": 30,
   "id": "ebfce13c-1959-4a3a-ac56-06362b3c350d",
   "metadata": {},
   "outputs": [
    {
     "name": "stdout",
     "output_type": "stream",
     "text": [
      "[50, 10, 30]\n"
     ]
    }
   ],
   "source": [
    "l1 = [10,20,30,40,50,60]\n",
    "l2 = [90,70,20,40,60]\n",
    "different= list(set(l1).difference(l2))\n",
    "print(different)"
   ]
  },
  {
   "cell_type": "markdown",
   "id": "6e12e9ae-e2e3-479a-9726-d63c0ed9b168",
   "metadata": {},
   "source": [
    "23. Merge two lists."
   ]
  },
  {
   "cell_type": "code",
   "execution_count": 31,
   "id": "99d253b8-7fbe-426b-a138-6cb9d038482e",
   "metadata": {},
   "outputs": [
    {
     "data": {
      "text/plain": [
       "[10, 20, 30, 40, 50, 60, 90, 70, 20, 40, 60]"
      ]
     },
     "execution_count": 31,
     "metadata": {},
     "output_type": "execute_result"
    }
   ],
   "source": [
    "l3 = l1+l2\n",
    "l3"
   ]
  },
  {
   "cell_type": "markdown",
   "id": "925df733-566c-42c3-b039-c00133f19071",
   "metadata": {},
   "source": [
    "24. Multiply all elements in a list by 2."
   ]
  },
  {
   "cell_type": "code",
   "execution_count": 34,
   "id": "8d4cb976-b1f4-48c4-9431-1420ad82f1d4",
   "metadata": {},
   "outputs": [
    {
     "data": {
      "text/plain": [
       "[180, 140, 40, 80, 120]"
      ]
     },
     "execution_count": 34,
     "metadata": {},
     "output_type": "execute_result"
    }
   ],
   "source": [
    "l4=[x*2 for x in l2]\n",
    "l4"
   ]
  },
  {
   "cell_type": "markdown",
   "id": "298ffc71-2015-4766-8171-f393bdec1198",
   "metadata": {},
   "source": [
    "25. Filter out all even numbers from a list."
   ]
  },
  {
   "cell_type": "code",
   "execution_count": 38,
   "id": "01fdee42-053f-469c-823f-de6a4400b064",
   "metadata": {},
   "outputs": [
    {
     "data": {
      "text/plain": [
       "[1, 3, 5, 7]"
      ]
     },
     "execution_count": 38,
     "metadata": {},
     "output_type": "execute_result"
    }
   ],
   "source": [
    "l5 = [1,2,3,4,5,6,7,8]\n",
    "filter_even = [x for x in l5 if x%2!=0]\n",
    "filter_even"
   ]
  },
  {
   "cell_type": "markdown",
   "id": "8b7a372f-4c9a-4656-b66a-4f289a529189",
   "metadata": {},
   "source": [
    "26. Convert a list of strings to a list of integers."
   ]
  },
  {
   "cell_type": "code",
   "execution_count": 39,
   "id": "46902c45-af07-45ac-ac81-ab082104f3ea",
   "metadata": {},
   "outputs": [
    {
     "data": {
      "text/plain": [
       "[1, 2, 3, 4, 5, 6, 7, 8]"
      ]
     },
     "execution_count": 39,
     "metadata": {},
     "output_type": "execute_result"
    }
   ],
   "source": [
    "l6=['1','2','3','4','5','6','7','8']\n",
    "l7 = [int(x) for x in l6]\n",
    "l7"
   ]
  },
  {
   "cell_type": "markdown",
   "id": "9503447b-1d91-4552-b4a9-1af53845a253",
   "metadata": {},
   "source": [
    "27. Convert a list of integers to a list of strings."
   ]
  },
  {
   "cell_type": "code",
   "execution_count": 40,
   "id": "672b5ed0-1d51-44f2-bd9c-caf5727bda25",
   "metadata": {},
   "outputs": [
    {
     "data": {
      "text/plain": [
       "['1', '2', '3', '4', '5', '6', '7', '8']"
      ]
     },
     "execution_count": 40,
     "metadata": {},
     "output_type": "execute_result"
    }
   ],
   "source": [
    "l8 = [str(x) for  x in l7]\n",
    "l8"
   ]
  },
  {
   "cell_type": "markdown",
   "id": "a64bd820-fceb-4fa0-b22d-a002092a1503",
   "metadata": {},
   "source": [
    "28. Flatten a nested list."
   ]
  },
  {
   "cell_type": "code",
   "execution_count": 51,
   "id": "0c270e35-63cb-42c7-b2ef-07b641a7cdb4",
   "metadata": {},
   "outputs": [
    {
     "name": "stdout",
     "output_type": "stream",
     "text": [
      "[10, 20, 30, 40, 50, 60, 70, 80, 90]\n"
     ]
    }
   ],
   "source": [
    "nest_list = [[10,20,30],[40,50,60],[70,80,90]]\n",
    "nest_list[1]\n",
    "def flat_nest_list(nestedlist):\n",
    "    flattened_list=[]\n",
    "    for i in nestedlist:\n",
    "        if isinstance(i,list):\n",
    "            flattened_list.extend(flat_nest_list(i))\n",
    "        else:\n",
    "            flattened_list.append(i)\n",
    "    return flattened_list\n",
    "\n",
    "flattened_list = flat_nest_list(nest_list)\n",
    "print(flattened_list)\n",
    "        "
   ]
  },
  {
   "cell_type": "markdown",
   "id": "4c34e7a5-6742-445f-ab58-d6102c3aeca1",
   "metadata": {},
   "source": [
    "29. Create a list of the first 10 Fibonacci numbers."
   ]
  },
  {
   "cell_type": "code",
   "execution_count": 6,
   "id": "acd62e6b-608c-4567-bfb9-321df900bc2b",
   "metadata": {},
   "outputs": [
    {
     "name": "stdout",
     "output_type": "stream",
     "text": [
      "fibonaci series: [0, 1, 1, 2, 3, 5, 8, 13, 21, 34]\n"
     ]
    }
   ],
   "source": [
    "def fibonaci_series(n):\n",
    "    fibonaci_s=[0,1]\n",
    "    for i in range(2,n):\n",
    "        fib = fibonaci_s[i-1] + fibonaci_s[i-2]\n",
    "        fibonaci_s.append(fib)\n",
    "    return fibonaci_s\n",
    "k = fibonaci_series(10)\n",
    "print(\"fibonaci series:\", k)\n",
    "    "
   ]
  },
  {
   "cell_type": "markdown",
   "id": "18d4fa56-85c9-42c0-b905-cf7a4b55c66a",
   "metadata": {},
   "source": [
    "30. Check if a list is sorted."
   ]
  },
  {
   "cell_type": "code",
   "execution_count": 7,
   "id": "87d9b4a2-cfca-4156-8850-3f85159b32e6",
   "metadata": {},
   "outputs": [
    {
     "name": "stdout",
     "output_type": "stream",
     "text": [
      "List is not sorted\n"
     ]
    }
   ],
   "source": [
    "def list_sorted_asc(ascd):\n",
    "    for i in range(1,len(ascd)):\n",
    "        if ascd[i] < ascd[i-1]:\n",
    "            return False\n",
    "    return True\n",
    "\n",
    "l = [10,20,30,50,40,60,70]\n",
    "\n",
    "if list_sorted_asc(l):\n",
    "    print(\"List is sorted\")\n",
    "else:\n",
    "    print(\"List is not sorted\")"
   ]
  },
  {
   "cell_type": "markdown",
   "id": "348d4bff-dc7d-441c-a18c-4667b18879f1",
   "metadata": {},
   "source": [
    "31. Rotate a list to the left by `n` positions."
   ]
  },
  {
   "cell_type": "code",
   "execution_count": 2,
   "id": "b441e1b6-80a6-42b4-b74c-22e68be48d22",
   "metadata": {},
   "outputs": [
    {
     "name": "stdin",
     "output_type": "stream",
     "text": [
      "Enter the size of list 4\n",
      "Enter the element 1\n",
      "Enter the element 2\n",
      "Enter the element 3\n",
      "Enter the element 4\n"
     ]
    },
    {
     "name": "stdout",
     "output_type": "stream",
     "text": [
      "Main list is: [1, 2, 3, 4]\n"
     ]
    },
    {
     "name": "stdin",
     "output_type": "stream",
     "text": [
      "Enter the number of shift to left 2\n"
     ]
    },
    {
     "name": "stdout",
     "output_type": "stream",
     "text": [
      "List after shifting:2 times is:  [3, 4, 1, 2]\n"
     ]
    }
   ],
   "source": [
    "a = []\n",
    "size = int(input(\"Enter the size of list\"))\n",
    "for i in range(size):\n",
    "    val = int(input(\"Enter the element\"))\n",
    "    a.append(val)\n",
    "print(\"Main list is:\",a)\n",
    "\n",
    "n = int(input(\"Enter the number of shift to left\"))\n",
    "\n",
    "for count in range(n):\n",
    "    key = a[0]\n",
    "    for k in range(1,size):\n",
    "        a[k-1] = a[k]\n",
    "    a[size-1] = key\n",
    "print(f\"List after shifting:{n} times is: \", a)"
   ]
  },
  {
   "cell_type": "markdown",
   "id": "d269b304-7094-48ff-850a-eb65769779fd",
   "metadata": {},
   "source": [
    "32. Rotate a list to the right by `n` positions."
   ]
  },
  {
   "cell_type": "code",
   "execution_count": 8,
   "id": "38f5c64c-df45-4ab7-979a-46bfc79fa615",
   "metadata": {},
   "outputs": [
    {
     "name": "stdin",
     "output_type": "stream",
     "text": [
      "Enter the size of list 5\n",
      "Enter the values 1\n",
      "Enter the values 2\n",
      "Enter the values 3\n",
      "Enter the values 4\n",
      "Enter the values 5\n"
     ]
    },
    {
     "name": "stdout",
     "output_type": "stream",
     "text": [
      "Main list is:  [1, 2, 3, 4, 5]\n"
     ]
    },
    {
     "name": "stdin",
     "output_type": "stream",
     "text": [
      "Enter the number of shift to done in right 2\n"
     ]
    },
    {
     "name": "stdout",
     "output_type": "stream",
     "text": [
      "The shifted list:2 times is [4, 5, 1, 2, 3]\n"
     ]
    }
   ],
   "source": [
    "b = []\n",
    "size1 = int(input(\"Enter the size of list\"))\n",
    "\n",
    "for counter in range(size1):\n",
    "    vsl = int(input(\"Enter the values\"))\n",
    "    b.append(vsl)\n",
    "print(\"Main list is: \",b)\n",
    "u = int(input(\"Enter the number of shift to done in right\"))\n",
    "for f in range(u):\n",
    "    key1 = b[size1-1]\n",
    "    for r in range(size1-2,-1,-1):\n",
    "        b[r+1] = b[r]\n",
    "    b[0] = key1\n",
    "print(f\"The shifted list:{u} times is\", b)"
   ]
  },
  {
   "cell_type": "markdown",
   "id": "fd1e4552-c8e2-47dc-aca5-78dbfd8c6531",
   "metadata": {},
   "source": [
    "33. Create a list of prime numbers up to 50."
   ]
  },
  {
   "cell_type": "code",
   "execution_count": 3,
   "id": "f017070f-4046-4870-a58d-a8f5b78f61d7",
   "metadata": {},
   "outputs": [
    {
     "name": "stdin",
     "output_type": "stream",
     "text": [
      "Enter the start number 1\n",
      "Enter the end number 50\n"
     ]
    },
    {
     "name": "stdout",
     "output_type": "stream",
     "text": [
      "Prime numbers in the range 1 to 50\n",
      "1 2 3 5 7 11 13 17 19 23 29 31 37 41 43 47 "
     ]
    }
   ],
   "source": [
    "start = int(input(\"Enter the start number\"))\n",
    "end = int(input(\"Enter the end number\"))\n",
    "print(\"Prime numbers in the range\",start,\"to\",end)\n",
    "for i in range(start,end+1):\n",
    "    flag=0\n",
    "    for j in range(2,i):\n",
    "        if (i%j==0):\n",
    "            flag=1\n",
    "            break\n",
    "    if flag==0:\n",
    "        print(i,end=' ')"
   ]
  },
  {
   "cell_type": "markdown",
   "id": "5538afbc-9008-4ea6-ac7b-283f89241e89",
   "metadata": {},
   "source": [
    "34. Split a list into chunks of size `n`."
   ]
  },
  {
   "cell_type": "code",
   "execution_count": 3,
   "id": "0dab242f-a220-403e-bdd0-f7203e19a6aa",
   "metadata": {},
   "outputs": [
    {
     "name": "stdin",
     "output_type": "stream",
     "text": [
      "Enter the size of the list 7\n",
      "Enter the value 1\n",
      "Enter the value 2\n",
      "Enter the value 3\n",
      "Enter the value 4\n",
      "Enter the value 5\n",
      "Enter the value 6\n",
      "Enter the value 7\n",
      "Enter the step size 8\n"
     ]
    },
    {
     "name": "stdout",
     "output_type": "stream",
     "text": [
      "Invalid Step!!!\n"
     ]
    }
   ],
   "source": [
    "list_lenght = int(input(\"Enter the size of the list\"))\n",
    "my_list = []\n",
    "\n",
    "for i in range(list_lenght):\n",
    "    val = input(\"Enter the value\")\n",
    "    my_list.append(val)\n",
    "    \n",
    "step = int(input(\"Enter the step size\"))\n",
    "\n",
    "if step<=list_lenght:\n",
    "    for i in range(0,list_lenght,step):\n",
    "        print(my_list[i:i+step])\n",
    "else:\n",
    "    print(\"Invalid Step!!!\")\n",
    "        \n",
    "    "
   ]
  },
  {
   "cell_type": "markdown",
   "id": "2d58c078-45b2-48db-ba1e-5476e116c565",
   "metadata": {},
   "source": [
    "35. Find the second largest number in a list."
   ]
  },
  {
   "cell_type": "code",
   "execution_count": 5,
   "id": "72c4ce5e-3ca8-4780-9a6e-819d12f0daab",
   "metadata": {},
   "outputs": [
    {
     "name": "stdin",
     "output_type": "stream",
     "text": [
      "enter the list size 5\n",
      "enter the element 12\n",
      "enter the element 13\n",
      "enter the element 67\n",
      "enter the element 45\n",
      "enter the element 32\n"
     ]
    },
    {
     "name": "stdout",
     "output_type": "stream",
     "text": [
      "second highest number in list is 45\n"
     ]
    }
   ],
   "source": [
    "list_size = int(input(\"enter the list size\"))\n",
    "my_list1=[]\n",
    "\n",
    "for i in range(list_size):\n",
    "    val1=input(\"enter the element\")\n",
    "    my_list1.append(val1)\n",
    "\n",
    "sortedlist= sorted(set(my_list1))\n",
    "if len(sortedlist)>=2:\n",
    "    print(\"second highest number in list is\",sortedlist[-2])\n",
    "else:\n",
    "    print(\"The list doesn't contain enough elements\")\n",
    "\n"
   ]
  },
  {
   "cell_type": "markdown",
   "id": "b82f40ff-c152-47b7-9ceb-eb599c4806c1",
   "metadata": {},
   "source": [
    "36. Replace every element in a list with its square."
   ]
  },
  {
   "cell_type": "code",
   "execution_count": 6,
   "id": "38d10e67-fdf7-4283-8b0f-d6c6ca98dd27",
   "metadata": {},
   "outputs": [
    {
     "name": "stdin",
     "output_type": "stream",
     "text": [
      "ENter the size of the list 5\n",
      "Enter the element 1\n",
      "Enter the element 2\n",
      "Enter the element 3\n",
      "Enter the element 4\n",
      "Enter the element 5\n"
     ]
    },
    {
     "name": "stdout",
     "output_type": "stream",
     "text": [
      "The final list is [1, 2, 3, 4, 5]\n",
      "the squared list is [1, 4, 9, 16, 25]\n"
     ]
    }
   ],
   "source": [
    "size3 = int(input(\"ENter the size of the list\"))\n",
    "my_list4 = []\n",
    "\n",
    "for i in range(size3):\n",
    "    val1 = int(input(\"Enter the element\"))\n",
    "    my_list4.append(val1)\n",
    "print(\"The final list is\",my_list4)\n",
    "squared_list=[x ** 2 for x in my_list4]\n",
    "print(\"the squared list is\",squared_list)\n",
    "    "
   ]
  },
  {
   "cell_type": "markdown",
   "id": "afe72bf2-cd2f-4bb4-aa1c-3b32980dfbce",
   "metadata": {},
   "source": [
    "37. Convert a list to a dictionary where list elements become keys and their\n",
    "indices become values."
   ]
  },
  {
   "cell_type": "code",
   "execution_count": 10,
   "id": "9c11ecbd-71f8-4592-b27a-acd4e223f929",
   "metadata": {},
   "outputs": [
    {
     "name": "stdin",
     "output_type": "stream",
     "text": [
      "Enter the size of the list 4\n",
      "Enter the element Paras\n",
      "Enter the element Himanshu\n",
      "Enter the element kapil\n",
      "Enter the element bhav\n"
     ]
    },
    {
     "name": "stdout",
     "output_type": "stream",
     "text": [
      "final dictinary: {'Paras': 0, 'Himanshu': 1, 'kapil': 2, 'bhav': 3}\n"
     ]
    }
   ],
   "source": [
    "size4 = int(input(\"Enter the size of the list\"))\n",
    "my_list5 = []\n",
    "\n",
    "for i in range(size4):\n",
    "    val2 = input(\"Enter the element\")\n",
    "    my_list5.append(val2)\n",
    "\n",
    "k = {elements:indices for indices,elements in enumerate(my_list5)}\n",
    "print(\"final dictinary:\", k)"
   ]
  },
  {
   "cell_type": "markdown",
   "id": "d33c9243-c0ef-49bb-b0eb-cdc56525638f",
   "metadata": {},
   "source": [
    "38. Shuffle the elements of a list randomly."
   ]
  },
  {
   "cell_type": "code",
   "execution_count": 18,
   "id": "906b3ece-9018-47dd-b553-36764e569076",
   "metadata": {},
   "outputs": [
    {
     "name": "stdout",
     "output_type": "stream",
     "text": [
      "[34, 10, 8, 54, 6, 5, 9, 3, 67, 89, 2, 32, 1, 4, 7]\n"
     ]
    }
   ],
   "source": [
    "import random\n",
    "\n",
    "list2 = [1,2,3,4,5,6,7,8,9,10,32,34,54,67,89]\n",
    "\n",
    "random.shuffle(list2)\n",
    "\n",
    "print(list2)\n"
   ]
  },
  {
   "cell_type": "markdown",
   "id": "02c9b8ed-0d50-42a2-956f-6c3da11a12f1",
   "metadata": {},
   "source": [
    "39. Create a list of the first 10 factorial numbers."
   ]
  },
  {
   "cell_type": "code",
   "execution_count": 19,
   "id": "e96d69a2-ac05-436d-9eb5-17ac255cca7a",
   "metadata": {},
   "outputs": [
    {
     "name": "stdout",
     "output_type": "stream",
     "text": [
      "[1, 1, 2, 6, 24, 120, 720, 5040, 40320, 362880, 3628800]\n"
     ]
    }
   ],
   "source": [
    "def factorail(n):\n",
    "    if n==0 or n==1:\n",
    "        return 1\n",
    "    else:\n",
    "        return n* factorail(n-1)\n",
    "    \n",
    "p = [factorail(i) for i in range(11)]\n",
    "print(p)"
   ]
  },
  {
   "cell_type": "markdown",
   "id": "c8f4efb0-bec9-4ba8-9613-e9127fcf7748",
   "metadata": {},
   "source": [
    "40. Check if two lists have at least one element in common."
   ]
  },
  {
   "cell_type": "code",
   "execution_count": 20,
   "id": "6b281862-042e-4ce3-997a-b5d1d09211d8",
   "metadata": {},
   "outputs": [
    {
     "name": "stdout",
     "output_type": "stream",
     "text": [
      "The two list have some common elements\n"
     ]
    }
   ],
   "source": [
    "def has_common(list1,list2):\n",
    "    for i in list1:\n",
    "        if i in list2:\n",
    "            return True\n",
    "    return False\n",
    "\n",
    "list1 = [1,2,3,4,5,6,7]\n",
    "list2 = [8,9,10,11,1,3]\n",
    "\n",
    "if has_common:\n",
    "    print(\"The two list have some common elements\")\n",
    "else:\n",
    "    print(\"The two list have nothing in common\")\n",
    "        "
   ]
  },
  {
   "cell_type": "markdown",
   "id": "7795f234-9319-4396-97f0-b1b25dc92a13",
   "metadata": {},
   "source": [
    "41. Remove all elements from a list."
   ]
  },
  {
   "cell_type": "code",
   "execution_count": 24,
   "id": "bbf67560-2611-4108-ab3c-c4eecefde937",
   "metadata": {},
   "outputs": [
    {
     "data": {
      "text/plain": [
       "[1, 2, 3, 4, 5, 6, 7]"
      ]
     },
     "execution_count": 24,
     "metadata": {},
     "output_type": "execute_result"
    }
   ],
   "source": [
    "list_new = list1\n",
    "list_new"
   ]
  },
  {
   "cell_type": "code",
   "execution_count": 25,
   "id": "5c58a126-9644-4519-8b03-cd1ec918354f",
   "metadata": {},
   "outputs": [
    {
     "name": "stdout",
     "output_type": "stream",
     "text": [
      "Empty list []\n"
     ]
    }
   ],
   "source": [
    "list_new.clear()\n",
    "print(\"Empty list\",list_new)"
   ]
  },
  {
   "cell_type": "markdown",
   "id": "89e1ff3b-bdf9-4cb8-97fb-0ea3b9afe001",
   "metadata": {},
   "source": [
    "42. Replace negative numbers in a list with 0."
   ]
  },
  {
   "cell_type": "code",
   "execution_count": 29,
   "id": "24cf9898-05be-47f4-9bbc-c42ef2fe0e6a",
   "metadata": {},
   "outputs": [],
   "source": [
    "list1 = [1,2,3,-4,6,7,-8,9]"
   ]
  },
  {
   "cell_type": "code",
   "execution_count": 30,
   "id": "a873416c-43e1-4aa2-adaf-5f2fa27f3979",
   "metadata": {},
   "outputs": [
    {
     "name": "stdout",
     "output_type": "stream",
     "text": [
      "[1, 2, 3, 0, 6, 7, 0, 9]\n"
     ]
    }
   ],
   "source": [
    "def replace_negative(list1):\n",
    "    for i in range(len(list1)):\n",
    "        if list1[i] < 0:\n",
    "            list1[i] = 0\n",
    "    return list1\n",
    "\n",
    "j = replace_negative(list1)\n",
    "print(j)"
   ]
  },
  {
   "cell_type": "markdown",
   "id": "5df83826-e54c-4bf8-a261-e20755ea0fb0",
   "metadata": {},
   "source": [
    "43. Convert a string into a list of words."
   ]
  },
  {
   "cell_type": "code",
   "execution_count": 31,
   "id": "00ee0b3b-c678-4c9f-91e3-64b3254278be",
   "metadata": {},
   "outputs": [
    {
     "name": "stdout",
     "output_type": "stream",
     "text": [
      "My list of words are:-> ['Hello,', 'my', 'name', 'is', 'Paras!']\n"
     ]
    }
   ],
   "source": [
    "my_string = \"Hello, my name is Paras!\"\n",
    "my_list = my_string.split()\n",
    "print(\"My list of words are:->\" , my_list)"
   ]
  },
  {
   "cell_type": "markdown",
   "id": "238160fa-2f58-4faf-9bca-586922c04ef7",
   "metadata": {},
   "source": [
    "44. Convert a list of words into a string."
   ]
  },
  {
   "cell_type": "code",
   "execution_count": 32,
   "id": "8e3b64f4-45bb-4f69-b446-1c2d354eb1fd",
   "metadata": {},
   "outputs": [
    {
     "data": {
      "text/plain": [
       "['Hello,', 'my', 'name', 'is', 'Paras!']"
      ]
     },
     "execution_count": 32,
     "metadata": {},
     "output_type": "execute_result"
    }
   ],
   "source": [
    "my_list"
   ]
  },
  {
   "cell_type": "code",
   "execution_count": 38,
   "id": "40008fb8-3155-4047-af5f-9e8e2da89d2c",
   "metadata": {},
   "outputs": [
    {
     "name": "stdout",
     "output_type": "stream",
     "text": [
      "Hello, my name is Paras!\n"
     ]
    }
   ],
   "source": [
    "my_str = \" \".join(my_list)\n",
    "print(my_str)"
   ]
  },
  {
   "cell_type": "markdown",
   "id": "61eabd43-1707-4924-85f3-42c1326c98f9",
   "metadata": {},
   "source": [
    "45. Create a list of the first `n` powers of 2."
   ]
  },
  {
   "cell_type": "code",
   "execution_count": 40,
   "id": "948d87b8-0b01-4f3f-ad27-4b4554e72613",
   "metadata": {},
   "outputs": [
    {
     "name": "stdin",
     "output_type": "stream",
     "text": [
      "Enter the n power 6\n"
     ]
    },
    {
     "name": "stdout",
     "output_type": "stream",
     "text": [
      "[1, 2, 4, 8, 16, 32]\n"
     ]
    }
   ],
   "source": [
    "n = int(input(\"Enter the n power\"))\n",
    "list_npower = [2 ** i for i in range(n)]\n",
    "print(list_npower)"
   ]
  },
  {
   "cell_type": "markdown",
   "id": "8c6add39-cba8-4414-bb0e-1250a90a4773",
   "metadata": {},
   "source": [
    "46. Find the longest string in a list of strings."
   ]
  },
  {
   "cell_type": "code",
   "execution_count": 41,
   "id": "9cd47bea-dafb-414f-95de-fde7da569afc",
   "metadata": {},
   "outputs": [
    {
     "name": "stdout",
     "output_type": "stream",
     "text": [
      "Longest String is:-> elderberry\n"
     ]
    }
   ],
   "source": [
    "string_list = [\"apple\", \"banana\", \"cherry\", \"date\", \"elderberry\"]\n",
    "longest_string = \"\"\n",
    "\n",
    "for i in string_list:\n",
    "    if len(i)>len(longest_string):\n",
    "        longest_string=i\n",
    "\n",
    "print(\"Longest String is:->\", longest_string)\n",
    "    "
   ]
  },
  {
   "cell_type": "markdown",
   "id": "dc231a29-f3bb-45c2-b6b8-1329c4608c46",
   "metadata": {},
   "source": [
    "47. Find the shortest string in a list of strings."
   ]
  },
  {
   "cell_type": "code",
   "execution_count": 43,
   "id": "84944c9d-9134-41a8-8b9c-7a22aa46168e",
   "metadata": {},
   "outputs": [
    {
     "name": "stdout",
     "output_type": "stream",
     "text": [
      "Shortest String is:-> date\n"
     ]
    }
   ],
   "source": [
    "string_list1 = [\"apple\", \"banana\", \"cherry\", \"date\", \"elderberry\"]\n",
    "shortest_string = string_list1[0]\n",
    "\n",
    "for i in string_list1:\n",
    "    if len(i)<len(shortest_string):\n",
    "        shortest_string = i\n",
    "        \n",
    "print(\"Shortest String is:->\", shortest_string)\n",
    "        "
   ]
  },
  {
   "cell_type": "markdown",
   "id": "d1a32d98-4f1b-4343-b785-e04def97a527",
   "metadata": {},
   "source": [
    "48. Create a list of the first `n` triangular numbers."
   ]
  },
  {
   "cell_type": "code",
   "execution_count": 2,
   "id": "16f1433d-e046-4fcd-8d5a-cd53b4fcf854",
   "metadata": {},
   "outputs": [
    {
     "name": "stdout",
     "output_type": "stream",
     "text": [
      "[1, 3, 6, 10, 15]\n"
     ]
    }
   ],
   "source": [
    "def triangular_numbers(n):\n",
    "    return [i*(i+1)//2 for i in range(1,n+1)]\n",
    "\n",
    "t = triangular_numbers(5)\n",
    "print(t)"
   ]
  },
  {
   "cell_type": "markdown",
   "id": "5ac82428-31d3-4967-bed4-e2ba4978f2cb",
   "metadata": {},
   "source": [
    "49. Check if a list contains another list as a subsequence."
   ]
  },
  {
   "cell_type": "code",
   "execution_count": 5,
   "id": "c87b7f26-66af-4016-8e93-c3bbcd70df07",
   "metadata": {},
   "outputs": [
    {
     "name": "stdout",
     "output_type": "stream",
     "text": [
      "The list contains the subsequence\n"
     ]
    }
   ],
   "source": [
    "def subsequence_list(main_list, sub_list):\n",
    "    sub_index=0\n",
    "    for i in main_list:\n",
    "        if i == sub_list[sub_index]:\n",
    "            sub_index+=1\n",
    "            if sub_index==len(sub_list):\n",
    "                return True\n",
    "    return False\n",
    "\n",
    "main_list = [1, 2, 3, 4, 5, 6, 7, 8, 9, 10]\n",
    "sub_list = [3, 5, 8]\n",
    "\n",
    "if subsequence_list(main_list,sub_list):\n",
    "    print(\"The list contains the subsequence\")\n",
    "else:\n",
    "    print(\"The list does not contains the subsequence\")\n",
    "            \n",
    "            \n",
    "            \n",
    "            \n",
    "            "
   ]
  },
  {
   "cell_type": "markdown",
   "id": "2f64ddb1-1cc8-4af8-aff3-2246465af1d8",
   "metadata": {},
   "source": [
    "50. Swap two elements in a list by their indices."
   ]
  },
  {
   "cell_type": "code",
   "execution_count": 9,
   "id": "45c65b9b-fae8-486c-9a94-ffb869ba5620",
   "metadata": {},
   "outputs": [
    {
     "name": "stdout",
     "output_type": "stream",
     "text": [
      "List after swapping: [1, 5, 3, 4, 2, 6, 7]\n"
     ]
    }
   ],
   "source": [
    "my_lis = [1,2,3,4,5,6,7]\n",
    "\n",
    "indices1 = 1\n",
    "indices2 = 4\n",
    "\n",
    "temp = my_lis[indices1]\n",
    "my_lis[indices1] = my_lis[indices2]\n",
    "my_lis[indices2] = temp\n",
    "\n",
    "print(f\"List after swapping: {my_lis}\")\n"
   ]
  },
  {
   "cell_type": "markdown",
   "id": "7aee1a47-bbee-4529-abac-b4db21eefed8",
   "metadata": {},
   "source": [
    "Tuple Based Practice Problem :"
   ]
  },
  {
   "cell_type": "markdown",
   "id": "275dcc2e-0efe-442a-aab3-39aaaa41a87d",
   "metadata": {},
   "source": [
    "1. Create a tuple with integers from 1 to 5."
   ]
  },
  {
   "cell_type": "code",
   "execution_count": 1,
   "id": "ab2a55e4-4135-49aa-a3e8-0ba579f85a2c",
   "metadata": {},
   "outputs": [],
   "source": [
    "tup_dec = (10,20,30,40,50)"
   ]
  },
  {
   "cell_type": "code",
   "execution_count": 2,
   "id": "80a1cb1a-7a00-4a1a-8f50-663e7f43a914",
   "metadata": {},
   "outputs": [
    {
     "data": {
      "text/plain": [
       "30"
      ]
     },
     "execution_count": 2,
     "metadata": {},
     "output_type": "execute_result"
    }
   ],
   "source": [
    "tup_dec[2]"
   ]
  },
  {
   "cell_type": "markdown",
   "id": "58b400e8-a2af-4a14-9745-a9fb104c724b",
   "metadata": {},
   "source": [
    "2. Access the third element of a tuple."
   ]
  },
  {
   "cell_type": "code",
   "execution_count": 4,
   "id": "79a13425-4c23-406b-88cf-422555d3eb17",
   "metadata": {},
   "outputs": [
    {
     "data": {
      "text/plain": [
       "30"
      ]
     },
     "execution_count": 4,
     "metadata": {},
     "output_type": "execute_result"
    }
   ],
   "source": [
    "tup_dec = (10,20,30,40,50)\n",
    "tup_dec[2]"
   ]
  },
  {
   "cell_type": "markdown",
   "id": "d6efdfce-eb69-4237-9320-0f570e9c9832",
   "metadata": {},
   "source": [
    " 3. Find the length of a tuple without using the `len()` function."
   ]
  },
  {
   "cell_type": "code",
   "execution_count": 1,
   "id": "9f0b0715-de1a-4ec4-a778-41f4ac25fdc3",
   "metadata": {},
   "outputs": [
    {
     "name": "stdout",
     "output_type": "stream",
     "text": [
      "5\n"
     ]
    }
   ],
   "source": [
    "tup_dec = (10,20,30,40,50)\n",
    "count=0\n",
    "for i in tup_dec:\n",
    "    count+=1\n",
    "    \n",
    "print(count)\n",
    "    \n",
    "    "
   ]
  },
  {
   "cell_type": "markdown",
   "id": "ca3bb4c0-c780-42bb-b410-a0154d63c241",
   "metadata": {},
   "source": [
    "4. Count the occurrences of an element in a tuple."
   ]
  },
  {
   "cell_type": "code",
   "execution_count": 3,
   "id": "cc0c6f23-b275-448e-aabf-820a0420ac53",
   "metadata": {},
   "outputs": [
    {
     "name": "stdout",
     "output_type": "stream",
     "text": [
      "3\n"
     ]
    }
   ],
   "source": [
    "tup_dec = (10,20,30,30,30,40,50)\n",
    "element = 30\n",
    "counter = 0\n",
    "for i in tup_dec:\n",
    "    if i == element:\n",
    "        counter+=1\n",
    "print(counter)"
   ]
  },
  {
   "cell_type": "markdown",
   "id": "15f7181a-ab58-41f8-97f1-cc6f0bcf091a",
   "metadata": {},
   "source": [
    "5. Find the index of the first occurrence of an element in a tuple."
   ]
  },
  {
   "cell_type": "code",
   "execution_count": 4,
   "id": "29c71625-d07b-4d14-8058-ffe62d1de54d",
   "metadata": {},
   "outputs": [
    {
     "name": "stdout",
     "output_type": "stream",
     "text": [
      "The element: 30 is at index: 2\n"
     ]
    }
   ],
   "source": [
    "tup_dec = (10,20,30,30,30,40,50)\n",
    "index_1=-1\n",
    "element_1=30\n",
    "for i,j in enumerate(tup_dec):\n",
    "    if j==element_1:\n",
    "        index_1=i\n",
    "        break\n",
    "\n",
    "if index_1!=-1:\n",
    "    print(f\"The element: {element_1} is at index: {index_1}\")\n",
    "else:\n",
    "    print(f\"The element to find :{element_1} is not present in the tuple \")\n"
   ]
  },
  {
   "cell_type": "markdown",
   "id": "c25eccff-2d60-4b60-a2ee-53d77af29ed4",
   "metadata": {},
   "source": [
    "6. Check if an element exists in a tuple."
   ]
  },
  {
   "cell_type": "code",
   "execution_count": 1,
   "id": "3482e0d0-930d-4ba0-a28f-f3dc6d3bbb17",
   "metadata": {},
   "outputs": [
    {
     "name": "stdout",
     "output_type": "stream",
     "text": [
      "the element is present in tuple\n"
     ]
    }
   ],
   "source": [
    "tu=(10,20,30,50,70,60)\n",
    "eleme= 30\n",
    "\n",
    "if eleme in tu:\n",
    "    print(\"the element is present in tuple\")\n",
    "else:\n",
    "    print(\"the element is not present in tuple\")"
   ]
  },
  {
   "cell_type": "markdown",
   "id": "535800d5-93d2-4542-9843-31d608e44260",
   "metadata": {},
   "source": [
    "7. Convert a tuple to a list."
   ]
  },
  {
   "cell_type": "code",
   "execution_count": 2,
   "id": "62993224-9f6a-4d68-a358-3406c3ee4e66",
   "metadata": {},
   "outputs": [
    {
     "data": {
      "text/plain": [
       "[10, 20, 30, 50, 70, 60]"
      ]
     },
     "execution_count": 2,
     "metadata": {},
     "output_type": "execute_result"
    }
   ],
   "source": [
    "tu=(10,20,30,50,70,60)\n",
    "list(tu)"
   ]
  },
  {
   "cell_type": "markdown",
   "id": "0dc18c47-cfae-4a78-a09c-900d54c49fa4",
   "metadata": {},
   "source": [
    "8. Convert a list to a tuple."
   ]
  },
  {
   "cell_type": "code",
   "execution_count": 4,
   "id": "9ee35048-1c91-4f7d-a64f-834b7b4f32f3",
   "metadata": {},
   "outputs": [
    {
     "data": {
      "text/plain": [
       "(10, 20, 30, 40, 50)"
      ]
     },
     "execution_count": 4,
     "metadata": {},
     "output_type": "execute_result"
    }
   ],
   "source": [
    "tu1 = [10,20,30,40,50]\n",
    "tuple(tu1)"
   ]
  },
  {
   "cell_type": "markdown",
   "id": "9523a042-f6ce-4e5c-8b12-1c06edad60fb",
   "metadata": {},
   "source": [
    "9. Unpack the elements of a tuple into variables."
   ]
  },
  {
   "cell_type": "code",
   "execution_count": 2,
   "id": "e0c104b5-633b-4260-bebc-20c55fdcdad5",
   "metadata": {},
   "outputs": [
    {
     "name": "stdout",
     "output_type": "stream",
     "text": [
      "Variable1: 10\n",
      "Variable2: 20\n",
      "Variable3: 30\n"
     ]
    }
   ],
   "source": [
    "my_tuple = (10,20,30)\n",
    "v1,v2,v3 = my_tuple\n",
    "print(\"Variable1:\", v1)\n",
    "print(\"Variable2:\", v2)\n",
    "print(\"Variable3:\", v3)"
   ]
  },
  {
   "cell_type": "markdown",
   "id": "b7464427-d16e-4e5f-acd9-7e51e2b94ec8",
   "metadata": {},
   "source": [
    "10. Create a tuple of even numbers from 1 to 10."
   ]
  },
  {
   "cell_type": "code",
   "execution_count": 3,
   "id": "b37f38d1-2de1-4660-a7a4-58119aa74e5d",
   "metadata": {},
   "outputs": [
    {
     "data": {
      "text/plain": [
       "(2, 4, 6, 8, 10)"
      ]
     },
     "execution_count": 3,
     "metadata": {},
     "output_type": "execute_result"
    }
   ],
   "source": [
    "tu_even_var = [n for n in range(1,11) if n%2==0]\n",
    "final = tuple(tu_even_var)\n",
    "final"
   ]
  },
  {
   "cell_type": "markdown",
   "id": "901d9536-c007-4dbb-8284-566afda4d221",
   "metadata": {},
   "source": [
    "11. Create a tuple of odd numbers from 1 to 10."
   ]
  },
  {
   "cell_type": "code",
   "execution_count": 4,
   "id": "79f34fd0-52ad-4683-a29f-60dad15c28dd",
   "metadata": {},
   "outputs": [
    {
     "data": {
      "text/plain": [
       "(1, 3, 5, 7, 9)"
      ]
     },
     "execution_count": 4,
     "metadata": {},
     "output_type": "execute_result"
    }
   ],
   "source": [
    "tu_odd_var = [k for k in range(1,11) if k%2!=0]\n",
    "final1 = tuple(tu_odd_var)\n",
    "final1"
   ]
  },
  {
   "cell_type": "markdown",
   "id": "560727fc-f03b-43bb-84aa-cc8d0a901490",
   "metadata": {},
   "source": [
    "12. Concatenate two tuples."
   ]
  },
  {
   "cell_type": "code",
   "execution_count": 7,
   "id": "a5f1f223-8cf7-441a-adb2-b770d958d4fb",
   "metadata": {},
   "outputs": [
    {
     "data": {
      "text/plain": [
       "(1, 2, 3, 4, 5, 6, 7, 1, 8, 9, 10, 11, 12, 13)"
      ]
     },
     "execution_count": 7,
     "metadata": {},
     "output_type": "execute_result"
    }
   ],
   "source": [
    "t1 = (1,2,3,4,5,6,7)\n",
    "t2 = (1,8,9,10,11,12,13)\n",
    "t = t1+t2\n",
    "t"
   ]
  },
  {
   "cell_type": "markdown",
   "id": "9282bb33-bfe8-4428-8654-66915d574cfe",
   "metadata": {},
   "source": [
    "13. Repeat a tuple three times."
   ]
  },
  {
   "cell_type": "code",
   "execution_count": 9,
   "id": "5d27618e-3b0b-453f-bf30-2dd803fabbbd",
   "metadata": {},
   "outputs": [
    {
     "data": {
      "text/plain": [
       "(1, 2, 3, 4, 5, 6, 7, 1, 2, 3, 4, 5, 6, 7, 1, 2, 3, 4, 5, 6, 7)"
      ]
     },
     "execution_count": 9,
     "metadata": {},
     "output_type": "execute_result"
    }
   ],
   "source": [
    "t3 = 3*t1\n",
    "t3"
   ]
  },
  {
   "cell_type": "markdown",
   "id": "04477c85-24f8-4d83-89b6-492860a203a7",
   "metadata": {},
   "source": [
    "14. Check if a tuple is empty."
   ]
  },
  {
   "cell_type": "code",
   "execution_count": 11,
   "id": "f3b56119-5dad-42a6-b82c-c8a9fcdbb115",
   "metadata": {},
   "outputs": [
    {
     "name": "stdout",
     "output_type": "stream",
     "text": [
      "the tuple is empty\n",
      "the non empty tuple is not empty\n"
     ]
    }
   ],
   "source": [
    "emp_tuple = ()\n",
    "non_emp_tuple = (1,2,3,4)\n",
    "\n",
    "if not emp_tuple:\n",
    "    print(\"the tuple is empty\")\n",
    "else:\n",
    "    print(\"the tuple is not empty\")\n",
    "    \n",
    "if not non_emp_tuple:\n",
    "    print(\"the non empty tuple is empty\")\n",
    "else:\n",
    "    print(\"the non empty tuple is not empty\")"
   ]
  },
  {
   "cell_type": "markdown",
   "id": "3f81a1ea-16cd-477d-9e11-419057dde00c",
   "metadata": {},
   "source": [
    "15. Create a nested tuple."
   ]
  },
  {
   "cell_type": "code",
   "execution_count": 12,
   "id": "6ef8d9e4-b116-464e-80cc-4033d3685208",
   "metadata": {},
   "outputs": [
    {
     "data": {
      "text/plain": [
       "((1, 2, 3, 4, 5), ('a', 'b', 'c', 'd'), (True, False))"
      ]
     },
     "execution_count": 12,
     "metadata": {},
     "output_type": "execute_result"
    }
   ],
   "source": [
    "nested_tuple1 = ((1,2,3,4,5),('a','b','c','d'),(True,False))\n",
    "nested_tuple1"
   ]
  },
  {
   "cell_type": "markdown",
   "id": "491c0a76-e76b-4087-b81e-a3198de99ab9",
   "metadata": {},
   "source": [
    "16. Access the first element of a nested tuple."
   ]
  },
  {
   "cell_type": "code",
   "execution_count": 13,
   "id": "4ed47992-2206-4701-a46e-b6b31b99b4e1",
   "metadata": {},
   "outputs": [
    {
     "data": {
      "text/plain": [
       "(1, 2, 3, 4, 5)"
      ]
     },
     "execution_count": 13,
     "metadata": {},
     "output_type": "execute_result"
    }
   ],
   "source": [
    "nested_tuple1\n",
    "nested_tuple1[0]"
   ]
  },
  {
   "cell_type": "markdown",
   "id": "e775c61f-50af-426c-9cd0-cb93dfba7b55",
   "metadata": {},
   "source": [
    "17. Create a tuple with a single element."
   ]
  },
  {
   "cell_type": "code",
   "execution_count": 14,
   "id": "fe5b808f-5367-4afb-8e4a-3c5f96bf529a",
   "metadata": {},
   "outputs": [
    {
     "data": {
      "text/plain": [
       "10"
      ]
     },
     "execution_count": 14,
     "metadata": {},
     "output_type": "execute_result"
    }
   ],
   "source": [
    "t4 = (10)\n",
    "t4"
   ]
  },
  {
   "cell_type": "markdown",
   "id": "4fcdbea9-c350-4772-a6c9-0590f399d569",
   "metadata": {},
   "source": [
    "18. Compare two tuples."
   ]
  },
  {
   "cell_type": "code",
   "execution_count": 15,
   "id": "5ebc9611-2079-4431-8c35-cc8143159bb1",
   "metadata": {},
   "outputs": [
    {
     "name": "stdout",
     "output_type": "stream",
     "text": [
      "equality check False\n",
      "Not equality check True\n",
      "less then equal check True\n",
      "greater then equal check False\n",
      "less check True\n",
      "greter check False\n"
     ]
    }
   ],
   "source": [
    "t5 = (1,2,3)\n",
    "t6 = (4,5,6)\n",
    "\n",
    "print(\"equality check\" , t5 == t6)\n",
    "print(\"Not equality check\" , t5 != t6)\n",
    "print(\"less then equal check\" , t5 <= t6)\n",
    "print(\"greater then equal check\" , t5 >= t6)\n",
    "print(\"less check\" , t5 < t6)\n",
    "print(\"greter check\" , t5 > t6)"
   ]
  },
  {
   "cell_type": "markdown",
   "id": "c4e8ab2f-c21d-4af4-a1d0-24108807ae67",
   "metadata": {},
   "source": [
    "19. Delete a tuple."
   ]
  },
  {
   "cell_type": "code",
   "execution_count": 18,
   "id": "abda8556-22ae-4350-bc25-798577664974",
   "metadata": {},
   "outputs": [
    {
     "ename": "NameError",
     "evalue": "name 'new_tuple' is not defined",
     "output_type": "error",
     "traceback": [
      "\u001b[0;31m---------------------------------------------------------------------------\u001b[0m",
      "\u001b[0;31mNameError\u001b[0m                                 Traceback (most recent call last)",
      "Cell \u001b[0;32mIn[18], line 3\u001b[0m\n\u001b[1;32m      1\u001b[0m new_tuple \u001b[38;5;241m=\u001b[39m (\u001b[38;5;241m1\u001b[39m,\u001b[38;5;241m2\u001b[39m,\u001b[38;5;241m3\u001b[39m,\u001b[38;5;241m4\u001b[39m,\u001b[38;5;241m5\u001b[39m,\u001b[38;5;241m6\u001b[39m,\u001b[38;5;241m7\u001b[39m,\u001b[38;5;241m8\u001b[39m)\n\u001b[1;32m      2\u001b[0m \u001b[38;5;28;01mdel\u001b[39;00m new_tuple\n\u001b[0;32m----> 3\u001b[0m \u001b[43mnew_tuple\u001b[49m\n",
      "\u001b[0;31mNameError\u001b[0m: name 'new_tuple' is not defined"
     ]
    }
   ],
   "source": [
    "new_tuple = (1,2,3,4,5,6,7,8)\n",
    "del new_tuple\n",
    "new_tuple"
   ]
  },
  {
   "cell_type": "markdown",
   "id": "c829ed3d-e893-40d1-9b79-248476dbf445",
   "metadata": {},
   "source": [
    "20. Slice a tuple."
   ]
  },
  {
   "cell_type": "code",
   "execution_count": 19,
   "id": "45feb5ad-2208-4858-9356-a416973b12cc",
   "metadata": {},
   "outputs": [
    {
     "data": {
      "text/plain": [
       "(1, 2, 3, 4, 5, 6, 7)"
      ]
     },
     "execution_count": 19,
     "metadata": {},
     "output_type": "execute_result"
    }
   ],
   "source": [
    "t1"
   ]
  },
  {
   "cell_type": "code",
   "execution_count": 20,
   "id": "f782e865-dc24-4fe9-abe0-2c30f340e175",
   "metadata": {},
   "outputs": [
    {
     "data": {
      "text/plain": [
       "(3, 4, 5, 6)"
      ]
     },
     "execution_count": 20,
     "metadata": {},
     "output_type": "execute_result"
    }
   ],
   "source": [
    "sliced_tuple = t1[2:6]\n",
    "sliced_tuple"
   ]
  },
  {
   "cell_type": "markdown",
   "id": "6b0654f8-338c-4d8e-9173-758a14321a89",
   "metadata": {},
   "source": [
    "21. Find the maximum value in a tuple."
   ]
  },
  {
   "cell_type": "code",
   "execution_count": 2,
   "id": "0d0015b9-d098-4390-ae50-556407aa152d",
   "metadata": {},
   "outputs": [
    {
     "data": {
      "text/plain": [
       "789"
      ]
     },
     "execution_count": 2,
     "metadata": {},
     "output_type": "execute_result"
    }
   ],
   "source": [
    "tt=(123,234,564,653,789)\n",
    "max_tuple = max(tt)\n",
    "max_tuple"
   ]
  },
  {
   "cell_type": "markdown",
   "id": "e4b8ccad-790d-43fc-b867-c9abd0cdccb2",
   "metadata": {},
   "source": [
    "22. Find the minimum value in a tuple."
   ]
  },
  {
   "cell_type": "code",
   "execution_count": 4,
   "id": "0f4e0753-f51e-47af-8869-37b06e1ab9b6",
   "metadata": {},
   "outputs": [
    {
     "data": {
      "text/plain": [
       "123"
      ]
     },
     "execution_count": 4,
     "metadata": {},
     "output_type": "execute_result"
    }
   ],
   "source": [
    "min_tuple = min(tt)\n",
    "min_tuple"
   ]
  },
  {
   "cell_type": "markdown",
   "id": "cdc6af62-57df-4f13-a504-a645b1da1c6b",
   "metadata": {},
   "source": [
    "23. Convert a string to a tuple of characters."
   ]
  },
  {
   "cell_type": "code",
   "execution_count": 5,
   "id": "0bc02934-ced6-4374-abf7-e1156f79f3ec",
   "metadata": {},
   "outputs": [
    {
     "data": {
      "text/plain": [
       "('H', 'e', 'l', 'l', 'o', ' ', 'P', 'e', 't', 'a', 'r')"
      ]
     },
     "execution_count": 5,
     "metadata": {},
     "output_type": "execute_result"
    }
   ],
   "source": [
    "s = \"Hello Petar\"\n",
    "con_str_tuple = tuple(s)\n",
    "con_str_tuple"
   ]
  },
  {
   "cell_type": "markdown",
   "id": "ac312439-7aa6-42a2-9bab-26d6af3851e9",
   "metadata": {},
   "source": [
    "24. Convert a tuple of characters to a string."
   ]
  },
  {
   "cell_type": "code",
   "execution_count": 9,
   "id": "f906f9c9-9abb-4306-aead-f3a70d8b4739",
   "metadata": {},
   "outputs": [
    {
     "data": {
      "text/plain": [
       "'h e l l o   w o l d !'"
      ]
     },
     "execution_count": 9,
     "metadata": {},
     "output_type": "execute_result"
    }
   ],
   "source": [
    "t1 = ('h','e','l','l','o',' ','w','o','l','d','!')\n",
    "str_tupl = ' '.join(t1)\n",
    "str_tupl"
   ]
  },
  {
   "cell_type": "markdown",
   "id": "b04278e5-4041-43a7-8800-aa0eb8b41599",
   "metadata": {},
   "source": [
    "25. Create a tuple from multiple data types."
   ]
  },
  {
   "cell_type": "code",
   "execution_count": 10,
   "id": "843b43f9-b9c9-4c70-b1e3-49f83530f7fc",
   "metadata": {},
   "outputs": [
    {
     "data": {
      "text/plain": [
       "(1, 2, 3, 'hello', 'paras', True, False, 1.2)"
      ]
     },
     "execution_count": 10,
     "metadata": {},
     "output_type": "execute_result"
    }
   ],
   "source": [
    "mul_tuple = (1,2,3,\"hello\",\"paras\",True,False,1.2)\n",
    "mul_tuple"
   ]
  },
  {
   "cell_type": "markdown",
   "id": "e1d1d732-437d-4563-ac1c-81d73f859e8d",
   "metadata": {},
   "source": [
    "26. Check if two tuples are identical."
   ]
  },
  {
   "cell_type": "code",
   "execution_count": 13,
   "id": "0a28548c-af81-4feb-9c1d-c77beab75027",
   "metadata": {},
   "outputs": [
    {
     "name": "stdout",
     "output_type": "stream",
     "text": [
      "the (1, 2, 3, 4, 5) and (1, 2, 3, 4, 5) are identical True\n",
      "the (1, 2, 3, 4, 5) and (6, 7, 2, 3) are identical False\n"
     ]
    }
   ],
   "source": [
    "t2 = (1,2,3,4,5)\n",
    "t3 = (1,2,3,4,5)\n",
    "t4 = (6,7,2,3)\n",
    "\n",
    "identical1 = t2 == t3\n",
    "identical2 = t3 == t4\n",
    "\n",
    "print(f\"the {t2} and {t3} are identical\", identical1)\n",
    "print(f\"the {t3} and {t4} are identical\", identical2)"
   ]
  },
  {
   "cell_type": "markdown",
   "id": "50c32500-2f2a-4629-ac05-24f2924e737b",
   "metadata": {},
   "source": [
    "27. Sort the elements of a tuple."
   ]
  },
  {
   "cell_type": "code",
   "execution_count": 2,
   "id": "b1ecc0a3-d70f-431e-b38a-a58e1d502aa6",
   "metadata": {},
   "outputs": [
    {
     "data": {
      "text/plain": [
       "(1, 2, 2, 3, 4, 5, 6, 7, 8, 9)"
      ]
     },
     "execution_count": 2,
     "metadata": {},
     "output_type": "execute_result"
    }
   ],
   "source": [
    "t5 = (1,2,9,8,7,6,5,4,3,2)\n",
    "sorted_tuple = tuple(sorted(t5))\n",
    "sorted_tuple"
   ]
  },
  {
   "cell_type": "markdown",
   "id": "04bac107-fc21-4827-b2d8-59e4d0f170ec",
   "metadata": {},
   "source": [
    "28. Convert a tuple of integers to a tuple of strings."
   ]
  },
  {
   "cell_type": "code",
   "execution_count": 6,
   "id": "509671be-1126-4c54-a786-34c0d1a0894d",
   "metadata": {},
   "outputs": [
    {
     "data": {
      "text/plain": [
       "('22', '33', '5', '7', '5', '43', '3')"
      ]
     },
     "execution_count": 6,
     "metadata": {},
     "output_type": "execute_result"
    }
   ],
   "source": [
    "tup_of_int = (22,33,5,7,5,43,3)\n",
    "tup_of_str = tuple(str(temp) for temp in tup_of_int)\n",
    "tup_of_str"
   ]
  },
  {
   "cell_type": "markdown",
   "id": "fcb26d94-9e76-433f-b693-52ac33614365",
   "metadata": {},
   "source": [
    "29. Convert a tuple of strings to a tuple of integers."
   ]
  },
  {
   "cell_type": "code",
   "execution_count": 8,
   "id": "6247d32d-e64a-4b1c-b603-0b401a8f70fe",
   "metadata": {},
   "outputs": [
    {
     "data": {
      "text/plain": [
       "(22, 33, 5, 7, 5, 43, 3)"
      ]
     },
     "execution_count": 8,
     "metadata": {},
     "output_type": "execute_result"
    }
   ],
   "source": [
    "tup_of_str\n",
    "tup_of_inte = tuple(int(h) for h in tup_of_str)\n",
    "tup_of_inte"
   ]
  },
  {
   "cell_type": "markdown",
   "id": "cc569f63-2eea-4450-ab4d-5bbeed1cae24",
   "metadata": {},
   "source": [
    "30. Merge two tuples."
   ]
  },
  {
   "cell_type": "code",
   "execution_count": 10,
   "id": "303c6535-7cc9-49f3-aa2c-b77bba43a971",
   "metadata": {},
   "outputs": [
    {
     "data": {
      "text/plain": [
       "(1, 2, 3, 4, 5, 6, 7, 8, 9, 10)"
      ]
     },
     "execution_count": 10,
     "metadata": {},
     "output_type": "execute_result"
    }
   ],
   "source": [
    "t6 = (1,2,3,4,5)\n",
    "t7 = (6,7,8,9,10)\n",
    "t8 = t6+t7\n",
    "t8"
   ]
  },
  {
   "cell_type": "markdown",
   "id": "73ff708c-63c5-497e-89fa-503e5345cf16",
   "metadata": {},
   "source": [
    "31. Flatten a nested tuple."
   ]
  },
  {
   "cell_type": "code",
   "execution_count": 11,
   "id": "6ea72328-e815-400f-a720-eed3d87491f6",
   "metadata": {},
   "outputs": [
    {
     "name": "stdout",
     "output_type": "stream",
     "text": [
      "(1, 2, 3, 'paras', 'sharma', 4, 5, 9)\n"
     ]
    }
   ],
   "source": [
    "tn=((1,2,3),('paras','sharma'),(4,5,9))\n",
    "def flattened_tuple(input_tuple):\n",
    "    flattened=[]\n",
    "    for i in input_tuple:\n",
    "        if isinstance(i,tuple):\n",
    "            flattened.extend(flattened_tuple(i))\n",
    "        else:\n",
    "            flattened.append(i)\n",
    "    return flattened\n",
    "\n",
    "k= tuple(flattened_tuple(tn))\n",
    "print(k)"
   ]
  },
  {
   "cell_type": "markdown",
   "id": "39617476-5572-4a2a-b399-7e985fd4054d",
   "metadata": {},
   "source": [
    "32. Create a tuple of the first 5 prime numbers."
   ]
  },
  {
   "cell_type": "code",
   "execution_count": 13,
   "id": "a592c3a5-d71d-4f53-a2b4-2f14ccc03577",
   "metadata": {},
   "outputs": [
    {
     "name": "stdout",
     "output_type": "stream",
     "text": [
      "1 2 3 5 "
     ]
    }
   ],
   "source": [
    "for i in range(1,6):\n",
    "    flag = 0\n",
    "    for j in range(2,i):\n",
    "        if i%j == 0:\n",
    "            flag = 1\n",
    "            break\n",
    "    if flag==0:\n",
    "        print(i,end=' ')"
   ]
  },
  {
   "cell_type": "markdown",
   "id": "f45146f8-3243-42f3-9ff0-e4ee6880373e",
   "metadata": {},
   "source": [
    "33. Check if a tuple is a palindrome."
   ]
  },
  {
   "cell_type": "code",
   "execution_count": 14,
   "id": "793c51db-033d-4695-94bc-5520ba22c638",
   "metadata": {},
   "outputs": [
    {
     "name": "stdout",
     "output_type": "stream",
     "text": [
      "True\n",
      "False\n"
     ]
    }
   ],
   "source": [
    "def palindrome_tuple(h):\n",
    "    return h == h[::-1]\n",
    "rt = (1,2,3,2,1)\n",
    "ty = (1,2,3,4,5)\n",
    "\n",
    "ispal = palindrome_tuple(rt)\n",
    "isnpal = palindrome_tuple(ty)\n",
    "print(ispal)\n",
    "print(isnpal)"
   ]
  },
  {
   "cell_type": "markdown",
   "id": "1ec1b484-77f5-4bb3-a3d4-a66044b904f1",
   "metadata": {},
   "source": [
    "34. Create a tuple of squares of numbers from 1 to 5."
   ]
  },
  {
   "cell_type": "code",
   "execution_count": 15,
   "id": "042b5f77-f270-4ff9-9ea5-ccd026bce4ac",
   "metadata": {},
   "outputs": [
    {
     "data": {
      "text/plain": [
       "(1, 4, 9, 16, 25)"
      ]
     },
     "execution_count": 15,
     "metadata": {},
     "output_type": "execute_result"
    }
   ],
   "source": [
    "squ_tuple = tuple(i**2 for i in range(1,6))\n",
    "squ_tuple"
   ]
  },
  {
   "cell_type": "markdown",
   "id": "e97801b0-bc87-46a9-9f61-49a939c0eee3",
   "metadata": {},
   "source": [
    "35. Filter out all even numbers from a tuple."
   ]
  },
  {
   "cell_type": "code",
   "execution_count": 16,
   "id": "1b1b907e-555b-40bf-bcaa-e908e4e33d96",
   "metadata": {},
   "outputs": [
    {
     "data": {
      "text/plain": [
       "(1, 3, 5, 7, 9, 11, 13, 15, 17, 19)"
      ]
     },
     "execution_count": 16,
     "metadata": {},
     "output_type": "execute_result"
    }
   ],
   "source": [
    "fil_tuple_even = tuple(i for i in range(1,20) if i%2!=0)\n",
    "fil_tuple_even"
   ]
  },
  {
   "cell_type": "markdown",
   "id": "d9e2bcb9-b36e-47ea-b3dd-4ac1b171e4af",
   "metadata": {},
   "source": [
    "36. Multiply all elements in a tuple by 2."
   ]
  },
  {
   "cell_type": "code",
   "execution_count": 17,
   "id": "e0137de8-c366-4f1a-9d73-cea9c8d596a8",
   "metadata": {},
   "outputs": [
    {
     "data": {
      "text/plain": [
       "(2, 4, 6, 8, 10, 12)"
      ]
     },
     "execution_count": 17,
     "metadata": {},
     "output_type": "execute_result"
    }
   ],
   "source": [
    "tg = (1,2,3,4,5,6)\n",
    "mul_tupl = tuple(i*2 for i in tg)\n",
    "mul_tupl"
   ]
  },
  {
   "cell_type": "markdown",
   "id": "072db48f-098a-4de9-96a7-c266e7b9e71b",
   "metadata": {},
   "source": [
    "37. Create a tuple of random numbers."
   ]
  },
  {
   "cell_type": "code",
   "execution_count": 2,
   "id": "6016ec4f-f9e3-4a68-96e4-d9f9de0d0768",
   "metadata": {},
   "outputs": [
    {
     "data": {
      "text/plain": [
       "(91, 73, 35, 72, 22, 26, 40, 79, 61, 17)"
      ]
     },
     "execution_count": 2,
     "metadata": {},
     "output_type": "execute_result"
    }
   ],
   "source": [
    "import random\n",
    "\n",
    "s = tuple(random.randint(1,100) for _ in range(10))\n",
    "s"
   ]
  },
  {
   "cell_type": "markdown",
   "id": "8366296b-879e-4de4-9004-2fc4e50e6172",
   "metadata": {},
   "source": [
    "38. Check if a tuple is sorted."
   ]
  },
  {
   "cell_type": "code",
   "execution_count": 1,
   "id": "9a9687f2-dc57-46c2-b4b5-756db3e64864",
   "metadata": {},
   "outputs": [
    {
     "name": "stdout",
     "output_type": "stream",
     "text": [
      "the sort: (1, 2, 3, 4, 5, 6, 7) is True\n",
      "the sort: (1, 7, 3, 4, 5, 9, 5, 6) is False\n"
     ]
    }
   ],
   "source": [
    "def is_sort(tup):\n",
    "    for i in range(len(tup)-1):\n",
    "        if tup[i] > tup[i+1]:\n",
    "            return False\n",
    "    return True\n",
    "\n",
    "sort_tup1 = (1,2,3,4,5,6,7)\n",
    "unsort_tup1 = (1,7,3,4,5,9,5,6)\n",
    "\n",
    "ref1 = is_sort(sort_tup1)\n",
    "ref2 = is_sort(unsort_tup1)\n",
    "\n",
    "print(f\"the sort: {sort_tup1} is {ref1}\")\n",
    "print(f\"the sort: {unsort_tup1} is {ref2}\")"
   ]
  },
  {
   "cell_type": "markdown",
   "id": "b5109bb1-4f86-4183-8fc3-831fda08c35f",
   "metadata": {},
   "source": [
    "39. Rotate a tuple to the left by `n` positions."
   ]
  },
  {
   "cell_type": "code",
   "execution_count": 4,
   "id": "59dcd238-6db5-4347-a32b-d5041bd2508b",
   "metadata": {},
   "outputs": [
    {
     "name": "stdout",
     "output_type": "stream",
     "text": [
      "The rotated tuple is: (1, 2, 3, 4, 5, 6) (2, 3, 4, 5, 6, 1)\n"
     ]
    }
   ],
   "source": [
    "def rot_tupple(tup,n):\n",
    "    n = n % len(tup)\n",
    "    rotated_tup = tup[n:] + tup[:n]\n",
    "    return rotated_tup\n",
    "\n",
    "tup1 = (1,2,3,4,5,6)\n",
    "no_of_positions = 7\n",
    "rotated = rot_tupple(tup1,no_of_positions)\n",
    "print(f\"The rotated tuple is: {tup1}\", rotated)\n",
    "    "
   ]
  },
  {
   "cell_type": "markdown",
   "id": "dc22f046-0d21-4ca0-b2e4-2702d029d338",
   "metadata": {},
   "source": [
    "40. Rotate a tuple to the right by `n` positions."
   ]
  },
  {
   "cell_type": "code",
   "execution_count": 5,
   "id": "b9d576d7-690b-4881-adef-20cbfc79cb6a",
   "metadata": {},
   "outputs": [
    {
     "name": "stdout",
     "output_type": "stream",
     "text": [
      "The rotated tuple is: (1, 2, 3, 4, 5, 6) (4, 5, 6, 1, 2, 3)\n"
     ]
    }
   ],
   "source": [
    "def rot_tuple_r(tup,n):\n",
    "    n = n % len(tup)\n",
    "    rotated_tup1 = tup[-n:] + tup[:-n]\n",
    "    return rotated_tup1\n",
    "tup2 = (1,2,3,4,5,6)\n",
    "no_of_postions = 3\n",
    "rotation = rot_tuple_r(tup2,no_of_postions)\n",
    "print(f\"The rotated tuple is: {tup2}\", rotation)\n",
    "    "
   ]
  },
  {
   "cell_type": "markdown",
   "id": "0e1b3194-57d3-4203-b8c1-06550a2330ef",
   "metadata": {},
   "source": [
    "41. Create a tuple of the first 5 Fibonacci numbers."
   ]
  },
  {
   "cell_type": "code",
   "execution_count": 8,
   "id": "685c3370-91c5-488b-ae93-dae7c9ef98da",
   "metadata": {},
   "outputs": [
    {
     "name": "stdout",
     "output_type": "stream",
     "text": [
      "The fibonacci series: (0, 1, 1, 2, 3, 5, 8, 13, 21, 34)\n"
     ]
    }
   ],
   "source": [
    "def fib_ser(n):\n",
    "    fib_series = []\n",
    "    a,b = 0,1\n",
    "    for _ in range(n):\n",
    "        fib_series.append(a)\n",
    "        a,b = b,a+b\n",
    "    return tuple(fib_series)\n",
    "    \n",
    "k = fib_ser(10)\n",
    "print(\"The fibonacci series:\",k)\n",
    "        \n",
    "    "
   ]
  },
  {
   "cell_type": "code",
   "execution_count": null,
   "id": "a39fd9c9-663a-4602-b151-05d89f3fe701",
   "metadata": {},
   "outputs": [],
   "source": [
    "42. Create a tuple from user input."
   ]
  },
  {
   "cell_type": "code",
   "execution_count": 9,
   "id": "ccd60fbf-f712-4bf2-9d66-d54c497230b8",
   "metadata": {},
   "outputs": [
    {
     "name": "stdin",
     "output_type": "stream",
     "text": [
      "Enter elements separated by commas p,a,r,a,s,s,h,a,r,m,a\n"
     ]
    },
    {
     "name": "stdout",
     "output_type": "stream",
     "text": [
      "User input tuple: ('p', 'a', 'r', 'a', 's', 's', 'h', 'a', 'r', 'm', 'a')\n"
     ]
    }
   ],
   "source": [
    "input_str = input(\"Enter elements separated by commas\")\n",
    "i = input_str.split(',')\n",
    "user_t = tuple(i)\n",
    "print(\"User input tuple:\",user_t)"
   ]
  },
  {
   "cell_type": "markdown",
   "id": "d3959692-e7df-49ae-be3e-dc65e500c1ad",
   "metadata": {},
   "source": [
    "43. Swap two elements in a tuple."
   ]
  },
  {
   "cell_type": "code",
   "execution_count": 11,
   "id": "7c9e4dcd-57c4-4f5b-b9a2-98db4084916e",
   "metadata": {},
   "outputs": [
    {
     "name": "stdout",
     "output_type": "stream",
     "text": [
      "Swapped tupple (1, 2, 3, 6, 5, 4)\n"
     ]
    }
   ],
   "source": [
    "t1 = (1,2,3,4,5,6)\n",
    "index1 = 3\n",
    "index2 = 5\n",
    "\n",
    "swapped_tuple = tuple( t1[i] if i not in (index1,index2) else\n",
    "                      t1[index2] if i == index1 else \n",
    "                      t1[index1]\n",
    "                     for i in range(len(t1))\n",
    "                     )\n",
    "print(\"Swapped tupple\", swapped_tuple)"
   ]
  },
  {
   "cell_type": "markdown",
   "id": "220ac0d2-6f8d-4706-83ee-c0484467d3b1",
   "metadata": {},
   "source": [
    "44. Reverse the elements of a tuple."
   ]
  },
  {
   "cell_type": "code",
   "execution_count": 12,
   "id": "a2d6e957-233b-4435-9cc4-92e519751661",
   "metadata": {},
   "outputs": [
    {
     "name": "stdout",
     "output_type": "stream",
     "text": [
      "reversed string is: (6, 4, 3, 2, 1)\n"
     ]
    }
   ],
   "source": [
    "my_er = (1,2,3,4,6)\n",
    "n_t = my_er[::-1]\n",
    "print(\"reversed string is:\", n_t)"
   ]
  },
  {
   "cell_type": "markdown",
   "id": "24f400e3-e82c-4726-9797-83f0b191a7fe",
   "metadata": {},
   "source": [
    "45. Create a tuple of the first `n` powers of 2."
   ]
  },
  {
   "cell_type": "code",
   "execution_count": 1,
   "id": "f876cd69-6822-4de2-819a-4b1d1ec31c25",
   "metadata": {},
   "outputs": [
    {
     "data": {
      "text/plain": [
       "(1, 2, 4, 8, 16)"
      ]
     },
     "execution_count": 1,
     "metadata": {},
     "output_type": "execute_result"
    }
   ],
   "source": [
    "k = 5\n",
    "new_tuple = tuple([2**i for i in range(k)])\n",
    "new_tuple"
   ]
  },
  {
   "cell_type": "markdown",
   "id": "5bb73126-5842-4a33-a1aa-1e4a8b53a299",
   "metadata": {},
   "source": [
    "46. Find the longest string in a tuple of strings."
   ]
  },
  {
   "cell_type": "code",
   "execution_count": 5,
   "id": "66d475d9-ffd4-42f3-8068-2403981db4d7",
   "metadata": {},
   "outputs": [
    {
     "data": {
      "text/plain": [
       "'positivie'"
      ]
     },
     "execution_count": 5,
     "metadata": {},
     "output_type": "execute_result"
    }
   ],
   "source": [
    "stringg = ('paras','hello','sky','positivie')\n",
    "r = max(stringg,key=len)\n",
    "r"
   ]
  },
  {
   "cell_type": "markdown",
   "id": "48939436-c1cb-42ad-b25d-7455fcc44d0a",
   "metadata": {},
   "source": [
    "47. Find the shortest string in a tuple of strings."
   ]
  },
  {
   "cell_type": "code",
   "execution_count": 6,
   "id": "9e72eef9-e16b-4f56-876c-a8b1ae024337",
   "metadata": {},
   "outputs": [
    {
     "data": {
      "text/plain": [
       "'sky'"
      ]
     },
     "execution_count": 6,
     "metadata": {},
     "output_type": "execute_result"
    }
   ],
   "source": [
    "stringg1 = ('paras','hello','sky','positivie')\n",
    "rr = min(stringg1,key=len)\n",
    "rr"
   ]
  },
  {
   "cell_type": "markdown",
   "id": "ce2e3f2b-c373-4393-b44b-d59b5f2c763d",
   "metadata": {},
   "source": [
    "48. Create a tuple of the first `n` triangular numbers."
   ]
  },
  {
   "cell_type": "code",
   "execution_count": 9,
   "id": "48c69db0-3466-4632-8a2d-2d596b5bea55",
   "metadata": {},
   "outputs": [
    {
     "data": {
      "text/plain": [
       "(1, 3, 6, 10, 15, 21, 28, 36, 45, 55)"
      ]
     },
     "execution_count": 9,
     "metadata": {},
     "output_type": "execute_result"
    }
   ],
   "source": [
    "k=10\n",
    "triangular_numbers = tuple(i*(i+1)//2 for i in range(1,k+1))\n",
    "triangular_numbers"
   ]
  },
  {
   "cell_type": "markdown",
   "id": "3c11b5c9-6247-4510-b7fc-48558955b1d0",
   "metadata": {},
   "source": [
    "49. Check if a tuple contains another tuple as a subsequence."
   ]
  },
  {
   "cell_type": "code",
   "execution_count": 2,
   "id": "a19cace5-bf27-411f-9d74-23de52c579d9",
   "metadata": {},
   "outputs": [
    {
     "name": "stdout",
     "output_type": "stream",
     "text": [
      " the main tuple has the tubele False\n"
     ]
    }
   ],
   "source": [
    "def main_another(maint,subt):\n",
    "    subtt = len(subt)\n",
    "    for i in range(len(maint)):\n",
    "        if maint[i:i+subtt] == subt:\n",
    "            return True\n",
    "    return False\n",
    "\n",
    "maint = (1,2,3,4,5,6,7,8,9)\n",
    "subt = (8,9,10)\n",
    "\n",
    "k = main_another(maint,subt)\n",
    "print(\" the main tuple has the tubele\", k)"
   ]
  },
  {
   "cell_type": "markdown",
   "id": "35f00497-ad53-479b-aeb0-72d12fd9ab26",
   "metadata": {},
   "source": [
    "50. Create a tuple of alternating 1s and 0s of length `n`."
   ]
  },
  {
   "cell_type": "code",
   "execution_count": 3,
   "id": "56fe244e-1b6b-4034-80b4-5a32034ec678",
   "metadata": {},
   "outputs": [
    {
     "data": {
      "text/plain": [
       "(0, 1, 0, 1, 0, 1, 0, 1, 0, 1)"
      ]
     },
     "execution_count": 3,
     "metadata": {},
     "output_type": "execute_result"
    }
   ],
   "source": [
    "n = 10\n",
    "tup_new = tuple(i%2 for i in range(n))\n",
    "tup_new"
   ]
  },
  {
   "cell_type": "markdown",
   "id": "5b4bd142-740e-4845-850b-473e90fc1f5a",
   "metadata": {},
   "source": [
    "Set Based Practice Problem :"
   ]
  },
  {
   "cell_type": "markdown",
   "id": "378d03fc-2578-458f-a645-505c9d53dad3",
   "metadata": {},
   "source": [
    "1. Create a set with integers from 1 to 5."
   ]
  },
  {
   "cell_type": "code",
   "execution_count": 7,
   "id": "0fc28a11-6d0a-4383-aeea-c5a668551315",
   "metadata": {},
   "outputs": [
    {
     "data": {
      "text/plain": [
       "{1, 2, 3, 4, 5}"
      ]
     },
     "execution_count": 7,
     "metadata": {},
     "output_type": "execute_result"
    }
   ],
   "source": [
    "set1 = set()\n",
    "set1.add(1)\n",
    "set1.add(2)\n",
    "set1.add(3)\n",
    "set1.add(4)\n",
    "set1.add(5)\n",
    "set1"
   ]
  },
  {
   "cell_type": "markdown",
   "id": "17aa93ea-32e8-4c52-b3c0-e0a34da5f182",
   "metadata": {},
   "source": [
    "2. Add an element to a set."
   ]
  },
  {
   "cell_type": "code",
   "execution_count": 12,
   "id": "c1aa90c4-c5f2-4368-b097-8648c11114c4",
   "metadata": {},
   "outputs": [
    {
     "name": "stdout",
     "output_type": "stream",
     "text": [
      "The orginial set is: {1, 2, 3, 4, 5, 6, 7, 8, 9}\n",
      "The final set is: {1, 2, 3, 4, 5, 6, 7, 8, 9, 10}\n"
     ]
    }
   ],
   "source": [
    "set2 = {1,2,3,4,5,6,7,8,9}\n",
    "print(\"The orginial set is:\", set2)\n",
    "set2.add(10)\n",
    "print(\"The final set is:\", set2)"
   ]
  },
  {
   "cell_type": "markdown",
   "id": "6f6f900c-5d7f-4a30-8f69-8e1a37bc2476",
   "metadata": {},
   "source": [
    "3. Remove an element from a set."
   ]
  },
  {
   "cell_type": "code",
   "execution_count": 13,
   "id": "13dcef3f-1dbe-4c84-b2e3-2043e73ed2a4",
   "metadata": {},
   "outputs": [
    {
     "data": {
      "text/plain": [
       "{1, 2, 3, 4, 5, 6, 7, 8, 9, 10}"
      ]
     },
     "execution_count": 13,
     "metadata": {},
     "output_type": "execute_result"
    }
   ],
   "source": [
    "set2"
   ]
  },
  {
   "cell_type": "code",
   "execution_count": 17,
   "id": "5f253a22-1e5c-466f-90b2-5a1e404d84f0",
   "metadata": {},
   "outputs": [
    {
     "data": {
      "text/plain": [
       "{1, 2, 3, 4, 5, 6, 7, 8}"
      ]
     },
     "execution_count": 17,
     "metadata": {},
     "output_type": "execute_result"
    }
   ],
   "source": [
    "set2.remove(9)\n",
    "set2"
   ]
  },
  {
   "cell_type": "markdown",
   "id": "cf6611e2-5141-4174-a085-cdd37e7ba0ad",
   "metadata": {},
   "source": [
    "4. Check if an element exists in a set."
   ]
  },
  {
   "cell_type": "code",
   "execution_count": 22,
   "id": "d223a722-56eb-438f-a2dd-8435bb32cef3",
   "metadata": {},
   "outputs": [
    {
     "name": "stdin",
     "output_type": "stream",
     "text": [
      "Enter the element to check 10\n"
     ]
    },
    {
     "name": "stdout",
     "output_type": "stream",
     "text": [
      "The element to check is : 10 is not present in set: {1, 2, 3, 4, 5, 6, 7, 8}\n"
     ]
    }
   ],
   "source": [
    "set2\n",
    "element_to_search = int(input(\"Enter the element to check\"))\n",
    "if element_to_search in set2:\n",
    "    print(f\"The element to check is : {element_to_search} is present in set: {set2}\")\n",
    "else:\n",
    "    print(f\"The element to check is : {element_to_search} is not present in set: {set2}\")"
   ]
  },
  {
   "cell_type": "markdown",
   "id": "2a9820e0-7802-4d24-abe8-aa6018aac316",
   "metadata": {},
   "source": [
    "5. Find the length of a set without using the `len()` function."
   ]
  },
  {
   "cell_type": "code",
   "execution_count": 27,
   "id": "c96e07a8-65ce-40ef-9a03-968453bc47da",
   "metadata": {},
   "outputs": [
    {
     "name": "stdout",
     "output_type": "stream",
     "text": [
      "The lenght of set is : 8\n"
     ]
    }
   ],
   "source": [
    "set2\n",
    "count=0\n",
    "for _ in set2:\n",
    "    count+=1\n",
    "print(\"The lenght of set is :\", count)"
   ]
  },
  {
   "cell_type": "markdown",
   "id": "e518125a-13aa-4824-bcfa-913296b660db",
   "metadata": {},
   "source": [
    "6. Clear all elements from a set."
   ]
  },
  {
   "cell_type": "code",
   "execution_count": 26,
   "id": "5b1c0fea-52d7-429b-9306-3b295d4f15f5",
   "metadata": {},
   "outputs": [],
   "source": [
    "set1\n",
    "set1.clear()"
   ]
  },
  {
   "cell_type": "markdown",
   "id": "0b3a16dc-8923-49ee-83c8-f441592263e8",
   "metadata": {},
   "source": [
    "7. Create a set of even numbers from 1 to 10."
   ]
  },
  {
   "cell_type": "code",
   "execution_count": 28,
   "id": "febb7e75-eafc-4330-aca2-0884f2920c7b",
   "metadata": {},
   "outputs": [
    {
     "name": "stdout",
     "output_type": "stream",
     "text": [
      "{2, 4, 6, 8, 10}\n"
     ]
    }
   ],
   "source": [
    "set_even = set()\n",
    "for num in range(1,11):\n",
    "    if num%2 == 0:\n",
    "        set_even.add(num)\n",
    "print(set_even)\n",
    "    "
   ]
  },
  {
   "cell_type": "markdown",
   "id": "9d58817e-8b05-4efb-8868-a358e547b6fd",
   "metadata": {},
   "source": [
    "8. Create a set of odd numbers from 1 to 10."
   ]
  },
  {
   "cell_type": "code",
   "execution_count": 29,
   "id": "c54a869d-a58b-4d43-a403-989a3313a27e",
   "metadata": {},
   "outputs": [
    {
     "name": "stdout",
     "output_type": "stream",
     "text": [
      "{1, 3, 5, 7, 9}\n"
     ]
    }
   ],
   "source": [
    "set_odd = set()\n",
    "for i in range(1,11):\n",
    "    if i%2 != 0:\n",
    "        set_odd.add(i)\n",
    "print(set_odd)"
   ]
  },
  {
   "cell_type": "markdown",
   "id": "0f6f0b6b-9736-408d-81f5-98c084a05d92",
   "metadata": {},
   "source": [
    "9. Find the union of two sets."
   ]
  },
  {
   "cell_type": "code",
   "execution_count": 34,
   "id": "15394e3f-54ba-467b-914b-43ec270d53a8",
   "metadata": {},
   "outputs": [
    {
     "data": {
      "text/plain": [
       "{1, 2, 3, 4, 5, 6, 7, 8, 9, 10}"
      ]
     },
     "execution_count": 34,
     "metadata": {},
     "output_type": "execute_result"
    }
   ],
   "source": [
    "set1 = {1,2,3,4,5}\n",
    "set2 = {6,7,8,9,10}\n",
    "union_set = set1.union(set2)\n",
    "union_set"
   ]
  },
  {
   "cell_type": "markdown",
   "id": "3aa9b3d9-91a5-408a-9a76-d7883f56c93e",
   "metadata": {},
   "source": [
    "10. Find the intersection of two sets."
   ]
  },
  {
   "cell_type": "code",
   "execution_count": 38,
   "id": "e6867c40-9420-4102-bfed-566738d720ac",
   "metadata": {},
   "outputs": [
    {
     "data": {
      "text/plain": [
       "{1, 4, 5}"
      ]
     },
     "execution_count": 38,
     "metadata": {},
     "output_type": "execute_result"
    }
   ],
   "source": [
    "set3 = {1,6,7,4,5}\n",
    "set4 = {1,2,3,4,5}\n",
    "interaction_set = set3.intersection(set4)\n",
    "interaction_set"
   ]
  },
  {
   "cell_type": "markdown",
   "id": "a4064125-6e86-4e5f-b0b7-943b1cf7a384",
   "metadata": {},
   "source": [
    "11. Find the difference between two sets."
   ]
  },
  {
   "cell_type": "code",
   "execution_count": 1,
   "id": "47020f1c-d0e3-492e-ac59-dcfc29137e49",
   "metadata": {},
   "outputs": [
    {
     "data": {
      "text/plain": [
       "{6, 7}"
      ]
     },
     "execution_count": 1,
     "metadata": {},
     "output_type": "execute_result"
    }
   ],
   "source": [
    "set5 = {1,6,7,4,5}\n",
    "set6 = {1,2,3,4,5}\n",
    "difference_set = set5.difference(set6)\n",
    "difference_set"
   ]
  },
  {
   "cell_type": "markdown",
   "id": "d40e9faf-e8f8-4232-8b65-0b10e83814f7",
   "metadata": {},
   "source": [
    "12. Check if a set is a subset of another set."
   ]
  },
  {
   "cell_type": "code",
   "execution_count": 4,
   "id": "7e9debf4-bdfa-4cf6-8aeb-ce0631aba7a9",
   "metadata": {},
   "outputs": [
    {
     "data": {
      "text/plain": [
       "False"
      ]
     },
     "execution_count": 4,
     "metadata": {},
     "output_type": "execute_result"
    }
   ],
   "source": [
    "set7 = {10}\n",
    "set8 = {1,2,3,4,5,6}\n",
    "subsetcheck = set7.issubset(set8)\n",
    "subsetcheck"
   ]
  },
  {
   "cell_type": "markdown",
   "id": "0a0880c3-08f9-463b-9530-c2ef46963c21",
   "metadata": {},
   "source": [
    "13. Check if a set is a superset of another set."
   ]
  },
  {
   "cell_type": "code",
   "execution_count": 7,
   "id": "69ced6f7-9b78-44ab-bb68-b436e6e404ae",
   "metadata": {},
   "outputs": [
    {
     "data": {
      "text/plain": [
       "False"
      ]
     },
     "execution_count": 7,
     "metadata": {},
     "output_type": "execute_result"
    }
   ],
   "source": [
    "set9 = {1,2,3,4,5,6,7}\n",
    "set10 = {1,2,3,4,5,6,8}\n",
    "supersetcheck = set9.issuperset(set10)\n",
    "supersetcheck"
   ]
  },
  {
   "cell_type": "markdown",
   "id": "b4303fe3-7109-4f74-8c74-7af8f1d0892c",
   "metadata": {},
   "source": [
    "14. Create a set from a list."
   ]
  },
  {
   "cell_type": "code",
   "execution_count": 16,
   "id": "a5ca2e84-3b5a-4cf4-973e-94af5ed8acbb",
   "metadata": {},
   "outputs": [
    {
     "data": {
      "text/plain": [
       "{1, 2, 3, 4, 5, 6, 7}"
      ]
     },
     "execution_count": 16,
     "metadata": {},
     "output_type": "execute_result"
    }
   ],
   "source": [
    "l1 = [1,2,3,4,5,6,7]\n",
    "s1 = set(l1)\n",
    "s1"
   ]
  },
  {
   "cell_type": "markdown",
   "id": "fab69be4-a94a-4917-8139-e839f391f5ee",
   "metadata": {},
   "source": [
    "15. Convert a set to a list."
   ]
  },
  {
   "cell_type": "code",
   "execution_count": 17,
   "id": "219ccdfe-fb80-4fa4-8416-f3a8ab41f9b2",
   "metadata": {},
   "outputs": [
    {
     "data": {
      "text/plain": [
       "[1, 2, 3, 4, 5, 6, 7]"
      ]
     },
     "execution_count": 17,
     "metadata": {},
     "output_type": "execute_result"
    }
   ],
   "source": [
    "s1\n",
    "l2 = list(s1)\n",
    "l2"
   ]
  },
  {
   "cell_type": "markdown",
   "id": "bcff3e80-50dd-4afa-a2ab-5b19b978c93a",
   "metadata": {},
   "source": [
    "16. Remove a random element from a set."
   ]
  },
  {
   "cell_type": "code",
   "execution_count": 19,
   "id": "0deb60ed-d8e1-4608-89fe-46c06ce945cb",
   "metadata": {},
   "outputs": [
    {
     "data": {
      "text/plain": [
       "{1, 3, 4, 5, 6}"
      ]
     },
     "execution_count": 19,
     "metadata": {},
     "output_type": "execute_result"
    }
   ],
   "source": [
    "import random\n",
    "randome_choice = random.choice(list(s1))\n",
    "s1.remove(randome_choice)\n",
    "s1"
   ]
  },
  {
   "cell_type": "markdown",
   "id": "4740c6e4-6156-410e-ac8f-335be87f16d4",
   "metadata": {},
   "source": [
    "17. Pop an element from a set."
   ]
  },
  {
   "cell_type": "code",
   "execution_count": 21,
   "id": "6947c6a6-d69a-498f-93a1-88d2255dc0b0",
   "metadata": {},
   "outputs": [
    {
     "data": {
      "text/plain": [
       "{4, 5, 6}"
      ]
     },
     "execution_count": 21,
     "metadata": {},
     "output_type": "execute_result"
    }
   ],
   "source": [
    "s1.pop()\n",
    "s1"
   ]
  },
  {
   "cell_type": "markdown",
   "id": "a516ae88-6af4-430e-b023-d6b910895164",
   "metadata": {},
   "source": [
    "18. Check if two sets have no elements in common."
   ]
  },
  {
   "cell_type": "code",
   "execution_count": 25,
   "id": "57fdd97b-af49-418e-b4cd-6f2619a7a47c",
   "metadata": {},
   "outputs": [
    {
     "name": "stdout",
     "output_type": "stream",
     "text": [
      "The two sets have elements in common {6}\n"
     ]
    }
   ],
   "source": [
    "set11 = {1,2,3,4,6}\n",
    "set12 = {6,7,8,9,10}\n",
    "check = set11.intersection(set12)\n",
    "if not check:\n",
    "    print(\"The two sets have no elements in common\")\n",
    "else:\n",
    "    print(\"The two sets have elements in common\",check)"
   ]
  },
  {
   "cell_type": "markdown",
   "id": "11af9316-62c7-4019-8a0c-5589a3638f89",
   "metadata": {},
   "source": [
    "19. Find the symmetric difference between two sets."
   ]
  },
  {
   "cell_type": "code",
   "execution_count": 26,
   "id": "72c58949-4a9d-4a5f-b9bc-9db2cc420f72",
   "metadata": {},
   "outputs": [
    {
     "data": {
      "text/plain": [
       "{1, 2, 3, 4, 9, 10}"
      ]
     },
     "execution_count": 26,
     "metadata": {},
     "output_type": "execute_result"
    }
   ],
   "source": [
    "set11 = {1,2,3,4,6,7,8}\n",
    "set12 = {6,7,8,9,10}\n",
    "set13 = set11^set12\n",
    "set13"
   ]
  },
  {
   "cell_type": "markdown",
   "id": "53cacef8-25f1-4a32-9550-03a819a88941",
   "metadata": {},
   "source": [
    "20. Update a set with elements from another set."
   ]
  },
  {
   "cell_type": "code",
   "execution_count": 27,
   "id": "42533d81-3870-4e51-91e7-be1b5fa8eb8f",
   "metadata": {},
   "outputs": [
    {
     "data": {
      "text/plain": [
       "{1, 2, 3, 4, 6, 7, 8, 9, 10}"
      ]
     },
     "execution_count": 27,
     "metadata": {},
     "output_type": "execute_result"
    }
   ],
   "source": [
    "set11 = {1,2,3,4,6,7,8}\n",
    "set12 = {6,7,8,9,10}\n",
    "set11.update(set12)\n",
    "set11"
   ]
  },
  {
   "cell_type": "markdown",
   "id": "7e2c03df-1adc-4d4b-b053-46c0bd025f18",
   "metadata": {},
   "source": [
    "21. Create a set of the first 5 prime numbers."
   ]
  },
  {
   "cell_type": "code",
   "execution_count": 8,
   "id": "17e798f1-dd60-4261-8e38-6c2065161fe3",
   "metadata": {},
   "outputs": [
    {
     "name": "stdout",
     "output_type": "stream",
     "text": [
      "{2, 3, 5, 7, 11}\n"
     ]
    }
   ],
   "source": [
    "def is_prime(num):\n",
    "    if num<2:\n",
    "        return False\n",
    "    for i in range(2,int(num**0.5)+1):\n",
    "        if num % i == 0:\n",
    "            return False\n",
    "    return True\n",
    "\n",
    "def first_n_primes(n):\n",
    "    primes = set()\n",
    "    num = 2\n",
    "    \n",
    "    while len(primes)<n:\n",
    "        if is_prime(num):\n",
    "            primes.add(num)\n",
    "        num+=1\n",
    "    return primes\n",
    "\n",
    "first_5_primes = first_n_primes(5)\n",
    "print(first_5_primes)"
   ]
  },
  {
   "cell_type": "markdown",
   "id": "abcd6c58-a96e-497b-a3c9-e88c983f4858",
   "metadata": {},
   "source": [
    "22. Check if two sets are identical."
   ]
  },
  {
   "cell_type": "code",
   "execution_count": 9,
   "id": "908d312b-e4be-465e-a3ec-4bd9f3dc6857",
   "metadata": {},
   "outputs": [
    {
     "name": "stdout",
     "output_type": "stream",
     "text": [
      "Both the sets are identical\n"
     ]
    }
   ],
   "source": [
    "set1 = {1, 2, 3, 4, 5}\n",
    "set2 = {3, 1, 5, 2, 4}\n",
    "\n",
    "if set1 == set2:\n",
    "    print(\"Both the sets are identical\")\n",
    "else:\n",
    "    print(\"Both the sets are non identical\")"
   ]
  },
  {
   "cell_type": "markdown",
   "id": "0f569b0e-f672-489b-a916-e45c16335311",
   "metadata": {},
   "source": [
    "23. Create a frozen set."
   ]
  },
  {
   "cell_type": "code",
   "execution_count": 10,
   "id": "1da5976c-8d63-4d0f-a000-4651d8580db0",
   "metadata": {},
   "outputs": [
    {
     "data": {
      "text/plain": [
       "frozenset({1, 2, 3, 4, 5, 6, 7})"
      ]
     },
     "execution_count": 10,
     "metadata": {},
     "output_type": "execute_result"
    }
   ],
   "source": [
    "elments = {1,2,3,4,5,6,7}\n",
    "frozen_set = frozenset(elments)\n",
    "frozen_set"
   ]
  },
  {
   "cell_type": "markdown",
   "id": "dd4f865c-4dba-4e57-94a7-f82f504af9d0",
   "metadata": {},
   "source": [
    "24. Check if a set is disjoint with another set."
   ]
  },
  {
   "cell_type": "code",
   "execution_count": 15,
   "id": "218a720d-3320-4ce7-aeb4-15fbfcde3d46",
   "metadata": {},
   "outputs": [
    {
     "name": "stdout",
     "output_type": "stream",
     "text": [
      "The sets are disjoint True\n"
     ]
    }
   ],
   "source": [
    "set1 = {1, 2, 3, 4}\n",
    "set2 = {5, 6, 7, 8}\n",
    "disjoint_set = set1.isdisjoint(set2)\n",
    "print(\"The sets are disjoint\", disjoint_set)"
   ]
  },
  {
   "cell_type": "markdown",
   "id": "f8386948-53d4-4139-827e-0b12db99f79a",
   "metadata": {},
   "source": [
    "25. Create a set of squares of numbers from 1 to 5."
   ]
  },
  {
   "cell_type": "code",
   "execution_count": 19,
   "id": "cc376d7e-4d05-487f-a553-e0ed81181916",
   "metadata": {},
   "outputs": [
    {
     "data": {
      "text/plain": [
       "{1, 4, 9, 16, 25}"
      ]
     },
     "execution_count": 19,
     "metadata": {},
     "output_type": "execute_result"
    }
   ],
   "source": [
    "set_squares = set(i**2 for i in range(1,6))\n",
    "set_squares"
   ]
  },
  {
   "cell_type": "markdown",
   "id": "3616f9e5-4cbf-4839-bdd9-1c6185cf2c2c",
   "metadata": {},
   "source": [
    "26. Filter out all even numbers from a set."
   ]
  },
  {
   "cell_type": "code",
   "execution_count": 20,
   "id": "f338b746-b6e0-4fa5-8a70-30ceae7752e6",
   "metadata": {},
   "outputs": [
    {
     "data": {
      "text/plain": [
       "{1, 3, 5, 7, 9}"
      ]
     },
     "execution_count": 20,
     "metadata": {},
     "output_type": "execute_result"
    }
   ],
   "source": [
    "set1 = {1,2,3,4,5,6,7,8,9,10}\n",
    "filter_even_set = set(num for num in range(len(set1)) if num%2!=0)\n",
    "filter_even_set"
   ]
  },
  {
   "cell_type": "markdown",
   "id": "bf40ec8c-2961-4169-a256-fefb2ec37e02",
   "metadata": {},
   "source": [
    "27. Multiply all elements in a set by 2."
   ]
  },
  {
   "cell_type": "code",
   "execution_count": 22,
   "id": "29690314-8b38-433e-8ec5-451500b35302",
   "metadata": {},
   "outputs": [
    {
     "name": "stdout",
     "output_type": "stream",
     "text": [
      "Final set {2, 4, 6, 8, 10, 12, 14}\n"
     ]
    }
   ],
   "source": [
    "def multiply_elements(orginal_set,factor):\n",
    "    new_set = set(num*factor for num in orginal_set)\n",
    "    return new_set\n",
    "\n",
    "factor = 2\n",
    "orginial_set = {1,2,3,4,5,6,7}\n",
    "k = multiply_elements(orginial_set,factor)\n",
    "print(\"Final set\" , k)"
   ]
  },
  {
   "cell_type": "markdown",
   "id": "a8e5f65e-7e4c-4aa0-acd4-079d74f3181d",
   "metadata": {},
   "source": [
    "28. Create a set of random numbers."
   ]
  },
  {
   "cell_type": "code",
   "execution_count": 23,
   "id": "90e2d4be-a628-4c7b-a536-98ead4361f20",
   "metadata": {},
   "outputs": [
    {
     "name": "stdout",
     "output_type": "stream",
     "text": [
      "The random numbers are: {1, 2, 3, 4, 5, 6, 7, 8, 9, 10}\n"
     ]
    }
   ],
   "source": [
    "import random\n",
    "def random_set_generator(size,start,end):\n",
    "    random_set = set()\n",
    "    while len(random_set)<size:\n",
    "        random_set.add(random.randint(start,end))\n",
    "    return random_set\n",
    "size = 10\n",
    "start = 1\n",
    "end = 10\n",
    "random_numbers = random_set_generator(size,start,end)\n",
    "print(\"The random numbers are:\", random_numbers)"
   ]
  },
  {
   "cell_type": "markdown",
   "id": "a73bcf24-2c1c-46bf-a2ec-b9ea634f9fb2",
   "metadata": {},
   "source": [
    "29. Check if a set is empty."
   ]
  },
  {
   "cell_type": "code",
   "execution_count": 24,
   "id": "4cb9f532-ab89-428f-a2e4-273b001f9a7d",
   "metadata": {},
   "outputs": [
    {
     "name": "stdout",
     "output_type": "stream",
     "text": [
      "The set is empty.\n"
     ]
    }
   ],
   "source": [
    "my_set = set()\n",
    "if not my_set:\n",
    "    print(\"The set is empty.\")\n",
    "else:\n",
    "    print(\"The set is not empty.\")"
   ]
  },
  {
   "cell_type": "markdown",
   "id": "55814b3a-7995-42a6-9d48-4facedfab8f4",
   "metadata": {},
   "source": [
    "30. Create a nested set (hint: use frozenset)."
   ]
  },
  {
   "cell_type": "code",
   "execution_count": 25,
   "id": "9d91532d-3ccb-485c-922e-70084d7fafc2",
   "metadata": {},
   "outputs": [
    {
     "name": "stdout",
     "output_type": "stream",
     "text": [
      "{frozenset({1, 2, 3, 4, 5}), frozenset({6, 7, 8, 9, 10})}\n"
     ]
    }
   ],
   "source": [
    "set1 = {1, 2, 3, 4, 5}\n",
    "set2 = {6, 7, 8, 9, 10}\n",
    "frozen_set1 = frozenset(set1)\n",
    "frozen_set2 = frozenset(set2)\n",
    "nested_set = {frozen_set1,frozen_set2}\n",
    "print(nested_set)"
   ]
  },
  {
   "cell_type": "markdown",
   "id": "d0d766b3-c7e5-4191-babf-a50ca8bc61a7",
   "metadata": {},
   "source": [
    "31. Remove an element from a set using the discard method."
   ]
  },
  {
   "cell_type": "code",
   "execution_count": 2,
   "id": "d346dfd9-afb8-4097-aa7b-1ddc56674288",
   "metadata": {},
   "outputs": [
    {
     "data": {
      "text/plain": [
       "{1, 3, 4, 5}"
      ]
     },
     "execution_count": 2,
     "metadata": {},
     "output_type": "execute_result"
    }
   ],
   "source": [
    "my_set = {1, 2, 3, 4, 5}\n",
    "element_to_discard = 2\n",
    "my_set.discard(element_to_discard)\n",
    "my_set"
   ]
  },
  {
   "cell_type": "markdown",
   "id": "9bf9f067-1870-42cb-a402-254030634987",
   "metadata": {},
   "source": [
    "32. Compare two sets."
   ]
  },
  {
   "cell_type": "code",
   "execution_count": 3,
   "id": "07bd5d9d-b3ab-41d5-bf53-203a6f8193a9",
   "metadata": {},
   "outputs": [
    {
     "name": "stdout",
     "output_type": "stream",
     "text": [
      "Set 1: {1, 2, 3, 4, 5}\n",
      "Set 2: {4, 5, 6, 7, 8}\n",
      "Is set1 a subset of set2? False\n",
      "Is set2 a subset of set1? False\n",
      "Intersection: {4, 5}\n",
      "Union: {1, 2, 3, 4, 5, 6, 7, 8}\n",
      "Elements in set1 but not in set2: {1, 2, 3}\n",
      "Elements in set2 but not in set1: {8, 6, 7}\n"
     ]
    }
   ],
   "source": [
    "set1 = {1, 2, 3, 4, 5}\n",
    "set2 = {4, 5, 6, 7, 8}\n",
    "\n",
    "is_subset = set1.issubset(set2)\n",
    "\n",
    "is_superset = set1.issuperset(set2)\n",
    "\n",
    "intersection = set1.intersection(set2)\n",
    "\n",
    "union = set1.union(set2)\n",
    "\n",
    "difference1 = set1.difference(set2)\n",
    "\n",
    "difference2 = set2.difference(set1)\n",
    "print(\"Set 1:\", set1)\n",
    "print(\"Set 2:\", set2)\n",
    "print(\"Is set1 a subset of set2?\", is_subset)\n",
    "print(\"Is set2 a subset of set1?\", is_superset)\n",
    "print(\"Intersection:\", intersection)\n",
    "print(\"Union:\", union)\n",
    "print(\"Elements in set1 but not in set2:\", difference1)\n",
    "print(\"Elements in set2 but not in set1:\", difference2)"
   ]
  },
  {
   "cell_type": "markdown",
   "id": "a4397b69-28ff-4178-b047-ff966afefe5e",
   "metadata": {},
   "source": [
    "33. Create a set from a string."
   ]
  },
  {
   "cell_type": "code",
   "execution_count": 4,
   "id": "6a1e00f7-92f6-4e9e-aadc-493ea6433712",
   "metadata": {},
   "outputs": [
    {
     "data": {
      "text/plain": [
       "{'P', 'a', 'r', 's'}"
      ]
     },
     "execution_count": 4,
     "metadata": {},
     "output_type": "execute_result"
    }
   ],
   "source": [
    "input_string = \"Paras\"\n",
    "s_set = set(input_string)\n",
    "s_set"
   ]
  },
  {
   "cell_type": "markdown",
   "id": "899da5f5-8f6c-4cb9-9534-bd212019e369",
   "metadata": {},
   "source": [
    "34. Convert a set of strings to a set of integers."
   ]
  },
  {
   "cell_type": "code",
   "execution_count": 7,
   "id": "26eebcd6-0b54-418a-b038-e9d95696e046",
   "metadata": {},
   "outputs": [
    {
     "name": "stdout",
     "output_type": "stream",
     "text": [
      "Orginal string set {'789', '123', '456'}\n",
      "Final string set {456, 123, 789}\n"
     ]
    }
   ],
   "source": [
    "string_set = {\"123\", \"456\", \"789\"}\n",
    "int_set=set()\n",
    "\n",
    "for i in string_set:\n",
    "    int_val = int(i)\n",
    "    int_set.add(int_val)\n",
    "\n",
    "print(\"Orginal string set\", string_set)\n",
    "print(\"Final string set\", int_set)"
   ]
  },
  {
   "cell_type": "markdown",
   "id": "77cf0c08-c252-4868-a3a8-14b8a5f2ffbb",
   "metadata": {},
   "source": [
    "35. Convert a set of integers to a set of strings."
   ]
  },
  {
   "cell_type": "code",
   "execution_count": 8,
   "id": "da8276a1-7a9c-4a7f-8039-0055fad2ee91",
   "metadata": {},
   "outputs": [
    {
     "name": "stdout",
     "output_type": "stream",
     "text": [
      "Orginal string set {456, 123, 789}\n",
      "Final string set {'123', '789', '456'}\n"
     ]
    }
   ],
   "source": [
    "string_set = {123, 456, 789}\n",
    "str_set=set()\n",
    "\n",
    "for num in string_set:\n",
    "    str_val = str(num)\n",
    "    str_set.add(str_val)\n",
    "\n",
    "print(\"Orginal string set\", string_set)\n",
    "print(\"Final string set\", str_set)"
   ]
  },
  {
   "cell_type": "markdown",
   "id": "1282114c-7ea1-4d59-b3c2-038b0c6a903e",
   "metadata": {},
   "source": [
    "36. Create a set from a tuple."
   ]
  },
  {
   "cell_type": "code",
   "execution_count": 9,
   "id": "faadfe28-2686-455a-b59c-c54f6e0425dd",
   "metadata": {},
   "outputs": [
    {
     "data": {
      "text/plain": [
       "{1, 2, 3, 4, 5, 6, 7, 43}"
      ]
     },
     "execution_count": 9,
     "metadata": {},
     "output_type": "execute_result"
    }
   ],
   "source": [
    "tu_1=(1,2,3,4,3,2,5,6,7,5,43)\n",
    "set_ntuple = set(tu_1)\n",
    "set_ntuple"
   ]
  },
  {
   "cell_type": "markdown",
   "id": "2f7bfcd7-5afa-4d62-8ab8-1d0a82d969ab",
   "metadata": {},
   "source": [
    "37. Convert a set to a tuple."
   ]
  },
  {
   "cell_type": "code",
   "execution_count": 11,
   "id": "8a0bba75-855e-44cc-8d43-7c9793e847ff",
   "metadata": {},
   "outputs": [
    {
     "data": {
      "text/plain": [
       "(1, 2, 3, 4, 5, 6, 7)"
      ]
     },
     "execution_count": 11,
     "metadata": {},
     "output_type": "execute_result"
    }
   ],
   "source": [
    "s = {1,2,3,4,5,6,6,7}\n",
    "t = tuple(s)\n",
    "t"
   ]
  },
  {
   "cell_type": "code",
   "execution_count": null,
   "id": "c5a0be4d-7aef-4240-b040-8bc606f235aa",
   "metadata": {},
   "outputs": [],
   "source": [
    "38. Find the maximum value in a set."
   ]
  },
  {
   "cell_type": "code",
   "execution_count": 13,
   "id": "86863f7e-bfff-4875-9fd2-bfd4d4ab67fd",
   "metadata": {},
   "outputs": [
    {
     "data": {
      "text/plain": [
       "7"
      ]
     },
     "execution_count": 13,
     "metadata": {},
     "output_type": "execute_result"
    }
   ],
   "source": [
    "s\n",
    "s1=max(s)\n",
    "s1"
   ]
  },
  {
   "cell_type": "markdown",
   "id": "2bec169f-f619-4ea0-b520-ea0b53e76215",
   "metadata": {},
   "source": [
    "39. Find the minimum value in a set."
   ]
  },
  {
   "cell_type": "code",
   "execution_count": 14,
   "id": "95c7b7a3-5d6a-4249-9e55-626a23e9f346",
   "metadata": {},
   "outputs": [
    {
     "data": {
      "text/plain": [
       "1"
      ]
     },
     "execution_count": 14,
     "metadata": {},
     "output_type": "execute_result"
    }
   ],
   "source": [
    "s\n",
    "s2=min(s)\n",
    "s2"
   ]
  },
  {
   "cell_type": "markdown",
   "id": "3e1010fe-4df1-40bd-8917-59c3df0828b3",
   "metadata": {},
   "source": [
    "40. Create a set from user input."
   ]
  },
  {
   "cell_type": "code",
   "execution_count": 17,
   "id": "70ded3b2-532b-4258-83cf-81b8e681fae9",
   "metadata": {},
   "outputs": [
    {
     "name": "stdout",
     "output_type": "stream",
     "text": [
      "enter the elements and finish to done\n"
     ]
    },
    {
     "name": "stdin",
     "output_type": "stream",
     "text": [
      ">> paras\n",
      ">> sharma\n",
      ">> hello\n",
      ">> finish\n"
     ]
    },
    {
     "name": "stdout",
     "output_type": "stream",
     "text": [
      "Final set: {'sharma', 'paras', 'hello'}\n"
     ]
    }
   ],
   "source": [
    "user_set = set()\n",
    "print(\"enter the elements and finish to done\")\n",
    "\n",
    "while True:\n",
    "    user_in = input(\">>\")\n",
    "    if user_in.lower() == \"finish\":\n",
    "        break\n",
    "    user_set.add(user_in)\n",
    "print(\"Final set:\", user_set)"
   ]
  },
  {
   "cell_type": "markdown",
   "id": "ddf21191-e7fe-4daa-8bd8-09ba9e69a4f0",
   "metadata": {},
   "source": [
    "41. Check if the intersection of two sets is empty."
   ]
  },
  {
   "cell_type": "code",
   "execution_count": 19,
   "id": "a74b4d8a-39bf-4c43-95a2-8ecf36a449f0",
   "metadata": {},
   "outputs": [
    {
     "name": "stdout",
     "output_type": "stream",
     "text": [
      "the interaction for two sets is not empty\n"
     ]
    }
   ],
   "source": [
    "set1 = {1, 2, 3, 4, 5}\n",
    "set2 = {4, 5, 6, 7, 8}\n",
    "\n",
    "chk_interaction = set1.intersection(set2)\n",
    "if not chk_interaction:\n",
    "    print(\"the interaction for two sets is empty\")\n",
    "else:\n",
    "    print(\"the interaction for two sets is not empty\")"
   ]
  },
  {
   "cell_type": "markdown",
   "id": "26ca6311-03a0-4f53-b305-377e28ef9f7a",
   "metadata": {},
   "source": [
    "42. Create a set of the first 5 Fibonacci numbers."
   ]
  },
  {
   "cell_type": "code",
   "execution_count": 20,
   "id": "874af7d5-57de-4eae-a9b9-98d949303bbe",
   "metadata": {},
   "outputs": [
    {
     "name": "stdout",
     "output_type": "stream",
     "text": [
      "The fibonacci is : {0, 1, 2, 3, 5}\n"
     ]
    }
   ],
   "source": [
    "fibonacci_set = set()\n",
    "a,b = 0,1\n",
    "\n",
    "for _ in range(6):\n",
    "    fibonacci_set.add(a)\n",
    "    a,b = b,a+b\n",
    "    \n",
    "print(\"The fibonacci is :\", fibonacci_set)\n",
    "    "
   ]
  },
  {
   "cell_type": "markdown",
   "id": "99e1723d-21f5-45e2-88fc-36205ac70181",
   "metadata": {},
   "source": [
    "43. Remove duplicates from a list using sets."
   ]
  },
  {
   "cell_type": "code",
   "execution_count": 21,
   "id": "754a50c5-3c4b-4402-a47d-da1fdb182f1d",
   "metadata": {},
   "outputs": [
    {
     "data": {
      "text/plain": [
       "{1, 2, 3, 4, 5, 6}"
      ]
     },
     "execution_count": 21,
     "metadata": {},
     "output_type": "execute_result"
    }
   ],
   "source": [
    "l1 = [1,2,3,4,5,6,4,2,3,1,2]\n",
    "s3 = set(l1)\n",
    "s3"
   ]
  },
  {
   "cell_type": "markdown",
   "id": "6221dae2-b68b-45f7-9ca6-c8049864206b",
   "metadata": {},
   "source": [
    "44. Check if two sets have the same elements, regardless of their count."
   ]
  },
  {
   "cell_type": "code",
   "execution_count": 23,
   "id": "0ef87293-e403-44a2-baef-8c94aa562628",
   "metadata": {},
   "outputs": [
    {
     "name": "stdout",
     "output_type": "stream",
     "text": [
      "The sets have diff elements\n"
     ]
    }
   ],
   "source": [
    "def same_elements(set_1,set_2):\n",
    "    sortedt_list1 = sorted(list(set_1))\n",
    "    sortedt_list2 = sorted(list(set_2))\n",
    "    return sortedt_list1 == sortedt_list2\n",
    "\n",
    "set_1 = {1,2,4,2,1,3}\n",
    "set_2 = {1,2,3}\n",
    "\n",
    "k = same_elements(set_1,set_2)\n",
    "if k:\n",
    "    print(\"The sets have same elements\")\n",
    "else:\n",
    "    print(\"The sets have diff elements\")\n",
    "    "
   ]
  },
  {
   "cell_type": "markdown",
   "id": "61bc2df6-de6c-4198-be7e-ca90ed4a088d",
   "metadata": {},
   "source": [
    "45. Create a set of the first `n` powers of 2."
   ]
  },
  {
   "cell_type": "code",
   "execution_count": 24,
   "id": "6cdfab74-d854-4d19-bd99-82ddb7beca9c",
   "metadata": {},
   "outputs": [
    {
     "data": {
      "text/plain": [
       "{1, 2, 4, 8, 16}"
      ]
     },
     "execution_count": 24,
     "metadata": {},
     "output_type": "execute_result"
    }
   ],
   "source": [
    "n=5\n",
    "n_power_set = set(2**i for i in range(n))\n",
    "n_power_set"
   ]
  },
  {
   "cell_type": "markdown",
   "id": "c5a7d3e3-9fd4-48ee-bc31-a68c628e728d",
   "metadata": {},
   "source": [
    "46. Find the common elements between a set and a list."
   ]
  },
  {
   "cell_type": "code",
   "execution_count": 25,
   "id": "2e9f9dbd-406b-4078-b5d4-e3f5f2cab912",
   "metadata": {},
   "outputs": [
    {
     "name": "stdout",
     "output_type": "stream",
     "text": [
      "Common Elements: [7, 9, 12]\n"
     ]
    }
   ],
   "source": [
    "my_set = {3, 7, 9, 12, 15}\n",
    "my_list = [7, 12, 5, 9]\n",
    "\n",
    "common_element = []\n",
    "\n",
    "list_to_set = set(my_list)\n",
    "\n",
    "for i in my_set:\n",
    "    if i in list_to_set:\n",
    "        common_element.append(i)\n",
    "        \n",
    "print(\"Common Elements:\", common_element)"
   ]
  },
  {
   "cell_type": "markdown",
   "id": "a94ca6df-c026-4e83-bffb-9ff14405e87e",
   "metadata": {},
   "source": [
    "47. Create a set of the first `n` triangular numbers."
   ]
  },
  {
   "cell_type": "code",
   "execution_count": 27,
   "id": "3dd55920-f5a3-4e92-b925-c79b720b411f",
   "metadata": {},
   "outputs": [
    {
     "name": "stdout",
     "output_type": "stream",
     "text": [
      "{1, 3, 36, 6, 10, 45, 15, 21, 55, 28}\n"
     ]
    }
   ],
   "source": [
    "def triangular_m(n):\n",
    "    triangulars_numbers = set()\n",
    "    for i in range(1,n+1):\n",
    "        h = i*(i+1) // 2\n",
    "        triangulars_numbers.add(h)\n",
    "    return triangulars_numbers\n",
    "\n",
    "l = triangular_m(10)\n",
    "print(l)\n",
    "        \n",
    "        \n",
    "        "
   ]
  },
  {
   "cell_type": "markdown",
   "id": "3d4996ba-a0ac-4775-a7e7-a5db980e8be9",
   "metadata": {},
   "source": [
    "48. Check if a set contains another set as a subset."
   ]
  },
  {
   "cell_type": "code",
   "execution_count": 29,
   "id": "694c5d44-bbf8-45b7-a66f-e7fffa5a39e5",
   "metadata": {},
   "outputs": [
    {
     "data": {
      "text/plain": [
       "True"
      ]
     },
     "execution_count": 29,
     "metadata": {},
     "output_type": "execute_result"
    }
   ],
   "source": [
    "set1 = {1, 2, 3, 4, 5}\n",
    "set2 = {3, 4}\n",
    "\n",
    "k = set2.issubset(set1)\n",
    "k"
   ]
  },
  {
   "cell_type": "markdown",
   "id": "524b1c68-4cc6-4871-ba81-d4e3049cf94d",
   "metadata": {},
   "source": [
    "49. Create a set of alternating 1s and 0s of length `n`."
   ]
  },
  {
   "cell_type": "code",
   "execution_count": 33,
   "id": "39a5ccc2-d21c-49fa-af0d-7a1f6e207f45",
   "metadata": {},
   "outputs": [
    {
     "data": {
      "text/plain": [
       "{0, 1}"
      ]
     },
     "execution_count": 33,
     "metadata": {},
     "output_type": "execute_result"
    }
   ],
   "source": [
    "n = 10\n",
    "j = set(i%2 for i in range(n))\n",
    "j"
   ]
  },
  {
   "cell_type": "markdown",
   "id": "c9aca12e-7421-4a63-9a2a-6e0adc333ac7",
   "metadata": {},
   "source": [
    "50. Merge multiple sets into one."
   ]
  },
  {
   "cell_type": "code",
   "execution_count": 34,
   "id": "8bd2c407-e83b-4af5-b23b-91b1059b4669",
   "metadata": {},
   "outputs": [
    {
     "name": "stdout",
     "output_type": "stream",
     "text": [
      "Merged Set: {1, 2, 3, 4, 5, 6, 7}\n"
     ]
    }
   ],
   "source": [
    "set1 = {1, 2, 3}\n",
    "set2 = {3, 4, 5}\n",
    "set3 = {5, 6, 7}\n",
    "merged_set = set1.union(set2, set3)\n",
    "print(\"Merged Set:\", merged_set)"
   ]
  },
  {
   "cell_type": "code",
   "execution_count": null,
   "id": "c2ff081a-7b8f-4deb-8d2a-d5c07abb2883",
   "metadata": {},
   "outputs": [],
   "source": []
  }
 ],
 "metadata": {
  "kernelspec": {
   "display_name": "Python 3 (ipykernel)",
   "language": "python",
   "name": "python3"
  },
  "language_info": {
   "codemirror_mode": {
    "name": "ipython",
    "version": 3
   },
   "file_extension": ".py",
   "mimetype": "text/x-python",
   "name": "python",
   "nbconvert_exporter": "python",
   "pygments_lexer": "ipython3",
   "version": "3.10.8"
  }
 },
 "nbformat": 4,
 "nbformat_minor": 5
}
